{
 "cells": [
  {
   "cell_type": "code",
   "execution_count": 250,
   "id": "72db76b6-c438-45aa-9dc1-b0de49408706",
   "metadata": {
    "tags": []
   },
   "outputs": [],
   "source": [
    "import matplotlib.pyplot as plt\n",
    "import numpy as np\n",
    "import cirq\n",
    "from cirq.contrib.svg import SVGCircuit\n",
    "import random as rd\n",
    "from sympy import *\n",
    "import tensorflow as tf\n",
    "import tensorflow_quantum as tfq\n",
    "import math\n",
    "import re\n",
    "import itertools\n",
    "from numpy import linalg as LA\n",
    "from scipy.stats import poisson\n",
    "import time\n",
    "from random import choices\n",
    "from random import uniform\n",
    "import pandas as pd"
   ]
  },
  {
   "cell_type": "code",
   "execution_count": 251,
   "id": "46f1f7b3-e2d1-4033-8538-9376cf5f4b04",
   "metadata": {
    "tags": []
   },
   "outputs": [],
   "source": [
    "r_by_k = {2 : 1, 3: 6.43, 4: 20.43, 5 : 45.7, 6: 70.21, 7: 123.2, 8: 176.54, 10: 708.92, 16: 45425.2}\n",
    "\n",
    "def generate_instance(k: int, n: int) -> np.ndarray:\n",
    "    #generate an instance of random k-SAT with n variables in the satisfiability threshold\n",
    "    if not (r := r_by_k.get(k)):\n",
    "        raise ValueError(f\"k must be in {list(r_by_k)} (got {k})\")\n",
    "    \n",
    "    m = poisson(r*n).rvs()\n",
    "    #return np.random.choice(all_vars, size=(m, k))\n",
    "    all_variables = []\n",
    "    all_signs = []\n",
    "    for i in range(m):\n",
    "        #all_signs.append([rd.choice(l) for i in range(k)])\n",
    "        all_variables.append(choices(all_vars, k = k))\n",
    "\n",
    "    all_variables = np.array(all_variables)\n",
    "    #all_signs = np.array(all_signs)\n",
    "    return all_variables"
   ]
  },
  {
   "cell_type": "code",
   "execution_count": 252,
   "id": "2f48d357-9a32-48e4-a033-fb24ef079fd1",
   "metadata": {
    "tags": []
   },
   "outputs": [],
   "source": [
    "def generate_binary_strings(bit_count):\n",
    "    binary_strings = []\n",
    "    \n",
    "    def genbin(n, bs=''):\n",
    "        if len(bs) == n:\n",
    "            binary_strings.append(bs)\n",
    "        else:\n",
    "            genbin(n, bs + '0')\n",
    "            genbin(n, bs + '1')\n",
    "\n",
    "    genbin(bit_count)\n",
    "    return binary_strings"
   ]
  },
  {
   "cell_type": "code",
   "execution_count": 253,
   "id": "ef9a68f0-570c-43e5-bc50-f9c4a83f2131",
   "metadata": {
    "tags": []
   },
   "outputs": [],
   "source": [
    "def dimacs_writer(dimacs_filename, cnf_array):\n",
    "    #writes the dimacs file with the CNF\n",
    "    cnf = cnf_array\n",
    "    cnf_length = len(cnf)\n",
    "    n_sat = len(cnf[0])\n",
    "    var_num = np.max(cnf) \n",
    "    with open(dimacs_filename, \"w\") as f:\n",
    "\n",
    "        f.write('c DIMACS file CNF '+str(n_sat)+'-SAT \\n')\n",
    "        f.write(\"p cnf {} {}\\n\".format(var_num, cnf_length))\n",
    "        \n",
    "        for i, clause in enumerate(cnf):\n",
    "            line = clause.tolist()\n",
    "            if i == cnf_length - 1:\n",
    "                s = ' '.join(str(x) for x in line)+' 0'\n",
    "                f.write(s)\n",
    "            else: \n",
    "                s = ' '.join(str(x) for x in line)+' 0 \\n'\n",
    "                f.write(s)\n",
    "                \n",
    "class Verifier():\n",
    "    #verifier from Qiskit page, takes a bit string and checks if cnf is satisfied\n",
    "    def __init__(self, dimacs_file):\n",
    "        with open(dimacs_file, 'r') as f:\n",
    "            self.dimacs = f.read()\n",
    "\n",
    "    def is_correct(self, guess):\n",
    "        # Convert characters to bools & reverse\n",
    "        guess = [bool(int(x)) for x in guess][::-1]\n",
    "        for line in self.dimacs.split('\\n'):\n",
    "            line = line.strip(' 0')\n",
    "            clause_eval = False\n",
    "            for literal in line.split(' '):\n",
    "                if literal in ['p', 'c']:\n",
    "                    # line is not a clause\n",
    "                    clause_eval = True\n",
    "                    break\n",
    "                if '-' in literal:\n",
    "                    literal = literal.strip('-')\n",
    "                    lit_eval = not guess[int(literal)-1]\n",
    "                else:\n",
    "                    lit_eval = guess[int(literal)-1]\n",
    "                clause_eval |= lit_eval\n",
    "            if clause_eval is False:\n",
    "                return False\n",
    "        return True"
   ]
  },
  {
   "cell_type": "code",
   "execution_count": 254,
   "id": "e9d11b90-1984-4840-8908-8c957d66c50c",
   "metadata": {
    "tags": []
   },
   "outputs": [],
   "source": [
    "def my_gate(c, index):\n",
    "    g = c * cirq.Z.on(qubits[index]) + cirq.I.on(qubits[index])\n",
    "    return g\n",
    "\n",
    "def ham_layer(diagonal, circuit, qubits, par):\n",
    "    \n",
    "    l = cirq.DiagonalGate(diagonal)._decompose_(qubits)\n",
    "    l.pop(0)\n",
    "    for j, gate in enumerate(l):\n",
    "\n",
    "        if j % 2 == 0:\n",
    "            dictn = gate._json_dict_()\n",
    "            my_string = str(dictn['gate'])\n",
    "            my_other_string = str(dictn['qubits'])\n",
    "            number_p = re.findall(\"\\d+\\.\\d+\", my_string)\n",
    "            res_p = [eval(i) for i in number_p]\n",
    "            if '-' in my_string:\n",
    "                sign = -1\n",
    "            else:\n",
    "                sign = 1\n",
    "            \n",
    "            number_q = re.findall(r'\\d+', my_other_string)\n",
    "            res_q = [eval(i) for i in number_q]\n",
    "            kernel = sign*par*res_p[0]*np.pi\n",
    "            rzgate = cirq.rz(kernel).on(qubits[res_q[1]])\n",
    "            circuit.append(rzgate)\n",
    "        else:\n",
    "            circuit.append(gate)\n",
    "\n",
    "def mixing_circuit(circuit, qubits, par):\n",
    "    for i in range(len(qubits)):\n",
    "        circuit.append(cirq.rx(par).on(qubits[i]))\n",
    "    return circuit"
   ]
  },
  {
   "cell_type": "code",
   "execution_count": 255,
   "id": "3fabd85a-95d5-4e44-bd46-6c0e3d40f6ac",
   "metadata": {
    "tags": []
   },
   "outputs": [],
   "source": [
    "def circuit_from_dimacs(dimacs_file, binary_strings, nqubits, qubits, layers, parameters):\n",
    "    \n",
    "    with open(dimacs_file, 'r') as f:\n",
    "            dimacs = f.read()\n",
    "    \n",
    "    unsat_list = []\n",
    "\n",
    "    for key in binary_strings:\n",
    "        guess = [bool(int(x)) for x in key][::-1]\n",
    "\n",
    "        clause_eval_list = []\n",
    "        counter = 0\n",
    "        for j, line in enumerate(dimacs.split('\\n')):\n",
    "\n",
    "            line = line.strip(' 0')\n",
    "            clause_eval = False\n",
    "\n",
    "            for literal in line.split(' '):\n",
    "                if literal in ['p', 'c']:\n",
    "                    #line is not a clause\n",
    "                    clause_eval = True\n",
    "                    break\n",
    "                if '-' in literal:\n",
    "                    literal = literal.strip('-')\n",
    "                    lit_eval = not guess[int(literal)-1]\n",
    "                else:\n",
    "                    lit_eval = guess[int(literal)-1]\n",
    "                clause_eval |= lit_eval\n",
    "            if j > 1:\n",
    "                counter += 1\n",
    "                clause_eval_list.append(clause_eval)\n",
    "        unsat_clauses = counter - sum(clause_eval_list)\n",
    "        unsat_list.append(unsat_clauses)\n",
    "\n",
    "    diagonal = unsat_list\n",
    "    combinations = [p for p in itertools.product([1, -1], repeat=nqubits)]\n",
    "\n",
    "    ops_list = []\n",
    "    for j, combination in enumerate(combinations):\n",
    "        ops_list.append((diagonal[j]/2**nqubits)*math.prod([my_gate(combination[i], i) for i in range(nqubits)]))\n",
    "\n",
    "    cost = np.sum(ops_list)\n",
    "    cost_m = cost.matrix()\n",
    "    gs_energy = np.real(min(LA.eig(cost_m)[0]))\n",
    "    \n",
    "    qaoa_circuit = cirq.Circuit()\n",
    "    num_param = 2 * layers\n",
    "\n",
    "    for i in range(layers):\n",
    "        ham_layer(diagonal, qaoa_circuit, qubits, parameters[2 * i])\n",
    "        mixing_circuit(qaoa_circuit, qubits, parameters[2 * i + 1])\n",
    "\n",
    "    return qaoa_circuit, cost"
   ]
  },
  {
   "cell_type": "markdown",
   "id": "a377ec9d-9b20-4559-9d75-6d92ebe4b799",
   "metadata": {
    "tags": []
   },
   "source": [
    "## Sampling with fixed parameters"
   ]
  },
  {
   "cell_type": "code",
   "execution_count": 307,
   "id": "a5380ee0-e7ff-484b-b490-19ca79ab135b",
   "metadata": {
    "tags": []
   },
   "outputs": [],
   "source": [
    "k = 3 #length of clauses\n",
    "n_var = 5 #number of variables\n",
    "nqubits = n_var #number of qubits in the circuit\n",
    "p = 3 #number of layers for QAOA circuit\n",
    "qubits = [cirq.GridQubit(0,i) for i in range(nqubits)]\n",
    "all_vars = [i for i in range(-n_var,n_var+1)]\n",
    "all_vars = [i for i in all_vars if i != 0]"
   ]
  },
  {
   "cell_type": "code",
   "execution_count": 308,
   "id": "0ca30f9d-064d-4f9d-981f-bda4423f5dcb",
   "metadata": {
    "tags": []
   },
   "outputs": [
    {
     "data": {
      "text/plain": [
       "[<tf.Variable 'Variable:0' shape=(6,) dtype=float64, numpy=\n",
       " array([0.29873547, 0.95836249, 0.45951017, 0.7904564 , 0.6999537 ,\n",
       "        0.5433853 ])>]"
      ]
     },
     "execution_count": 308,
     "metadata": {},
     "output_type": "execute_result"
    }
   ],
   "source": [
    "df = pd.read_csv(\"data/pars_k_\"+str(k)+\"_nvar_\"+str(n_var)+\"_layers_\"+str(p)+\".csv\")\n",
    "df = df.apply(lambda x: abs(x))\n",
    "df = df.loc[:, ~df.columns.str.contains('^Unnamed')]    \n",
    "\n",
    "parameters = symbols(\"q0:%d\" % (2*p))\n",
    "binary_strings = generate_binary_strings(nqubits)\n",
    "p_values = [tf.Variable(np.array(df.mean(axis=0)))]\n",
    "p_values"
   ]
  },
  {
   "cell_type": "code",
   "execution_count": 319,
   "id": "8bfe1c12-4126-496d-830c-2ba67da10bf0",
   "metadata": {
    "tags": []
   },
   "outputs": [],
   "source": [
    "dimacs_file = \"data/sampling_cnf_BM_temp.dimacs\" \n",
    "\n",
    "valid_keys = []\n",
    "while not valid_keys:\n",
    "    #only accepts satisfiable CNFs\n",
    "    inst = generate_instance(k, n_var)\n",
    "    dimacs_writer(dimacs_file, inst)\n",
    "    v = Verifier(dimacs_file)\n",
    "\n",
    "    for key in binary_strings:\n",
    "        if v.is_correct(key) == True:\n",
    "            valid_keys.append(key)"
   ]
  },
  {
   "cell_type": "code",
   "execution_count": 331,
   "id": "a57c6127-6f36-476c-a468-6f3b4754ca2d",
   "metadata": {
    "tags": []
   },
   "outputs": [],
   "source": [
    "qaoa_circuit, cost = circuit_from_dimacs(dimacs_file, binary_strings, nqubits, qubits, p, parameters)"
   ]
  },
  {
   "cell_type": "code",
   "execution_count": 360,
   "id": "aedefbe4-979c-4912-bea5-300e2bf2fdae",
   "metadata": {
    "tags": []
   },
   "outputs": [
    {
     "name": "stdout",
     "output_type": "stream",
     "text": [
      "Time spent in sampling:  0.04959869384765625\n"
     ]
    }
   ],
   "source": [
    "initial = cirq.Circuit()\n",
    "n_samples = 1\n",
    "for qubit in qubits:\n",
    "    initial.append(cirq.H(qubit)) #applying Hadamard to all qubits before running circuit\n",
    "\n",
    "start = time.time()\n",
    "\n",
    "inputs = tfq.convert_to_tensor([initial])\n",
    "sample_circuit = tfq.layers.AddCircuit()(inputs, append=qaoa_circuit)\n",
    "output = tfq.layers.Sample()(sample_circuit, symbol_names=parameters, symbol_values=p_values, repetitions = n_samples)\n",
    "\n",
    "end = time.time()\n",
    "\n",
    "print(\"Time spent in sampling: \",end - start)\n",
    "\n",
    "def to_dec(x):\n",
    "    return int(\"\".join(str(i) for i in x), 2) \n",
    "\n",
    "quantum_preds = []\n",
    "data = []\n",
    "for bits in output.values:\n",
    "    temp = []\n",
    "    data.append(to_dec(bits.numpy()))\n",
    "    for pos, bit in enumerate(bits):\n",
    "        if bit == 1:\n",
    "            temp.append(pos)\n",
    "    quantum_preds.append(temp)"
   ]
  },
  {
   "cell_type": "code",
   "execution_count": 359,
   "id": "bbd93197-06eb-44aa-a10a-d69788eeeee4",
   "metadata": {
    "tags": []
   },
   "outputs": [
    {
     "data": {
      "text/plain": [
       "['01001', '01011']"
      ]
     },
     "execution_count": 359,
     "metadata": {},
     "output_type": "execute_result"
    }
   ],
   "source": [
    "valid_keys"
   ]
  },
  {
   "cell_type": "code",
   "execution_count": 356,
   "id": "10669b7e-3bfa-4a8e-9916-6daeaa848993",
   "metadata": {
    "tags": []
   },
   "outputs": [],
   "source": [
    "successes = 0\n",
    "out_array = output[0][0].numpy().tolist()\n",
    "s = ''.join(str(x) for x in out_array)\n",
    "s\n",
    "if s in valid_keys:\n",
    "    successes += 1"
   ]
  },
  {
   "cell_type": "code",
   "execution_count": 357,
   "id": "dde105ed-6e4c-4e1f-af87-73bbafe3fe44",
   "metadata": {
    "tags": []
   },
   "outputs": [
    {
     "data": {
      "text/plain": [
       "0"
      ]
     },
     "execution_count": 357,
     "metadata": {},
     "output_type": "execute_result"
    }
   ],
   "source": [
    "successes"
   ]
  },
  {
   "cell_type": "code",
   "execution_count": null,
   "id": "a9ae9604-ba4c-4f60-8824-3137cd63225c",
   "metadata": {
    "tags": []
   },
   "outputs": [
    {
     "data": {
      "image/png": "[encoded data removed]",
      "text/plain": [
       "<Figure size 2500x300 with 1 Axes>"
      ]
     },
     "metadata": {},
     "output_type": "display_data"
    }
   ],
   "source": [
    "xticks = range(0, 2**nqubits)\n",
    "xtick_labels = list(map(lambda x: format(x, \"0\"+str(nqubits)+\"b\"), xticks))\n",
    "bins = np.arange(0, 2**nqubits + 1) - 0.5\n",
    "\n",
    "plt.figure(figsize=(25,3))\n",
    "plt.xticks(xticks, xtick_labels, rotation=\"vertical\")\n",
    "plt.hist(data, bins=bins, color = \"darkorange\", lw=0)\n",
    "#plt.savefig('hist_custom_sat.pdf')\n",
    "plt.show()"
   ]
  },
  {
   "cell_type": "code",
   "execution_count": null,
   "id": "4334a159-2071-4ae2-b1dc-014a8f56a95a",
   "metadata": {
    "tags": []
   },
   "outputs": [],
   "source": [
    "successes = 0\n",
    "\n",
    "for i in range(n_samples):\n",
    "    out_array = output[0][i].numpy().tolist()\n",
    "    s = ''.join(str(x) for x in out_array)\n",
    "    if (s in valid_keys):\n",
    "        successes += 1\n",
    "\n",
    "s_rate = successes/n_samples"
   ]
  },
  {
   "cell_type": "code",
   "execution_count": null,
   "id": "c6c30a53-e87d-4dc0-bbca-9759dc959788",
   "metadata": {
    "tags": []
   },
   "outputs": [
    {
     "data": {
      "text/plain": [
       "(542, 0.542)"
      ]
     },
     "execution_count": 330,
     "metadata": {},
     "output_type": "execute_result"
    }
   ],
   "source": [
    "successes, s_rate"
   ]
  }
 ],
 "metadata": {
  "kernelspec": {
   "display_name": "Python 3 (ipykernel)",
   "language": "python",
   "name": "python3"
  },
  "language_info": {
   "codemirror_mode": {
    "name": "ipython",
    "version": 3
   },
   "file_extension": ".py",
   "mimetype": "text/x-python",
   "name": "python",
   "nbconvert_exporter": "python",
   "pygments_lexer": "ipython3",
   "version": "3.9.0"
  }
 },
 "nbformat": 4,
 "nbformat_minor": 5
}
