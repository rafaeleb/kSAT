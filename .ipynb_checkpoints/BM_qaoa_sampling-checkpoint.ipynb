{
 "cells": [
  {
   "cell_type": "code",
   "execution_count": 13,
   "id": "72db76b6-c438-45aa-9dc1-b0de49408706",
   "metadata": {
    "tags": []
   },
   "outputs": [],
   "source": [
    "import matplotlib.pyplot as plt\n",
    "import numpy as np\n",
    "import cirq\n",
    "from cirq.contrib.svg import SVGCircuit\n",
    "import random as rd\n",
    "from sympy import *\n",
    "import tensorflow as tf\n",
    "import tensorflow_quantum as tfq\n",
    "import math\n",
    "import re\n",
    "import itertools\n",
    "from numpy import linalg as LA\n",
    "from scipy.stats import poisson\n",
    "import time\n",
    "from random import choices\n",
    "from random import uniform\n",
    "import pandas as pd"
   ]
  },
  {
   "cell_type": "code",
   "execution_count": 14,
   "id": "a5380ee0-e7ff-484b-b490-19ca79ab135b",
   "metadata": {
    "tags": []
   },
   "outputs": [],
   "source": [
    "k = 5 #length of clauses\n",
    "n_var = 7 #number of variables\n",
    "nqubits = n_var #number of qubits in the circuit\n",
    "p = 3 #number of layers for QAOA circuit\n",
    "all_vars = [i for i in range(-n_var,n_var+1)]\n",
    "all_vars = [i for i in all_vars if i != 0]"
   ]
  },
  {
   "cell_type": "code",
   "execution_count": 15,
   "id": "46f1f7b3-e2d1-4033-8538-9376cf5f4b04",
   "metadata": {
    "tags": []
   },
   "outputs": [],
   "source": [
    "r_by_k = {2 : 1, 3: 6.43, 4: 20.43, 5 : 45.7, 6: 70.21, 7: 123.2, 8: 176.54, 10: 708.92, 16: 45425.2}\n",
    "\n",
    "def generate_instance(k: int, n: int) -> np.ndarray:\n",
    "    #generate an instance of random k-SAT with n variables in the satisfiability threshold\n",
    "    if not (r := r_by_k.get(k)):\n",
    "        raise ValueError(f\"k must be in {list(r_by_k)} (got {k})\")\n",
    "    \n",
    "    m = poisson(r*n).rvs()\n",
    "    #return np.random.choice(all_vars, size=(m, k))\n",
    "    all_variables = []\n",
    "    all_signs = []\n",
    "    for i in range(m):\n",
    "        #all_signs.append([rd.choice(l) for i in range(k)])\n",
    "        all_variables.append(choices(all_vars, k = k))\n",
    "\n",
    "    all_variables = np.array(all_variables)\n",
    "    #all_signs = np.array(all_signs)\n",
    "    return all_variables"
   ]
  },
  {
   "cell_type": "code",
   "execution_count": 16,
   "id": "2f48d357-9a32-48e4-a033-fb24ef079fd1",
   "metadata": {
    "tags": []
   },
   "outputs": [],
   "source": [
    "def generate_binary_strings(bit_count):\n",
    "    binary_strings = []\n",
    "    \n",
    "    def genbin(n, bs=''):\n",
    "        if len(bs) == n:\n",
    "            binary_strings.append(bs)\n",
    "        else:\n",
    "            genbin(n, bs + '0')\n",
    "            genbin(n, bs + '1')\n",
    "\n",
    "    genbin(bit_count)\n",
    "    return binary_strings"
   ]
  },
  {
   "cell_type": "code",
   "execution_count": 17,
   "id": "ef9a68f0-570c-43e5-bc50-f9c4a83f2131",
   "metadata": {
    "tags": []
   },
   "outputs": [],
   "source": [
    "def dimacs_writer(dimacs_filename, cnf_array):\n",
    "    #writes the dimacs file with the CNF\n",
    "    cnf = cnf_array\n",
    "    cnf_length = len(cnf)\n",
    "    n_sat = len(cnf[0])\n",
    "    var_num = np.max(cnf) \n",
    "    with open(dimacs_filename, \"w\") as f:\n",
    "\n",
    "        f.write('c DIMACS file CNF '+str(n_sat)+'-SAT \\n')\n",
    "        f.write(\"p cnf {} {}\\n\".format(var_num, cnf_length))\n",
    "        \n",
    "        for i, clause in enumerate(cnf):\n",
    "            line = clause.tolist()\n",
    "            if i == cnf_length - 1:\n",
    "                s = ' '.join(str(x) for x in line)+' 0'\n",
    "                f.write(s)\n",
    "            else: \n",
    "                s = ' '.join(str(x) for x in line)+' 0 \\n'\n",
    "                f.write(s)\n",
    "                \n",
    "class Verifier():\n",
    "    #verifier from Qiskit page, takes a bit string and checks if cnf is satisfied\n",
    "    def __init__(self, dimacs_file):\n",
    "        with open(dimacs_file, 'r') as f:\n",
    "            self.dimacs = f.read()\n",
    "\n",
    "    def is_correct(self, guess):\n",
    "        # Convert characters to bools & reverse\n",
    "        guess = [bool(int(x)) for x in guess][::-1]\n",
    "        for line in self.dimacs.split('\\n'):\n",
    "            line = line.strip(' 0')\n",
    "            clause_eval = False\n",
    "            for literal in line.split(' '):\n",
    "                if literal in ['p', 'c']:\n",
    "                    # line is not a clause\n",
    "                    clause_eval = True\n",
    "                    break\n",
    "                if '-' in literal:\n",
    "                    literal = literal.strip('-')\n",
    "                    lit_eval = not guess[int(literal)-1]\n",
    "                else:\n",
    "                    lit_eval = guess[int(literal)-1]\n",
    "                clause_eval |= lit_eval\n",
    "            if clause_eval is False:\n",
    "                return False\n",
    "        return True"
   ]
  },
  {
   "cell_type": "markdown",
   "id": "a377ec9d-9b20-4559-9d75-6d92ebe4b799",
   "metadata": {
    "tags": []
   },
   "source": [
    "## Sampling with fixed parameters"
   ]
  },
  {
   "cell_type": "code",
   "execution_count": 19,
   "id": "8bfe1c12-4126-496d-830c-2ba67da10bf0",
   "metadata": {
    "tags": []
   },
   "outputs": [
    {
     "data": {
      "text/plain": [
       "['0000011']"
      ]
     },
     "execution_count": 19,
     "metadata": {},
     "output_type": "execute_result"
    }
   ],
   "source": [
    "dimacs_file = \"data/sampling_cnf_BM_temp.dimacs\" \n",
    "binary_strings = generate_binary_strings(nqubits)\n",
    "\n",
    "valid_keys = []\n",
    "while not valid_keys:\n",
    "    #only accepts satisfiable CNFs\n",
    "    inst = generate_instance(k, n_var)\n",
    "    dimacs_writer(dimacs_file, inst)\n",
    "    v = Verifier(dimacs_file)\n",
    "\n",
    "    for key in binary_strings:\n",
    "        if v.is_correct(key) == True:\n",
    "            valid_keys.append(key)\n",
    "valid_keys"
   ]
  },
  {
   "cell_type": "markdown",
   "id": "ff6585c8-746a-4994-8c0c-afbb2e2b789f",
   "metadata": {
    "tags": []
   },
   "source": [
    "dimacs_writer(dimacs_file, inst)"
   ]
  },
  {
   "cell_type": "markdown",
   "id": "3fb10388-959a-4568-8ffa-307079f16e61",
   "metadata": {
    "tags": []
   },
   "source": [
    "parameters = symbols(\"q0:%d\" % (2*p))\n",
    "qaoa_circuit, cost = circuit_from_dimacs(dimacs_file, binary_strings, nqubits, qubits, p, parameters)\n",
    "p_values = [tf.Variable(np.array(df.mean(axis=0)))]"
   ]
  },
  {
   "cell_type": "markdown",
   "id": "1ea9147b-ffcb-4151-8eab-71f3b560ce61",
   "metadata": {
    "tags": []
   },
   "source": [
    "p_values"
   ]
  },
  {
   "cell_type": "markdown",
   "id": "a3868b0e-f763-4c3c-9004-2c5d71c7c24a",
   "metadata": {
    "tags": []
   },
   "source": [
    "initial = cirq.Circuit()\n",
    "\n",
    "for qubit in qubits:\n",
    "    initial.append(cirq.H(qubit)) #applying Hadamard to all qubits before running circuit\n",
    "\n",
    "start = time.time()\n",
    "\n",
    "n_samples = 2048\n",
    "inputs = tfq.convert_to_tensor([initial])\n",
    "sample_circuit = tfq.layers.AddCircuit()(inputs, append=qaoa_circuit)\n",
    "output = tfq.layers.Sample()(sample_circuit, symbol_names=parameters, symbol_values=p_values, repetitions = n_samples)\n",
    "\n",
    "end = time.time()\n",
    "\n",
    "print(\"Time spent in sampling: \",end - start)\n",
    "\n",
    "def to_dec(x):\n",
    "    return int(\"\".join(str(i) for i in x), 2) \n",
    "\n",
    "quantum_preds = []\n",
    "data = []\n",
    "for bits in output.values:\n",
    "    temp = []\n",
    "    data.append(to_dec(bits.numpy()))\n",
    "    for pos, bit in enumerate(bits):\n",
    "        if bit == 1:\n",
    "            temp.append(pos)\n",
    "    quantum_preds.append(temp)"
   ]
  },
  {
   "cell_type": "markdown",
   "id": "87b47b97-0583-4cdd-be16-dff4163b0dcb",
   "metadata": {
    "tags": []
   },
   "source": [
    "valid_keys"
   ]
  },
  {
   "cell_type": "markdown",
   "id": "e0a79ffb-3641-4804-9cc4-8418cecb13d4",
   "metadata": {
    "tags": []
   },
   "source": [
    "xticks = range(0, 2**nqubits)\n",
    "xtick_labels = list(map(lambda x: format(x, \"0\"+str(nqubits)+\"b\"), xticks))\n",
    "bins = np.arange(0, 2**nqubits + 1) - 0.5\n",
    "\n",
    "plt.figure(figsize=(25,3))\n",
    "plt.xticks(xticks, xtick_labels, rotation=\"vertical\")\n",
    "plt.hist(data, bins=bins, color = \"darkorange\", lw=0)\n",
    "#plt.savefig('hist_custom_sat.pdf')\n",
    "plt.show()"
   ]
  },
  {
   "cell_type": "markdown",
   "id": "c2d13dc8-a419-4f60-93ef-05a55a6e9399",
   "metadata": {
    "tags": []
   },
   "source": [
    "successes = 0\n",
    "\n",
    "for i in range(n_samples):\n",
    "    out_array = output[0][i].numpy().tolist()\n",
    "    s = ''.join(str(x) for x in out_array)\n",
    "    if (s in valid_keys):\n",
    "        successes += 1\n",
    "\n",
    "s_rate = successes/n_samples"
   ]
  },
  {
   "cell_type": "markdown",
   "id": "2dea5668-95e2-4549-bdc0-2c8e8066c5ad",
   "metadata": {
    "tags": []
   },
   "source": [
    "successes, s_rate"
   ]
  },
  {
   "cell_type": "markdown",
   "id": "4c747a7c-4a7f-4f02-99f5-e9f4344efd34",
   "metadata": {
    "tags": []
   },
   "source": [
    "c = 0.57*p**(-0.61)\n",
    "2**(-c*n_var)"
   ]
  },
  {
   "cell_type": "markdown",
   "id": "038db98c-2247-438d-9e5e-a4e7d19d8301",
   "metadata": {},
   "source": []
  }
 ],
 "metadata": {
  "kernelspec": {
   "display_name": "Python 3 (ipykernel)",
   "language": "python",
   "name": "python3"
  },
  "language_info": {
   "codemirror_mode": {
    "name": "ipython",
    "version": 3
   },
   "file_extension": ".py",
   "mimetype": "text/x-python",
   "name": "python",
   "nbconvert_exporter": "python",
   "pygments_lexer": "ipython3",
   "version": "3.9.0"
  }
 },
 "nbformat": 4,
 "nbformat_minor": 5
}
