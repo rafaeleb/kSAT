{
 "cells": [
  {
   "cell_type": "code",
   "execution_count": 682,
   "id": "87ce0eda-7328-4fa8-b0c4-1170611f5b07",
   "metadata": {
    "tags": []
   },
   "outputs": [],
   "source": [
    "import numpy as np\n",
    "import random as rd\n",
    "import math\n",
    "from sympy.parsing.sympy_parser import parse_expr\n",
    "from sympy import Symbol, IndexedBase\n",
    "from sympy import *\n",
    "from qiskit import Aer\n",
    "from qiskit.visualization import plot_histogram\n",
    "from qiskit.utils import QuantumInstance\n",
    "from qiskit.algorithms import Grover, AmplificationProblem\n",
    "from qiskit.circuit.library import PhaseOracle\n",
    "from qiskit.quantum_info import Pauli\n",
    "import re\n",
    "import operator\n",
    "import functools\n",
    "from scipy.stats import poisson\n",
    "from scipy.linalg import expm, sinm, cosm\n",
    "from numpy.linalg import matrix_power\n",
    "from typing import Sequence, Tuple\n",
    "import matplotlib.pyplot as plt\n",
    "import tensorflow as tf\n",
    "import tensorflow_quantum as tfq\n",
    "import cirq\n",
    "from cirq.contrib.svg import SVGCircuit"
   ]
  },
  {
   "cell_type": "code",
   "execution_count": 683,
   "id": "1f571f77-42b4-4b75-b37e-9b103b84570c",
   "metadata": {},
   "outputs": [],
   "source": [
    "k = 3\n",
    "n_var = 6"
   ]
  },
  {
   "cell_type": "code",
   "execution_count": 684,
   "id": "14beb512-64c4-44c4-908f-a392321d640f",
   "metadata": {
    "tags": []
   },
   "outputs": [],
   "source": [
    "all_vars = [i for i in range(-n_var,n_var+1)]\n",
    "all_vars = [i for i in all_vars if i != 0]"
   ]
  },
  {
   "cell_type": "code",
   "execution_count": 685,
   "id": "6609ccf2-4bba-45de-a6e6-de48dffa9151",
   "metadata": {},
   "outputs": [],
   "source": [
    "r_by_k = {2 : 1, 3: 6.43, 8: 176.54, 10: 708.92, 16: 45425.2}\n",
    "\n",
    "def generate_instance(k: int, n: int) -> np.ndarray:\n",
    "    \"\"\"Generate an instance of random k-SAT with n variables\"\"\"\n",
    "    if not (r := r_by_k.get(k)):\n",
    "        raise ValueError(f\"k must be in {list(r_by_k)} (got {k})\")\n",
    "    m = poisson(r*n).rvs()\n",
    "    return np.random.choice(all_vars, size=(m, k))"
   ]
  },
  {
   "cell_type": "code",
   "execution_count": 686,
   "id": "d2e0d243-55f8-434b-978a-5a8747fb43d5",
   "metadata": {},
   "outputs": [],
   "source": [
    "inst = generate_instance(k, n_var)\n",
    "dimacs_filename = \"larger_cnf.dimacs\" "
   ]
  },
  {
   "cell_type": "code",
   "execution_count": 687,
   "id": "36d18f9e-ec40-4737-a492-0c5818b7cb7d",
   "metadata": {},
   "outputs": [],
   "source": [
    "def dimacs_writer(dimacs_filename, cnf_array):\n",
    "    cnf = cnf_array\n",
    "    cnf_length = len(cnf)\n",
    "    n_sat = len(cnf[0])\n",
    "    var_num = np.max(cnf) \n",
    "    #print(cnf_length, n_sat, var_num)\n",
    "    with open(dimacs_filename, \"w\") as f:\n",
    "        # write the header\n",
    "        f.write('c DIMACS file CNF '+str(n_sat)+'-SAT \\n')\n",
    "        f.write(\"p cnf {} {}\\n\".format(var_num, cnf_length))\n",
    "        # now write all edges\n",
    "        for i, clause in enumerate(cnf):\n",
    "            line = clause.tolist()\n",
    "            if i == cnf_length - 1:\n",
    "                s = ' '.join(str(x) for x in line)+' 0'\n",
    "                f.write(s)\n",
    "            else: \n",
    "                s = ' '.join(str(x) for x in line)+' 0 \\n'\n",
    "                f.write(s)"
   ]
  },
  {
   "cell_type": "code",
   "execution_count": 688,
   "id": "5ec48c82-f858-43ac-ae34-e098503ea615",
   "metadata": {},
   "outputs": [],
   "source": [
    "dimacs_writer(dimacs_filename, inst)"
   ]
  },
  {
   "cell_type": "code",
   "execution_count": 689,
   "id": "8d89cb67-4070-4311-bb1f-ffb0d3676955",
   "metadata": {},
   "outputs": [],
   "source": [
    "with open('larger_cnf.dimacs', 'r') as f:\n",
    "    dimacs_custom = f.read()"
   ]
  },
  {
   "cell_type": "code",
   "execution_count": 690,
   "id": "c32dd00f-f435-4ab6-85e3-7d11f6947cb1",
   "metadata": {},
   "outputs": [],
   "source": [
    "class Verifier():\n",
    "    def __init__(self, dimacs_file):\n",
    "        with open(dimacs_file, 'r') as f:\n",
    "            self.dimacs = f.read()\n",
    "\n",
    "    def is_correct(self, guess):\n",
    "        # Convert characters to bools & reverse\n",
    "        guess = [bool(int(x)) for x in guess][::-1]\n",
    "        for line in self.dimacs.split('\\n'):\n",
    "            line = line.strip(' 0')\n",
    "            clause_eval = False\n",
    "            for literal in line.split(' '):\n",
    "                if literal in ['p', 'c']:\n",
    "                    # line is not a clause\n",
    "                    clause_eval = True\n",
    "                    break\n",
    "                if '-' in literal:\n",
    "                    literal = literal.strip('-')\n",
    "                    lit_eval = not guess[int(literal)-1]\n",
    "                else:\n",
    "                    lit_eval = guess[int(literal)-1]\n",
    "                clause_eval |= lit_eval\n",
    "            if clause_eval is False:\n",
    "                return False\n",
    "        return True"
   ]
  },
  {
   "cell_type": "code",
   "execution_count": 691,
   "id": "32691765-675a-4562-b5a8-13b588029554",
   "metadata": {},
   "outputs": [
    {
     "data": {
      "text/plain": [
       "<__main__.Verifier at 0x7ff980b739d0>"
      ]
     },
     "execution_count": 691,
     "metadata": {},
     "output_type": "execute_result"
    }
   ],
   "source": [
    "v = Verifier('larger_cnf.dimacs')\n",
    "v"
   ]
  },
  {
   "cell_type": "code",
   "execution_count": 692,
   "id": "8f62a90b-f9d2-48f2-bee8-3853c3e862ef",
   "metadata": {},
   "outputs": [],
   "source": [
    "nqubits = n_var\n",
    "\n",
    "def generate_binary_strings(bit_count):\n",
    "    binary_strings = []\n",
    "    def genbin(n, bs=''):\n",
    "        if len(bs) == n:\n",
    "            binary_strings.append(bs)\n",
    "        else:\n",
    "            genbin(n, bs + '0')\n",
    "            genbin(n, bs + '1')\n",
    "\n",
    "    genbin(bit_count)\n",
    "    return binary_strings\n",
    "\n",
    "binary_strings = generate_binary_strings(nqubits)"
   ]
  },
  {
   "cell_type": "code",
   "execution_count": 693,
   "id": "f9a99089-5427-46ff-b0d8-15b0f38b3f8f",
   "metadata": {},
   "outputs": [
    {
     "name": "stdout",
     "output_type": "stream",
     "text": [
      "100100\n",
      "100110\n",
      "101110\n"
     ]
    }
   ],
   "source": [
    "valid_keys = []\n",
    "\n",
    "for key in binary_strings:\n",
    "    if v.is_correct(key) == True:\n",
    "        print(key) \n",
    "        valid_keys.append(key)\n",
    "\n",
    "if not valid_keys:    \n",
    "    print('There are no valid keys for this CNF!')"
   ]
  },
  {
   "cell_type": "code",
   "execution_count": 694,
   "id": "ea4459a3-4c14-467b-9a63-7a4501df20cf",
   "metadata": {},
   "outputs": [],
   "source": [
    "statement = []\n",
    "\n",
    "for line in dimacs_custom.split('\\n'):\n",
    "    line = line.strip(' 0')\n",
    "    clause = []\n",
    "    for literal in line.split(' '):\n",
    "            if literal in ['p', 'c']:\n",
    "            # line is not a clause\n",
    "                break\n",
    "            else:\n",
    "                #print(literal)\n",
    "                clause.append(int(literal))\n",
    "    statement.append(clause)\n",
    "\n",
    "new_stat = [ele for ele in statement if ele != []]"
   ]
  },
  {
   "cell_type": "code",
   "execution_count": 695,
   "id": "e4f7a35d-d71e-4b1b-8bf5-e25598125517",
   "metadata": {},
   "outputs": [],
   "source": [
    "Z = IndexedBase('Z')\n",
    "i= symbols('i', cls=Idx)"
   ]
  },
  {
   "cell_type": "code",
   "execution_count": 696,
   "id": "b4e2d4ac-cc6c-47f2-b95c-61cc420b29bb",
   "metadata": {},
   "outputs": [],
   "source": [
    "all_clauses = []\n",
    "for i in range(len(new_stat)):\n",
    "    clauses_z = []\n",
    "    for literal in new_stat[i]:\n",
    "        #print(literal)\n",
    "        if literal < 0:\n",
    "            literal_exp = 1 - Z[abs(literal)]\n",
    "        else:\n",
    "            literal_exp = 1 + Z[abs(literal)]\n",
    "        clauses_z.append(literal_exp)\n",
    "    all_clauses.append(clauses_z)"
   ]
  },
  {
   "cell_type": "code",
   "execution_count": 697,
   "id": "0c418c88-b515-488e-b5ec-051e3085a875",
   "metadata": {},
   "outputs": [],
   "source": [
    "clauses_list = []\n",
    "for clause in all_clauses:\n",
    "    clauses_list.append(expand(np.prod(clause)))"
   ]
  },
  {
   "cell_type": "code",
   "execution_count": 698,
   "id": "b74bb04b-3331-449e-8d0b-bc7d90d0077a",
   "metadata": {},
   "outputs": [],
   "source": [
    "power_dict = {Z[1]**2 : 1, Z[2]**2 : 1, Z[3]**2 : 1, Z[4]**2 : 1, \n",
    "              Z[5]**2 : 1, Z[6]**2 : 1, Z[7]**2 : 1, Z[8]**2 : 1, Z[1]**3 : Z[1], \n",
    "              Z[2]**3 : Z[2], Z[3]**3 : Z[3], Z[4]**3 : Z[4], Z[5]**3 : Z[5], Z[6]**3 : Z[6], Z[7]**3 : Z[7]}"
   ]
  },
  {
   "cell_type": "code",
   "execution_count": 699,
   "id": "c07f68f0-715f-41ef-a681-5e5673935724",
   "metadata": {},
   "outputs": [],
   "source": [
    "total_clause = np.sum(clauses_list)\n",
    "total_clause = total_clause.subs(power_dict)"
   ]
  },
  {
   "cell_type": "code",
   "execution_count": 700,
   "id": "b4edbcea-eb69-4d86-8157-06b4bde1d6d7",
   "metadata": {},
   "outputs": [],
   "source": [
    "all_args = Add.make_args(total_clause)"
   ]
  },
  {
   "cell_type": "code",
   "execution_count": 701,
   "id": "8ccb3dfd-528d-4f12-aee6-a529399ca30c",
   "metadata": {},
   "outputs": [],
   "source": [
    "def clause_transformer(clause):\n",
    "\n",
    "    crcs = []\n",
    "\n",
    "    for elem in Add.make_args(clause):\n",
    "        el = str(elem)\n",
    "\n",
    "        if '-' in el and el[1] != 'Z':\n",
    "            #print(el, -int(el[1]), re.findall(r\"\\[(\\d+)\\]\", el))\n",
    "            bit_string = re.findall(r\"\\[(\\d+)\\]\", el)\n",
    "            new_bits = [eval(i) for i in bit_string]\n",
    "            crcs.append((-int(el[1]), [x - 1 for x in new_bits]))\n",
    "            \n",
    "        elif '-' in el and el[1] == 'Z':\n",
    "            #print(el, -1, re.findall(r\"\\[(\\d+)\\]\", el))\n",
    "            bit_string = re.findall(r\"\\[(\\d+)\\]\", el)\n",
    "            new_bits = [eval(i) for i in bit_string]\n",
    "            crcs.append((-1, [x - 1 for x in new_bits]))\n",
    "            \n",
    "        elif 'Z' in el and el[0] != 'Z':\n",
    "            #print(el, int(el[0]), re.findall(r\"\\[(\\d+)\\]\", el))\n",
    "            bit_string = re.findall(r\"\\[(\\d+)\\]\", el)\n",
    "            new_bits = [eval(i) for i in bit_string]\n",
    "            crcs.append((int(el[0]), [x - 1 for x in new_bits]))\n",
    "\n",
    "        elif 'Z' in el:\n",
    "            #print(el, +1, re.findall(r\"\\[(\\d+)\\]\", el))\n",
    "            bit_string = re.findall(r\"\\[(\\d+)\\]\", el)\n",
    "            new_bits = [eval(i) for i in bit_string]\n",
    "            crcs.append((+1, [x - 1 for x in new_bits]))\n",
    "        \n",
    "        else:\n",
    "            crcs.append(int(el))\n",
    "          \n",
    "    return crcs"
   ]
  },
  {
   "cell_type": "code",
   "execution_count": 702,
   "id": "45a56a0d-8bfc-4eb9-85e0-6fc0b35284f5",
   "metadata": {},
   "outputs": [
    {
     "data": {
      "text/latex": [
       "$\\displaystyle 2 {Z}_{1} {Z}_{2} {Z}_{5} - 2 {Z}_{1} {Z}_{2} - 2 {Z}_{1} {Z}_{3} {Z}_{4} - 2 {Z}_{1} {Z}_{3} {Z}_{5} - 4 {Z}_{1} {Z}_{3} - {Z}_{1} {Z}_{4} {Z}_{5} + {Z}_{1} {Z}_{4} - 5 {Z}_{1} {Z}_{5} + 2 {Z}_{1} {Z}_{6} - 5 {Z}_{1} - {Z}_{2} {Z}_{3} {Z}_{5} - {Z}_{2} {Z}_{3} {Z}_{6} + {Z}_{2} {Z}_{4} {Z}_{6} - {Z}_{2} {Z}_{4} + 3 {Z}_{2} {Z}_{5} - 2 {Z}_{2} {Z}_{6} - 3 {Z}_{2} - 2 {Z}_{3} {Z}_{4} {Z}_{6} - 4 {Z}_{3} {Z}_{4} + {Z}_{3} {Z}_{5} - {Z}_{3} {Z}_{6} + 16 {Z}_{3} + {Z}_{4} {Z}_{5} + {Z}_{4} {Z}_{6} - 6 {Z}_{4} - 6 {Z}_{5} + 6 {Z}_{6} + 38$"
      ],
      "text/plain": [
       "2*Z[1]*Z[2]*Z[5] - 2*Z[1]*Z[2] - 2*Z[1]*Z[3]*Z[4] - 2*Z[1]*Z[3]*Z[5] - 4*Z[1]*Z[3] - Z[1]*Z[4]*Z[5] + Z[1]*Z[4] - 5*Z[1]*Z[5] + 2*Z[1]*Z[6] - 5*Z[1] - Z[2]*Z[3]*Z[5] - Z[2]*Z[3]*Z[6] + Z[2]*Z[4]*Z[6] - Z[2]*Z[4] + 3*Z[2]*Z[5] - 2*Z[2]*Z[6] - 3*Z[2] - 2*Z[3]*Z[4]*Z[6] - 4*Z[3]*Z[4] + Z[3]*Z[5] - Z[3]*Z[6] + 16*Z[3] + Z[4]*Z[5] + Z[4]*Z[6] - 6*Z[4] - 6*Z[5] + 6*Z[6] + 38"
      ]
     },
     "execution_count": 702,
     "metadata": {},
     "output_type": "execute_result"
    }
   ],
   "source": [
    "total_clause"
   ]
  },
  {
   "cell_type": "code",
   "execution_count": 703,
   "id": "7645ae7f-94b0-4350-9ceb-ec1657390624",
   "metadata": {},
   "outputs": [
    {
     "data": {
      "text/plain": [
       "[38,\n",
       " (-6, [3]),\n",
       " (-6, [4]),\n",
       " (-5, [0]),\n",
       " (-3, [1]),\n",
       " (6, [5]),\n",
       " (1, [2]),\n",
       " (1, [0, 3]),\n",
       " (1, [2, 4]),\n",
       " (1, [3, 4]),\n",
       " (1, [3, 5]),\n",
       " (-1, [1, 3]),\n",
       " (-1, [2, 5]),\n",
       " (-5, [0, 4]),\n",
       " (-4, [0, 2]),\n",
       " (-4, [2, 3]),\n",
       " (-2, [0, 1]),\n",
       " (-2, [1, 5]),\n",
       " (2, [0, 5]),\n",
       " (3, [1, 4]),\n",
       " (1, [1, 3, 5]),\n",
       " (-1, [0, 3, 4]),\n",
       " (-1, [1, 2, 4]),\n",
       " (-1, [1, 2, 5]),\n",
       " (-2, [0, 2, 3]),\n",
       " (-2, [0, 2, 4]),\n",
       " (-2, [2, 3, 5]),\n",
       " (2, [0, 1, 4])]"
      ]
     },
     "execution_count": 703,
     "metadata": {},
     "output_type": "execute_result"
    }
   ],
   "source": [
    "clause_to_circ = clause_transformer(total_clause)\n",
    "\n",
    "clause_to_circ"
   ]
  },
  {
   "cell_type": "code",
   "execution_count": 704,
   "id": "2ae6ff2b-5c9f-43ed-a6cf-32041acc916e",
   "metadata": {},
   "outputs": [],
   "source": [
    "qubits = []\n",
    "\n",
    "for i in range(nqubits):\n",
    "    qubits.append(cirq.GridQubit(0,i))        \n",
    "    \n",
    "qubits = list(reversed(qubits))\n",
    "all_qubits = [i for i in range(nqubits)]"
   ]
  },
  {
   "cell_type": "code",
   "execution_count": 705,
   "id": "5f23b343-7c59-4d6a-8f53-9e21414da97c",
   "metadata": {},
   "outputs": [],
   "source": [
    "def z_string_gates(z_inds, par):\n",
    "    z_string = []\n",
    "    cnot_gates = []\n",
    "\n",
    "    pairs = list(zip([z_inds[0] for i in range(len(z_inds))], z_inds[1:]))\n",
    "\n",
    "    for pair in pairs:\n",
    "\n",
    "        cnot_gates.append(cirq.CNOT(qubits[pair[1]], qubits[pair[0]]))\n",
    "    z_string.append(cnot_gates)\n",
    "    z_string.append(cirq.rz(par).on(qubits[pair[0]]))\n",
    "    z_string.append(cnot_gates[len(cnot_gates) - 1::-1])\n",
    "    return z_string"
   ]
  },
  {
   "cell_type": "code",
   "execution_count": 706,
   "id": "42023def-6a7a-470f-9d9d-8a71989ad1f8",
   "metadata": {},
   "outputs": [],
   "source": [
    "def hamiltonian_circuit(circuit, qubits, par, clauses): \n",
    "    for elem in clauses:\n",
    "        res = type(elem) is tuple  \n",
    "        if res == False:\n",
    "            for qubit in qubits:\n",
    "                pass\n",
    "\n",
    "        else:\n",
    "            coef = elem[0]\n",
    "            z_inds = elem[1]\n",
    "            if len(z_inds) == 1:\n",
    "\n",
    "                circuit.append(cirq.rz(coef*par).on(qubits[z_inds[0]]))\n",
    "            else:\n",
    "\n",
    "                circuit.append(z_string_gates(z_inds,coef*par))\n",
    "    return circuit"
   ]
  },
  {
   "cell_type": "code",
   "execution_count": 707,
   "id": "b63f9ad5-1e67-44ca-a190-73fcdb06a18d",
   "metadata": {},
   "outputs": [],
   "source": [
    "def mixing_circuit(circuit, qubits, par):\n",
    "    for i in range(len(qubits)):\n",
    "        circuit.append(cirq.rx(par).on(qubits[i]))\n",
    "    return circuit"
   ]
  },
  {
   "cell_type": "code",
   "execution_count": 708,
   "id": "c03e75a3-65e3-42c6-b712-6921271c9da2",
   "metadata": {
    "tags": []
   },
   "outputs": [],
   "source": [
    "def cost_hamiltonian(qubits, clauses):\n",
    "    h = 0\n",
    "    for elem in clauses:\n",
    "        res = type(elem) is tuple  \n",
    "        if res == False:\n",
    "            for qubit in qubits:\n",
    "                pass\n",
    "                #circuit.append(cirq.I(qubit))\n",
    "        else:\n",
    "            coef = elem[0]\n",
    "            z_inds = elem[1]\n",
    "            h += coef*math.prod([cirq.Z(qubits[i]) for i in z_inds])\n",
    "    return h"
   ]
  },
  {
   "cell_type": "code",
   "execution_count": 709,
   "id": "dc630ee3-3036-42de-a4cf-8345c7830e97",
   "metadata": {},
   "outputs": [],
   "source": [
    "qaoa_circuit = cirq.Circuit()\n",
    "p = 4 # usuallu stay on the lower side when it comes to layers! Too many layers is going to leave several free parameters, which messes up the results\n",
    "\n",
    "num_param = 2 * p \n",
    "parameters = symbols(\"q0:%d\" % num_param)\n",
    "\n",
    "for i in range(p):\n",
    "    qaoa_circuit = hamiltonian_circuit(qaoa_circuit, qubits, parameters[2 * i], clause_to_circ)\n",
    "    qaoa_circuit = mixing_circuit(qaoa_circuit, qubits, parameters[2 * i + 1])"
   ]
  },
  {
   "cell_type": "code",
   "execution_count": 710,
   "id": "ce7399b0-e89e-49f0-a6f4-a42b9371b8e9",
   "metadata": {},
   "outputs": [],
   "source": [
    "#SVGCircuit(qaoa_circuit)"
   ]
  },
  {
   "cell_type": "code",
   "execution_count": 711,
   "id": "617f993b-b1db-4dbd-adcb-dcf936cd46e9",
   "metadata": {},
   "outputs": [],
   "source": [
    "cost = cost_hamiltonian(qubits, clause_to_circ)\n",
    "\n",
    "initial = cirq.Circuit()\n",
    "\n",
    "for qubit in qubits:\n",
    "    initial.append(cirq.H(qubit))\n",
    "\n",
    "inputs = tfq.convert_to_tensor([initial])\n",
    "\n",
    "ins = tf.keras.layers.Input(shape = (), dtype = tf.dtypes.string)\n",
    "outs = tfq.layers.PQC(qaoa_circuit, cost)(ins)\n",
    "ksat = tf.keras.models.Model(inputs = ins, outputs = outs)\n",
    "opt = tf.keras.optimizers.Adam(learning_rate = 0.01)"
   ]
  },
  {
   "cell_type": "code",
   "execution_count": 712,
   "id": "6279ab6a-a456-43ba-bdf9-6a80516f143c",
   "metadata": {},
   "outputs": [
    {
     "name": "stdout",
     "output_type": "stream",
     "text": [
      "absolute value of (error_goal - error) is 7.8201294e-0552816\r"
     ]
    }
   ],
   "source": [
    "losses = []\n",
    "error = 100\n",
    "tol = 1e-4 #a smaller tolerance may yield worse results\n",
    "\n",
    "while abs(error_goal - error) > tol:\n",
    "    \n",
    "    error_goal = error    \n",
    "    \n",
    "    with tf.GradientTape() as tape:\n",
    "        error = ksat(inputs)\n",
    "    \n",
    "    grads = tape.gradient(error, ksat.trainable_variables)\n",
    "    opt.apply_gradients(zip(grads, ksat.trainable_variables))\n",
    "    error = error.numpy()[0,0]\n",
    "    losses.append(error)\n",
    "\n",
    "    print('absolute value of (error_goal - error) is ' + str(abs(error_goal - error)), end = '\\r')"
   ]
  },
  {
   "cell_type": "code",
   "execution_count": 713,
   "id": "5d5fdf24-90f4-48fb-9327-c07aad59483d",
   "metadata": {},
   "outputs": [
    {
     "data": {
      "image/png": "[encoded data removed]",
      "text/plain": [
       "<Figure size 600x200 with 1 Axes>"
      ]
     },
     "metadata": {},
     "output_type": "display_data"
    }
   ],
   "source": [
    "plt.figure(figsize=(6,2))\n",
    "plt.plot(losses)\n",
    "plt.title(str(k)+'-SAT QAOA with '+str(n_var)+' variables')\n",
    "plt.xlabel(\"Epoch\")\n",
    "plt.ylabel(\"Loss\")\n",
    "plt.show()\n",
    "#plt.savefig(\"TSP_losses\")"
   ]
  },
  {
   "cell_type": "code",
   "execution_count": 714,
   "id": "e9876579-4d9d-4b21-ae29-884ac3919522",
   "metadata": {},
   "outputs": [],
   "source": [
    "def to_dec(x):\n",
    "    return int(\"\".join(str(i) for i in x), 2) "
   ]
  },
  {
   "cell_type": "code",
   "execution_count": 718,
   "id": "2c4821d4-aac7-4f1b-8a18-90f59297feaa",
   "metadata": {},
   "outputs": [
    {
     "name": "stdout",
     "output_type": "stream",
     "text": [
      "[<tf.Variable 'parameters:0' shape=(8,) dtype=float32, numpy=\n",
      "array([ 6.3712783 ,  5.2510667 ,  4.611481  ,  6.799638  ,  4.4934454 ,\n",
      "        0.4576859 ,  2.7152853 , -0.10762557], dtype=float32)>]\n"
     ]
    }
   ],
   "source": [
    "params = ksat.trainable_variables\n",
    "print(params)\n",
    "\n",
    "sample_circuit = tfq.layers.AddCircuit()(inputs, append=qaoa_circuit)\n",
    "output = tfq.layers.Sample()(sample_circuit, symbol_names=parameters, symbol_values=params, repetitions = 1000)\n",
    "\n",
    "quantum_preds = []\n",
    "data = []\n",
    "for bits in output.values:\n",
    "    temp = []\n",
    "    data.append(to_dec(bits.numpy()))\n",
    "    for pos, bit in enumerate(bits):\n",
    "        if bit == 1:\n",
    "            temp.append(pos)\n",
    "    quantum_preds.append(temp)"
   ]
  },
  {
   "cell_type": "code",
   "execution_count": 719,
   "id": "686580d0-9cd8-4f14-b116-58ac1a2ae4bd",
   "metadata": {},
   "outputs": [
    {
     "data": {
      "text/plain": [
       "['100100', '100110', '101110']"
      ]
     },
     "execution_count": 719,
     "metadata": {},
     "output_type": "execute_result"
    }
   ],
   "source": [
    "valid_keys"
   ]
  },
  {
   "cell_type": "code",
   "execution_count": 720,
   "id": "fba32eb9-c332-4664-905c-be752b2ea5a2",
   "metadata": {},
   "outputs": [
    {
     "data": {
      "image/png": "[encoded data removed]",
      "text/plain": [
       "<Figure size 2000x200 with 1 Axes>"
      ]
     },
     "metadata": {},
     "output_type": "display_data"
    }
   ],
   "source": [
    "xticks = range(0, 2**nqubits)\n",
    "xtick_labels = list(map(lambda x: format(x, \"0\"+str(nqubits)+\"b\"), xticks))\n",
    "bins = np.arange(0, 2**nqubits + 1) - 0.5\n",
    "\n",
    "plt.figure(figsize=(20,2))\n",
    "plt.xticks(xticks, xtick_labels, rotation=\"vertical\")\n",
    "plt.hist(data, bins=bins, color = \"chartreuse\", lw=0)\n",
    "plt.savefig('hist_custom_sat.pdf')\n",
    "plt.show()"
   ]
  }
 ],
 "metadata": {
  "kernelspec": {
   "display_name": "Python 3 (ipykernel)",
   "language": "python",
   "name": "python3"
  },
  "language_info": {
   "codemirror_mode": {
    "name": "ipython",
    "version": 3
   },
   "file_extension": ".py",
   "mimetype": "text/x-python",
   "name": "python",
   "nbconvert_exporter": "python",
   "pygments_lexer": "ipython3",
   "version": "3.9.0"
  }
 },
 "nbformat": 4,
 "nbformat_minor": 5
}
