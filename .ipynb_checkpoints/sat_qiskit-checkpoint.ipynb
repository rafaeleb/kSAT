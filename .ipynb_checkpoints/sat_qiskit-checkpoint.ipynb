{
 "cells": [
  {
   "cell_type": "code",
   "execution_count": 31,
   "id": "192d4cb8-7896-4813-9327-b8bff9998b7e",
   "metadata": {},
   "outputs": [],
   "source": [
    "import numpy as np\n",
    "from qiskit import Aer\n",
    "from qiskit.visualization import plot_histogram\n",
    "from qiskit.utils import QuantumInstance\n",
    "from qiskit.algorithms import Grover, AmplificationProblem\n",
    "from qiskit.circuit.library import PhaseOracle\n",
    "import random as rd"
   ]
  },
  {
   "cell_type": "code",
   "execution_count": 32,
   "id": "849302aa-097c-42cd-9d48-3dc74ca24adc",
   "metadata": {},
   "outputs": [
    {
     "name": "stdout",
     "output_type": "stream",
     "text": [
      "c example DIMACS-CNF 3-SAT\n",
      "p cnf 3 5\n",
      "-1 -2 -3 0\n",
      "1 -2 3 0\n",
      "1 2 -3 0\n",
      "1 -2 -3 0\n",
      "-1 2 3 0\n"
     ]
    }
   ],
   "source": [
    "with open('3sat.dimacs', 'r') as f:\n",
    "    dimacs = f.read()\n",
    "print(dimacs)\n"
   ]
  },
  {
   "cell_type": "code",
   "execution_count": 33,
   "id": "bd690542-a1de-46ba-bc13-e23307327e46",
   "metadata": {},
   "outputs": [
    {
     "data": {
      "text/html": [
       "<pre style=\"word-wrap: normal;white-space: pre;background: #fff0;line-height: 1.1;font-family: &quot;Courier New&quot;,Courier,monospace\">                          \n",
       "q_0: ─o───────o───────────\n",
       "      │ ┌───┐ │ ┌───┐┌───┐\n",
       "q_1: ─■─┤ X ├─■─┤ X ├┤ Z ├\n",
       "      │ ├───┤   └───┘└───┘\n",
       "q_2: ─o─┤ Z ├─────────────\n",
       "        └───┘             </pre>"
      ],
      "text/plain": [
       "                          \n",
       "q_0: ─o───────o───────────\n",
       "      │ ┌───┐ │ ┌───┐┌───┐\n",
       "q_1: ─■─┤ X ├─■─┤ X ├┤ Z ├\n",
       "      │ ├───┤   └───┘└───┘\n",
       "q_2: ─o─┤ Z ├─────────────\n",
       "        └───┘             "
      ]
     },
     "execution_count": 33,
     "metadata": {},
     "output_type": "execute_result"
    }
   ],
   "source": [
    "oracle = PhaseOracle.from_dimacs_file('3sat.dimacs')\n",
    "oracle.draw()"
   ]
  },
  {
   "cell_type": "code",
   "execution_count": 34,
   "id": "67af44bf-e7ec-4635-b579-11257980ce40",
   "metadata": {},
   "outputs": [],
   "source": [
    "class Verifier():\n",
    "    \"\"\"Create an object that can be used to check whether\n",
    "    an assignment satisfies a DIMACS file.\n",
    "        Args:\n",
    "            dimacs_file (str): path to the DIMACS file\n",
    "    \"\"\"\n",
    "    def __init__(self, dimacs_file):\n",
    "        with open(dimacs_file, 'r') as f:\n",
    "            self.dimacs = f.read()\n",
    "\n",
    "    def is_correct(self, guess):\n",
    "        \"\"\"Verifies a SAT solution against this object's\n",
    "        DIMACS file.\n",
    "            Args:\n",
    "                guess (str): Assignment to be verified.\n",
    "                             Must be string of 1s and 0s.\n",
    "            Returns:\n",
    "                bool: True if `guess` satisfies the\n",
    "                           problem. False otherwise.\n",
    "        \"\"\"\n",
    "        # Convert characters to bools & reverse\n",
    "        guess = [bool(int(x)) for x in guess][::-1]\n",
    "        for line in self.dimacs.split('\\n'):\n",
    "            line = line.strip(' 0')\n",
    "            clause_eval = False\n",
    "            for literal in line.split(' '):\n",
    "                if literal in ['p', 'c']:\n",
    "                    # line is not a clause\n",
    "                    clause_eval = True\n",
    "                    break\n",
    "                if '-' in literal:\n",
    "                    literal = literal.strip('-')\n",
    "                    lit_eval = not guess[int(literal)-1]\n",
    "                else:\n",
    "                    lit_eval = guess[int(literal)-1]\n",
    "                clause_eval |= lit_eval\n",
    "            if clause_eval is False:\n",
    "                return False\n",
    "        return True"
   ]
  },
  {
   "cell_type": "code",
   "execution_count": 35,
   "id": "beaf944f-5cf9-4a73-b373-1f4996016a31",
   "metadata": {},
   "outputs": [],
   "source": [
    "# Function to create the\n",
    "# random binary string\n",
    "def rand_key(p):\n",
    "   \n",
    "    # Variable to store the\n",
    "    # string\n",
    "    key1 = \"\"\n",
    " \n",
    "    # Loop to find the string\n",
    "    # of desired length\n",
    "    for i in range(p):\n",
    "         \n",
    "        # randint function to generate\n",
    "        # 0, 1 randomly and converting\n",
    "        # the result into str\n",
    "        temp = str(rd.randint(0, 1))\n",
    " \n",
    "        # Concatenation the random 0, 1\n",
    "        # to the final result\n",
    "        key1 += temp\n",
    "         \n",
    "    return(key1)"
   ]
  },
  {
   "cell_type": "code",
   "execution_count": 36,
   "id": "6ce2c7bd-a892-40b0-b471-50b1d528717d",
   "metadata": {},
   "outputs": [],
   "source": [
    "#key = rand_key(3)\n",
    "key = '000'"
   ]
  },
  {
   "cell_type": "code",
   "execution_count": 37,
   "id": "82eca75c-92a8-49e9-9597-f06ec1c2c24a",
   "metadata": {},
   "outputs": [
    {
     "data": {
      "text/plain": [
       "True"
      ]
     },
     "execution_count": 37,
     "metadata": {},
     "output_type": "execute_result"
    }
   ],
   "source": [
    "v = Verifier('3sat.dimacs')   \n",
    "v.is_correct(key)"
   ]
  },
  {
   "cell_type": "code",
   "execution_count": 38,
   "id": "9022e316-ce0d-41e3-9997-e7949749607b",
   "metadata": {},
   "outputs": [
    {
     "name": "stdout",
     "output_type": "stream",
     "text": [
      "['000', '001', '010', '011', '100', '101', '110', '111']\n"
     ]
    }
   ],
   "source": [
    "def generate_binary_strings(bit_count):\n",
    "    binary_strings = []\n",
    "    def genbin(n, bs=''):\n",
    "        if len(bs) == n:\n",
    "            binary_strings.append(bs)\n",
    "        else:\n",
    "            genbin(n, bs + '0')\n",
    "            genbin(n, bs + '1')\n",
    "\n",
    "\n",
    "    genbin(bit_count)\n",
    "    return binary_strings\n",
    "\n",
    "binary_strings = generate_binary_strings(3)\n",
    "print(binary_strings)"
   ]
  },
  {
   "cell_type": "code",
   "execution_count": 43,
   "id": "076f6e8d-5cee-4c1a-8894-3fb67c78e271",
   "metadata": {},
   "outputs": [
    {
     "data": {
      "text/plain": [
       "'101'"
      ]
     },
     "execution_count": 43,
     "metadata": {},
     "output_type": "execute_result"
    }
   ],
   "source": [
    "# Configure backend\n",
    "backend = Aer.get_backend('aer_simulator')\n",
    "quantum_instance = QuantumInstance(backend, shots=2048)\n",
    "\n",
    "# Create a new problem from the phase oracle and the\n",
    "# verification function\n",
    "problem = AmplificationProblem(oracle=oracle, is_good_state=v.is_correct)\n",
    "\n",
    "# Use Grover's algorithm to solve the problem\n",
    "grover = Grover(quantum_instance=quantum_instance)\n",
    "result = grover.amplify(problem)\n",
    "result.top_measurement"
   ]
  },
  {
   "cell_type": "code",
   "execution_count": 44,
   "id": "ecb7c8fd-9aac-4ff3-bcca-2950cd23f212",
   "metadata": {},
   "outputs": [
    {
     "data": {
      "image/png": "[encoded data removed]",
      "text/plain": [
       "<Figure size 700x500 with 1 Axes>"
      ]
     },
     "execution_count": 44,
     "metadata": {},
     "output_type": "execute_result"
    }
   ],
   "source": [
    "plot_histogram(result.circuit_results)"
   ]
  },
  {
   "cell_type": "code",
   "execution_count": null,
   "id": "9a6f9d90-62d8-4bc5-82ff-b68364fc78b0",
   "metadata": {},
   "outputs": [],
   "source": []
  }
 ],
 "metadata": {
  "kernelspec": {
   "display_name": "Python 3 (ipykernel)",
   "language": "python",
   "name": "python3"
  },
  "language_info": {
   "codemirror_mode": {
    "name": "ipython",
    "version": 3
   },
   "file_extension": ".py",
   "mimetype": "text/x-python",
   "name": "python",
   "nbconvert_exporter": "python",
   "pygments_lexer": "ipython3",
   "version": "3.9.13"
  }
 },
 "nbformat": 4,
 "nbformat_minor": 5
}
