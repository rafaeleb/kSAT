{
 "cells": [
  {
   "cell_type": "code",
   "execution_count": 1,
   "id": "46bcee59-86aa-4b30-b55c-79b6c4a69897",
   "metadata": {},
   "outputs": [],
   "source": [
    "import numpy as np\n",
    "import math\n",
    "from sympy.parsing.sympy_parser import parse_expr\n",
    "from sympy import *\n",
    "from qiskit import Aer\n",
    "from qiskit.visualization import plot_histogram\n",
    "from qiskit.utils import QuantumInstance\n",
    "from qiskit.algorithms import Grover, AmplificationProblem\n",
    "from qiskit.circuit.library import PhaseOracle\n",
    "from qiskit.quantum_info import Pauli\n",
    "import random as rd\n",
    "import re\n",
    "import operator\n",
    "import functools\n",
    "from scipy.linalg import expm, sinm, cosm\n",
    "from numpy.linalg import matrix_power\n",
    "from typing import Sequence, Tuple\n",
    "import matplotlib.pyplot as plt"
   ]
  },
  {
   "cell_type": "code",
   "execution_count": 2,
   "id": "0cba7815-84f8-4c34-bba4-f7627dee11d2",
   "metadata": {},
   "outputs": [
    {
     "name": "stderr",
     "output_type": "stream",
     "text": [
      "2023-02-06 10:27:01.514259: W tensorflow/stream_executor/platform/default/dso_loader.cc:64] Could not load dynamic library 'libcudart.so.11.0'; dlerror: libcudart.so.11.0: cannot open shared object file: No such file or directory\n",
      "2023-02-06 10:27:01.514273: I tensorflow/stream_executor/cuda/cudart_stub.cc:29] Ignore above cudart dlerror if you do not have a GPU set up on your machine.\n",
      "2023-02-06 10:27:02.811718: W tensorflow/stream_executor/platform/default/dso_loader.cc:64] Could not load dynamic library 'libcuda.so.1'; dlerror: libcuda.so.1: cannot open shared object file: No such file or directory\n",
      "2023-02-06 10:27:02.811733: W tensorflow/stream_executor/cuda/cuda_driver.cc:269] failed call to cuInit: UNKNOWN ERROR (303)\n",
      "2023-02-06 10:27:02.811743: I tensorflow/stream_executor/cuda/cuda_diagnostics.cc:156] kernel driver does not appear to be running on this host (rafael-ThinkPad): /proc/driver/nvidia/version does not exist\n",
      "2023-02-06 10:27:02.811893: I tensorflow/core/platform/cpu_feature_guard.cc:151] This TensorFlow binary is optimized with oneAPI Deep Neural Network Library (oneDNN) to use the following CPU instructions in performance-critical operations:  AVX2 FMA\n",
      "To enable them in other operations, rebuild TensorFlow with the appropriate compiler flags.\n"
     ]
    }
   ],
   "source": [
    "import tensorflow as tf\n",
    "import tensorflow_quantum as tfq\n",
    "import cirq\n",
    "from cirq.contrib.svg import SVGCircuit"
   ]
  },
  {
   "cell_type": "code",
   "execution_count": 3,
   "id": "f8ef69ff-53fb-4004-ac43-9e86447e2921",
   "metadata": {},
   "outputs": [
    {
     "name": "stdout",
     "output_type": "stream",
     "text": [
      "c example DIMACS-CNF 3-SAT\n",
      "p cnf 3 5\n",
      "-1 -2 -3 0\n",
      "1 -2 3 0\n",
      "1 2 -3 0\n",
      "1 -2 -3 0\n",
      "-1 2 3 0\n"
     ]
    }
   ],
   "source": [
    "with open('3sat.dimacs', 'r') as f:\n",
    "    dimacs = f.read()\n",
    "print(dimacs)"
   ]
  },
  {
   "cell_type": "code",
   "execution_count": 4,
   "id": "09856ae1-016e-49b3-8a4e-2d9ac4e99e18",
   "metadata": {},
   "outputs": [],
   "source": [
    "class Verifier():\n",
    "    def __init__(self, dimacs_file):\n",
    "        with open(dimacs_file, 'r') as f:\n",
    "            self.dimacs = f.read()\n",
    "\n",
    "    def is_correct(self, guess):\n",
    "        # Convert characters to bools & reverse\n",
    "        guess = [bool(int(x)) for x in guess][::-1]\n",
    "        for line in self.dimacs.split('\\n'):\n",
    "            line = line.strip(' 0')\n",
    "            clause_eval = False\n",
    "            for literal in line.split(' '):\n",
    "                if literal in ['p', 'c']:\n",
    "                    # line is not a clause\n",
    "                    clause_eval = True\n",
    "                    break\n",
    "                if '-' in literal:\n",
    "                    literal = literal.strip('-')\n",
    "                    lit_eval = not guess[int(literal)-1]\n",
    "                else:\n",
    "                    lit_eval = guess[int(literal)-1]\n",
    "                clause_eval |= lit_eval\n",
    "            if clause_eval is False:\n",
    "                return False\n",
    "        return True"
   ]
  },
  {
   "cell_type": "code",
   "execution_count": 5,
   "id": "0cf23a3d-701e-455b-9097-2d578d1c9a32",
   "metadata": {},
   "outputs": [],
   "source": [
    "# Function to create the\n",
    "# random binary string\n",
    "def rand_key(p):\n",
    "   \n",
    "    # Variable to store the\n",
    "    # string\n",
    "    key1 = \"\"\n",
    " \n",
    "    # Loop to find the string\n",
    "    # of desired length\n",
    "    for i in range(p):\n",
    "         \n",
    "        # randint function to generate\n",
    "        # 0, 1 randomly and converting\n",
    "        # the result into str\n",
    "        temp = str(rd.randint(0, 1))\n",
    " \n",
    "        # Concatenation the random 0, 1\n",
    "        # to the final result\n",
    "        key1 += temp\n",
    "         \n",
    "    return(key1)"
   ]
  },
  {
   "cell_type": "code",
   "execution_count": 6,
   "id": "1a5947f6-ed90-4e72-9b49-2ebb4a06de42",
   "metadata": {},
   "outputs": [],
   "source": [
    "v = Verifier('3sat.dimacs')   "
   ]
  },
  {
   "cell_type": "code",
   "execution_count": 7,
   "id": "ccc04f37-83bc-43be-8f39-c7e58055e9c7",
   "metadata": {},
   "outputs": [],
   "source": [
    "def generate_binary_strings(bit_count):\n",
    "    binary_strings = []\n",
    "    def genbin(n, bs=''):\n",
    "        if len(bs) == n:\n",
    "            binary_strings.append(bs)\n",
    "        else:\n",
    "            genbin(n, bs + '0')\n",
    "            genbin(n, bs + '1')\n",
    "\n",
    "    genbin(bit_count)\n",
    "    return binary_strings\n",
    "\n",
    "binary_strings = generate_binary_strings(3)"
   ]
  },
  {
   "cell_type": "code",
   "execution_count": 8,
   "id": "ab0fe95b-325f-4c96-b653-779021c39ef4",
   "metadata": {},
   "outputs": [
    {
     "data": {
      "text/plain": [
       "['000', '001', '010', '011', '100', '101', '110', '111']"
      ]
     },
     "execution_count": 8,
     "metadata": {},
     "output_type": "execute_result"
    }
   ],
   "source": [
    "binary_strings"
   ]
  },
  {
   "cell_type": "code",
   "execution_count": 9,
   "id": "2c14a63b-bfdc-4993-9efa-193ebd53d027",
   "metadata": {},
   "outputs": [
    {
     "data": {
      "text/plain": [
       "True"
      ]
     },
     "execution_count": 9,
     "metadata": {},
     "output_type": "execute_result"
    }
   ],
   "source": [
    "v.is_correct(binary_strings[0])"
   ]
  },
  {
   "cell_type": "code",
   "execution_count": 10,
   "id": "76371be9-c2a7-4cd5-946a-66ea1a93d696",
   "metadata": {},
   "outputs": [
    {
     "name": "stdout",
     "output_type": "stream",
     "text": [
      "000\n",
      "011\n",
      "101\n"
     ]
    }
   ],
   "source": [
    "valid_keys = []\n",
    "\n",
    "for key in binary_strings:\n",
    "    if v.is_correct(key) == True:\n",
    "        print(key) \n",
    "        valid_keys.append(key)"
   ]
  },
  {
   "cell_type": "markdown",
   "id": "ca605edb-8c04-4e82-886d-430936a3199b",
   "metadata": {},
   "source": [
    "## Write clauses symbolically"
   ]
  },
  {
   "cell_type": "code",
   "execution_count": 11,
   "id": "fbe30000-d690-4ea4-8c5a-552f54ad3d61",
   "metadata": {},
   "outputs": [],
   "source": [
    "statement = []\n",
    "for line in dimacs.split('\\n'):\n",
    "    line = line.strip(' 0')\n",
    "    clause = []\n",
    "    for literal in line.split(' '):\n",
    "            if literal in ['p', 'c']:\n",
    "            # line is not a clause\n",
    "                break\n",
    "            else:\n",
    "                #print(literal)\n",
    "                clause.append(int(literal))\n",
    "    statement.append(clause)"
   ]
  },
  {
   "cell_type": "code",
   "execution_count": 12,
   "id": "a13d270c-8930-43ff-aae8-b68cf606680d",
   "metadata": {},
   "outputs": [],
   "source": [
    "new_stat = [ele for ele in statement if ele != []]"
   ]
  },
  {
   "cell_type": "code",
   "execution_count": 13,
   "id": "b417321f-67da-42b2-b9f8-6c06cd3ff401",
   "metadata": {},
   "outputs": [],
   "source": [
    "Z = IndexedBase('Z')\n",
    "i= symbols('i', cls=Idx)"
   ]
  },
  {
   "cell_type": "code",
   "execution_count": 14,
   "id": "65061818-ba80-45bb-aea3-a28559b57c23",
   "metadata": {},
   "outputs": [],
   "source": [
    "all_clauses = []\n",
    "for i in range(len(new_stat)):\n",
    "    clauses_z = []\n",
    "    for literal in new_stat[i]:\n",
    "        #print(literal)\n",
    "        if literal < 0:\n",
    "            literal_exp = 1 - Z[abs(literal)]\n",
    "        else:\n",
    "            literal_exp = 1 + Z[abs(literal)]\n",
    "        clauses_z.append(literal_exp)\n",
    "    all_clauses.append(clauses_z)"
   ]
  },
  {
   "cell_type": "code",
   "execution_count": 15,
   "id": "24fc6932-8022-49ee-a4a6-40501f96a0f0",
   "metadata": {},
   "outputs": [
    {
     "name": "stdout",
     "output_type": "stream",
     "text": [
      "-Z[1]*Z[2]*Z[3] + Z[1]*Z[2] + Z[1]*Z[3] - Z[1] + Z[2]*Z[3] - Z[2] - Z[3] + 1\n",
      "-Z[1]*Z[2]*Z[3] - Z[1]*Z[2] + Z[1]*Z[3] + Z[1] - Z[2]*Z[3] - Z[2] + Z[3] + 1\n",
      "-Z[1]*Z[2]*Z[3] + Z[1]*Z[2] - Z[1]*Z[3] + Z[1] - Z[2]*Z[3] + Z[2] - Z[3] + 1\n",
      "Z[1]*Z[2]*Z[3] - Z[1]*Z[2] - Z[1]*Z[3] + Z[1] + Z[2]*Z[3] - Z[2] - Z[3] + 1\n",
      "-Z[1]*Z[2]*Z[3] - Z[1]*Z[2] - Z[1]*Z[3] - Z[1] + Z[2]*Z[3] + Z[2] + Z[3] + 1\n"
     ]
    }
   ],
   "source": [
    "clauses_list = []\n",
    "for clause in all_clauses:\n",
    "    print(expand(np.prod(clause)))\n",
    "    clauses_list.append(expand(np.prod(clause)))"
   ]
  },
  {
   "cell_type": "code",
   "execution_count": 16,
   "id": "4defbf31-d7a1-4369-860f-cf6a791d62a1",
   "metadata": {},
   "outputs": [
    {
     "data": {
      "text/latex": [
       "$\\displaystyle - 3 {Z}_{1} {Z}_{2} {Z}_{3} - {Z}_{1} {Z}_{2} - {Z}_{1} {Z}_{3} + {Z}_{1} + {Z}_{2} {Z}_{3} - {Z}_{2} - {Z}_{3} + 5$"
      ],
      "text/plain": [
       "-3*Z[1]*Z[2]*Z[3] - Z[1]*Z[2] - Z[1]*Z[3] + Z[1] + Z[2]*Z[3] - Z[2] - Z[3] + 5"
      ]
     },
     "execution_count": 16,
     "metadata": {},
     "output_type": "execute_result"
    }
   ],
   "source": [
    "total_clause = np.sum(clauses_list)\n",
    "total_clause"
   ]
  },
  {
   "cell_type": "code",
   "execution_count": 17,
   "id": "871f20d8-81bf-4327-804d-6e32c8229ada",
   "metadata": {},
   "outputs": [],
   "source": [
    "def clause_transformer(clause):\n",
    "\n",
    "    crcs = []\n",
    "\n",
    "    for elem in Add.make_args(total_clause):\n",
    "        el = str(elem)\n",
    "\n",
    "        if '-' in el and el[1] != 'Z':\n",
    "            #print(el, -int(el[1]), re.findall(r\"\\[(\\d+)\\]\", el))\n",
    "            bit_string = re.findall(r\"\\[(\\d+)\\]\", el)\n",
    "            new_bits = [eval(i) for i in bit_string]\n",
    "            crcs.append((-int(el[1]), [x - 1 for x in new_bits]))\n",
    "\n",
    "        elif '-' in el and el[1] == 'Z':\n",
    "            #print(el, -1, re.findall(r\"\\[(\\d+)\\]\", el))\n",
    "            bit_string = re.findall(r\"\\[(\\d+)\\]\", el)\n",
    "            new_bits = [eval(i) for i in bit_string]\n",
    "            crcs.append((-1, [x - 1 for x in new_bits]))\n",
    "\n",
    "        elif 'Z' in el:\n",
    "            #print(el, +1, re.findall(r\"\\[(\\d+)\\]\", el))\n",
    "            bit_string = re.findall(r\"\\[(\\d+)\\]\", el)\n",
    "            new_bits = [eval(i) for i in bit_string]\n",
    "            crcs.append((+1, [x - 1 for x in new_bits]))\n",
    "        \n",
    "        else:\n",
    "            crcs.append(int(el))\n",
    "          \n",
    "    return crcs"
   ]
  },
  {
   "cell_type": "code",
   "execution_count": 18,
   "id": "151cf583-1ada-41b3-bc14-f33659e001d5",
   "metadata": {},
   "outputs": [
    {
     "data": {
      "text/plain": [
       "[5,\n",
       " (-1, [1]),\n",
       " (-1, [2]),\n",
       " (1, [1, 2]),\n",
       " (-1, [0, 1]),\n",
       " (-1, [0, 2]),\n",
       " (-3, [0, 1, 2]),\n",
       " (1, [0])]"
      ]
     },
     "execution_count": 18,
     "metadata": {},
     "output_type": "execute_result"
    }
   ],
   "source": [
    "clause_transformer(total_clause)"
   ]
  },
  {
   "cell_type": "code",
   "execution_count": 19,
   "id": "a66266df-6863-4cad-8b47-93069a388b99",
   "metadata": {},
   "outputs": [
    {
     "data": {
      "text/plain": [
       "-5"
      ]
     },
     "execution_count": 19,
     "metadata": {},
     "output_type": "execute_result"
    }
   ],
   "source": [
    "gs_energy = -clause_transformer(total_clause)[0]\n",
    "gs_energy"
   ]
  },
  {
   "cell_type": "markdown",
   "id": "c8ba24c5-08cd-497e-873f-aa25bb869298",
   "metadata": {},
   "source": [
    "## Cirq build"
   ]
  },
  {
   "cell_type": "code",
   "execution_count": 20,
   "id": "d83571f4-0bde-4d06-b765-7947c3e26097",
   "metadata": {},
   "outputs": [],
   "source": [
    "qubits = []\n",
    "nqubits = 3\n",
    "for i in range(nqubits):\n",
    "        qubits.append(cirq.GridQubit(0,i))        \n",
    "qubits = list(reversed(qubits))"
   ]
  },
  {
   "cell_type": "code",
   "execution_count": 21,
   "id": "13d17413-7ecd-4161-86f5-f63d9b611420",
   "metadata": {},
   "outputs": [],
   "source": [
    "all_qubits = [i for i in range(nqubits)]"
   ]
  },
  {
   "cell_type": "code",
   "execution_count": 22,
   "id": "a645d80f-bb66-408a-bfa8-5c5700fc2c39",
   "metadata": {},
   "outputs": [],
   "source": [
    "def z_string_gates(z_inds, par):\n",
    "    z_string = []\n",
    "    cnot_gates = []\n",
    "    #print(z_inds)\n",
    "    pairs = list(zip([z_inds[0] for i in range(len(z_inds))], z_inds[1:]))\n",
    "    #print(pairs)\n",
    "    for pair in pairs:\n",
    "        #print(pair)\n",
    "        cnot_gates.append(cirq.CNOT(qubits[pair[1]], qubits[pair[0]]))\n",
    "    z_string.append(cnot_gates)\n",
    "    z_string.append(cirq.rz(par).on(qubits[pair[0]]))\n",
    "    z_string.append(cnot_gates[len(cnot_gates) - 1::-1])\n",
    "    return z_string"
   ]
  },
  {
   "cell_type": "code",
   "execution_count": 23,
   "id": "25044e6e-ea38-4248-ac9c-ac44dcf52490",
   "metadata": {},
   "outputs": [],
   "source": [
    "def hamiltonian_circuit(circuit, qubits, par, clause): \n",
    "    for elem in clause_transformer(clause):\n",
    "        res = type(elem) is tuple  \n",
    "        if res == False:\n",
    "            for qubit in qubits:\n",
    "                pass\n",
    "                #circuit.append(cirq.I(qubit))\n",
    "        else:\n",
    "            coef = elem[0]\n",
    "            z_inds = elem[1]\n",
    "            #print(sign)\n",
    "            if len(z_inds) == 1:\n",
    "                #print(sign, z_inds)\n",
    "                circuit.append(cirq.rz(coef*par).on(qubits[z_inds[0]]))\n",
    "            else:\n",
    "                #print(sign, z_inds)\n",
    "                circuit.append(z_string_gates(z_inds,coef*par))\n",
    "    return circuit"
   ]
  },
  {
   "cell_type": "code",
   "execution_count": 24,
   "id": "b9f64858-2c1d-47dd-bf93-91193a75ebf1",
   "metadata": {},
   "outputs": [],
   "source": [
    "def mixing_circuit(circuit, qubits, par):\n",
    "    for i in range(len(qubits)):\n",
    "        circuit.append(cirq.rx(par).on(qubits[i]))\n",
    "    return circuit"
   ]
  },
  {
   "cell_type": "code",
   "execution_count": 25,
   "id": "80b3e87c-b3f2-4976-956c-8281d8668499",
   "metadata": {},
   "outputs": [],
   "source": [
    "qaoa_circuit = cirq.Circuit()\n",
    "p = 3\n",
    "\n",
    "num_param = 2 * p \n",
    "parameters = symbols(\"q0:%d\" % num_param)\n",
    "\n",
    "for i in range(p):\n",
    "    qaoa_circuit = hamiltonian_circuit(qaoa_circuit, qubits, parameters[2 * i], total_clause)\n",
    "    qaoa_circuit = mixing_circuit(qaoa_circuit, qubits, parameters[2 * i + 1])"
   ]
  },
  {
   "cell_type": "code",
   "execution_count": 26,
   "id": "3588ffb7-923c-4e6f-9816-5d0e08b16183",
   "metadata": {},
   "outputs": [
    {
     "name": "stderr",
     "output_type": "stream",
     "text": [
      "WARNING:matplotlib.font_manager:findfont: Font family ['Arial'] not found. Falling back to DejaVu Sans.\n"
     ]
    },
    {
     "data": {
      "image/svg+xml": [
       "<svg xmlns=\"http://www.w3.org/2000/svg\" width=\"3463.4282031250013\" height=\"150.0\"><line x1=\"34.7588671875\" x2=\"3433.4282031250013\" y1=\"25.0\" y2=\"25.0\" stroke=\"#1967d2\" stroke-width=\"1\" /><line x1=\"34.7588671875\" x2=\"3433.4282031250013\" y1=\"75.0\" y2=\"75.0\" stroke=\"#1967d2\" stroke-width=\"1\" /><line x1=\"34.7588671875\" x2=\"3433.4282031250013\" y1=\"125.0\" y2=\"125.0\" stroke=\"#1967d2\" stroke-width=\"1\" /><line x1=\"177.7868359375\" x2=\"177.7868359375\" y1=\"25.0\" y2=\"75.0\" stroke=\"black\" stroke-width=\"3\" /><line x1=\"311.0041796875\" x2=\"311.0041796875\" y1=\"25.0\" y2=\"75.0\" stroke=\"black\" stroke-width=\"3\" /><line x1=\"371.0041796875\" x2=\"371.0041796875\" y1=\"75.0\" y2=\"125.0\" stroke=\"black\" stroke-width=\"3\" /><line x1=\"509.27328125\" x2=\"509.27328125\" y1=\"75.0\" y2=\"125.0\" stroke=\"black\" stroke-width=\"3\" /><line x1=\"569.2732812500001\" x2=\"569.2732812500001\" y1=\"25.0\" y2=\"125.0\" stroke=\"black\" stroke-width=\"3\" /><line x1=\"707.5423828125001\" x2=\"707.5423828125001\" y1=\"25.0\" y2=\"125.0\" stroke=\"black\" stroke-width=\"3\" /><line x1=\"767.5423828125001\" x2=\"767.5423828125001\" y1=\"75.0\" y2=\"125.0\" stroke=\"black\" stroke-width=\"3\" /><line x1=\"827.5423828125001\" x2=\"827.5423828125001\" y1=\"25.0\" y2=\"125.0\" stroke=\"black\" stroke-width=\"3\" /><line x1=\"981.7187109375002\" x2=\"981.7187109375002\" y1=\"25.0\" y2=\"125.0\" stroke=\"black\" stroke-width=\"3\" /><line x1=\"1048.7956445312502\" x2=\"1048.7956445312502\" y1=\"75.0\" y2=\"125.0\" stroke=\"black\" stroke-width=\"3\" /><line x1=\"1272.4107812500004\" x2=\"1272.4107812500004\" y1=\"25.0\" y2=\"75.0\" stroke=\"black\" stroke-width=\"3\" /><line x1=\"1405.6281250000004\" x2=\"1405.6281250000004\" y1=\"25.0\" y2=\"75.0\" stroke=\"black\" stroke-width=\"3\" /><line x1=\"1465.6281250000004\" x2=\"1465.6281250000004\" y1=\"75.0\" y2=\"125.0\" stroke=\"black\" stroke-width=\"3\" /><line x1=\"1603.8972265625005\" x2=\"1603.8972265625005\" y1=\"75.0\" y2=\"125.0\" stroke=\"black\" stroke-width=\"3\" /><line x1=\"1663.8972265625005\" x2=\"1663.8972265625005\" y1=\"25.0\" y2=\"125.0\" stroke=\"black\" stroke-width=\"3\" /><line x1=\"1802.1663281250005\" x2=\"1802.1663281250005\" y1=\"25.0\" y2=\"125.0\" stroke=\"black\" stroke-width=\"3\" /><line x1=\"1862.1663281250005\" x2=\"1862.1663281250005\" y1=\"75.0\" y2=\"125.0\" stroke=\"black\" stroke-width=\"3\" /><line x1=\"1922.1663281250005\" x2=\"1922.1663281250005\" y1=\"25.0\" y2=\"125.0\" stroke=\"black\" stroke-width=\"3\" /><line x1=\"2076.342656250001\" x2=\"2076.342656250001\" y1=\"25.0\" y2=\"125.0\" stroke=\"black\" stroke-width=\"3\" /><line x1=\"2143.4195898437506\" x2=\"2143.4195898437506\" y1=\"75.0\" y2=\"125.0\" stroke=\"black\" stroke-width=\"3\" /><line x1=\"2367.034726562501\" x2=\"2367.034726562501\" y1=\"25.0\" y2=\"75.0\" stroke=\"black\" stroke-width=\"3\" /><line x1=\"2500.252070312501\" x2=\"2500.252070312501\" y1=\"25.0\" y2=\"75.0\" stroke=\"black\" stroke-width=\"3\" /><line x1=\"2560.252070312501\" x2=\"2560.252070312501\" y1=\"75.0\" y2=\"125.0\" stroke=\"black\" stroke-width=\"3\" /><line x1=\"2698.521171875001\" x2=\"2698.521171875001\" y1=\"75.0\" y2=\"125.0\" stroke=\"black\" stroke-width=\"3\" /><line x1=\"2758.521171875001\" x2=\"2758.521171875001\" y1=\"25.0\" y2=\"125.0\" stroke=\"black\" stroke-width=\"3\" /><line x1=\"2896.790273437501\" x2=\"2896.790273437501\" y1=\"25.0\" y2=\"125.0\" stroke=\"black\" stroke-width=\"3\" /><line x1=\"2956.790273437501\" x2=\"2956.790273437501\" y1=\"75.0\" y2=\"125.0\" stroke=\"black\" stroke-width=\"3\" /><line x1=\"3016.790273437501\" x2=\"3016.790273437501\" y1=\"25.0\" y2=\"125.0\" stroke=\"black\" stroke-width=\"3\" /><line x1=\"3170.966601562501\" x2=\"3170.966601562501\" y1=\"25.0\" y2=\"125.0\" stroke=\"black\" stroke-width=\"3\" /><line x1=\"3238.043535156251\" x2=\"3238.043535156251\" y1=\"75.0\" y2=\"125.0\" stroke=\"black\" stroke-width=\"3\" /><rect x=\"10.0\" y=\"5.0\" width=\"49.517734375\" height=\"40\" stroke=\"black\" fill=\"white\" stroke-width=\"0\" /><text x=\"34.7588671875\" y=\"25.0\" dominant-baseline=\"middle\" text-anchor=\"middle\" font-size=\"14px\" font-family=\"Arial\">(0, 0): </text><rect x=\"10.0\" y=\"55.0\" width=\"49.517734375\" height=\"40\" stroke=\"black\" fill=\"white\" stroke-width=\"0\" /><text x=\"34.7588671875\" y=\"75.0\" dominant-baseline=\"middle\" text-anchor=\"middle\" font-size=\"14px\" font-family=\"Arial\">(0, 1): </text><rect x=\"10.0\" y=\"105.0\" width=\"49.517734375\" height=\"40\" stroke=\"black\" fill=\"white\" stroke-width=\"0\" /><text x=\"34.7588671875\" y=\"125.0\" dominant-baseline=\"middle\" text-anchor=\"middle\" font-size=\"14px\" font-family=\"Arial\">(0, 2): </text><rect x=\"79.517734375\" y=\"55.0\" width=\"58.2691015625\" height=\"40\" stroke=\"black\" fill=\"white\" stroke-width=\"1\" /><text x=\"108.65228515625\" y=\"75.0\" dominant-baseline=\"middle\" text-anchor=\"middle\" font-size=\"14px\" font-family=\"Arial\">Rz(-q0)</text><rect x=\"79.517734375\" y=\"5.0\" width=\"58.2691015625\" height=\"40\" stroke=\"black\" fill=\"white\" stroke-width=\"1\" /><text x=\"108.65228515625\" y=\"25.0\" dominant-baseline=\"middle\" text-anchor=\"middle\" font-size=\"14px\" font-family=\"Arial\">Rz(-q0)</text><circle cx=\"177.7868359375\" cy=\"25.0\" r=\"10.0\" /><rect x=\"157.7868359375\" y=\"55.0\" width=\"40\" height=\"40\" stroke=\"black\" fill=\"white\" stroke-width=\"1\" /><text x=\"177.7868359375\" y=\"75.0\" dominant-baseline=\"middle\" text-anchor=\"middle\" font-size=\"18px\" font-family=\"Arial\">X</text><rect x=\"217.7868359375\" y=\"55.0\" width=\"53.21734375\" height=\"40\" stroke=\"black\" fill=\"white\" stroke-width=\"1\" /><text x=\"244.3955078125\" y=\"75.0\" dominant-baseline=\"middle\" text-anchor=\"middle\" font-size=\"14px\" font-family=\"Arial\">Rz(q0)</text><circle cx=\"311.0041796875\" cy=\"25.0\" r=\"10.0\" /><rect x=\"291.0041796875\" y=\"55.0\" width=\"40\" height=\"40\" stroke=\"black\" fill=\"white\" stroke-width=\"1\" /><text x=\"311.0041796875\" y=\"75.0\" dominant-baseline=\"middle\" text-anchor=\"middle\" font-size=\"18px\" font-family=\"Arial\">X</text><circle cx=\"371.0041796875\" cy=\"75.0\" r=\"10.0\" /><rect x=\"351.0041796875\" y=\"105.0\" width=\"40\" height=\"40\" stroke=\"black\" fill=\"white\" stroke-width=\"1\" /><text x=\"371.0041796875\" y=\"125.0\" dominant-baseline=\"middle\" text-anchor=\"middle\" font-size=\"18px\" font-family=\"Arial\">X</text><rect x=\"411.0041796875\" y=\"105.0\" width=\"58.2691015625\" height=\"40\" stroke=\"black\" fill=\"white\" stroke-width=\"1\" /><text x=\"440.13873046875005\" y=\"125.0\" dominant-baseline=\"middle\" text-anchor=\"middle\" font-size=\"14px\" font-family=\"Arial\">Rz(-q0)</text><circle cx=\"509.27328125\" cy=\"75.0\" r=\"10.0\" /><rect x=\"489.27328125\" y=\"105.0\" width=\"40\" height=\"40\" stroke=\"black\" fill=\"white\" stroke-width=\"1\" /><text x=\"509.27328125\" y=\"125.0\" dominant-baseline=\"middle\" text-anchor=\"middle\" font-size=\"18px\" font-family=\"Arial\">X</text><circle cx=\"569.2732812500001\" cy=\"25.0\" r=\"10.0\" /><rect x=\"549.2732812500001\" y=\"105.0\" width=\"40\" height=\"40\" stroke=\"black\" fill=\"white\" stroke-width=\"1\" /><text x=\"569.2732812500001\" y=\"125.0\" dominant-baseline=\"middle\" text-anchor=\"middle\" font-size=\"18px\" font-family=\"Arial\">X</text><rect x=\"609.2732812500001\" y=\"105.0\" width=\"58.2691015625\" height=\"40\" stroke=\"black\" fill=\"white\" stroke-width=\"1\" /><text x=\"638.4078320312501\" y=\"125.0\" dominant-baseline=\"middle\" text-anchor=\"middle\" font-size=\"14px\" font-family=\"Arial\">Rz(-q0)</text><circle cx=\"707.5423828125001\" cy=\"25.0\" r=\"10.0\" /><rect x=\"687.5423828125001\" y=\"105.0\" width=\"40\" height=\"40\" stroke=\"black\" fill=\"white\" stroke-width=\"1\" /><text x=\"707.5423828125001\" y=\"125.0\" dominant-baseline=\"middle\" text-anchor=\"middle\" font-size=\"18px\" font-family=\"Arial\">X</text><circle cx=\"767.5423828125001\" cy=\"75.0\" r=\"10.0\" /><rect x=\"747.5423828125001\" y=\"105.0\" width=\"40\" height=\"40\" stroke=\"black\" fill=\"white\" stroke-width=\"1\" /><text x=\"767.5423828125001\" y=\"125.0\" dominant-baseline=\"middle\" text-anchor=\"middle\" font-size=\"18px\" font-family=\"Arial\">X</text><circle cx=\"827.5423828125001\" cy=\"25.0\" r=\"10.0\" /><rect x=\"807.5423828125001\" y=\"105.0\" width=\"40\" height=\"40\" stroke=\"black\" fill=\"white\" stroke-width=\"1\" /><text x=\"827.5423828125001\" y=\"125.0\" dominant-baseline=\"middle\" text-anchor=\"middle\" font-size=\"18px\" font-family=\"Arial\">X</text><rect x=\"867.5423828125001\" y=\"105.0\" width=\"74.17632812500001\" height=\"40\" stroke=\"black\" fill=\"white\" stroke-width=\"1\" /><text x=\"904.6305468750002\" y=\"125.0\" dominant-baseline=\"middle\" text-anchor=\"middle\" font-size=\"14px\" font-family=\"Arial\">Rz(-3*q0)</text><circle cx=\"981.7187109375002\" cy=\"25.0\" r=\"10.0\" /><rect x=\"961.7187109375002\" y=\"105.0\" width=\"40\" height=\"40\" stroke=\"black\" fill=\"white\" stroke-width=\"1\" /><text x=\"981.7187109375002\" y=\"125.0\" dominant-baseline=\"middle\" text-anchor=\"middle\" font-size=\"18px\" font-family=\"Arial\">X</text><circle cx=\"1048.7956445312502\" cy=\"75.0\" r=\"10.0\" /><rect x=\"1021.7187109375002\" y=\"105.0\" width=\"54.1538671875\" height=\"40\" stroke=\"black\" fill=\"white\" stroke-width=\"1\" /><text x=\"1048.7956445312502\" y=\"125.0\" dominant-baseline=\"middle\" text-anchor=\"middle\" font-size=\"18px\" font-family=\"Arial\">X</text><rect x=\"1021.7187109375002\" y=\"5.0\" width=\"54.1538671875\" height=\"40\" stroke=\"black\" fill=\"white\" stroke-width=\"1\" /><text x=\"1048.7956445312502\" y=\"25.0\" dominant-baseline=\"middle\" text-anchor=\"middle\" font-size=\"14px\" font-family=\"Arial\">Rx(q1)</text><rect x=\"1095.8725781250002\" y=\"105.0\" width=\"58.2691015625\" height=\"40\" stroke=\"black\" fill=\"white\" stroke-width=\"1\" /><text x=\"1125.0071289062503\" y=\"125.0\" dominant-baseline=\"middle\" text-anchor=\"middle\" font-size=\"14px\" font-family=\"Arial\">Rz(q0)</text><rect x=\"1095.8725781250002\" y=\"55.0\" width=\"58.2691015625\" height=\"40\" stroke=\"black\" fill=\"white\" stroke-width=\"1\" /><text x=\"1125.0071289062503\" y=\"75.0\" dominant-baseline=\"middle\" text-anchor=\"middle\" font-size=\"14px\" font-family=\"Arial\">Rx(q1)</text><rect x=\"1095.8725781250002\" y=\"5.0\" width=\"58.2691015625\" height=\"40\" stroke=\"black\" fill=\"white\" stroke-width=\"1\" /><text x=\"1125.0071289062503\" y=\"25.0\" dominant-baseline=\"middle\" text-anchor=\"middle\" font-size=\"14px\" font-family=\"Arial\">Rz(-q2)</text><rect x=\"1174.1416796875003\" y=\"105.0\" width=\"58.2691015625\" height=\"40\" stroke=\"black\" fill=\"white\" stroke-width=\"1\" /><text x=\"1203.2762304687503\" y=\"125.0\" dominant-baseline=\"middle\" text-anchor=\"middle\" font-size=\"14px\" font-family=\"Arial\">Rx(q1)</text><rect x=\"1174.1416796875003\" y=\"55.0\" width=\"58.2691015625\" height=\"40\" stroke=\"black\" fill=\"white\" stroke-width=\"1\" /><text x=\"1203.2762304687503\" y=\"75.0\" dominant-baseline=\"middle\" text-anchor=\"middle\" font-size=\"14px\" font-family=\"Arial\">Rz(-q2)</text><circle cx=\"1272.4107812500004\" cy=\"25.0\" r=\"10.0\" /><rect x=\"1252.4107812500004\" y=\"55.0\" width=\"40\" height=\"40\" stroke=\"black\" fill=\"white\" stroke-width=\"1\" /><text x=\"1272.4107812500004\" y=\"75.0\" dominant-baseline=\"middle\" text-anchor=\"middle\" font-size=\"18px\" font-family=\"Arial\">X</text><rect x=\"1312.4107812500004\" y=\"55.0\" width=\"53.21734375\" height=\"40\" stroke=\"black\" fill=\"white\" stroke-width=\"1\" /><text x=\"1339.0194531250004\" y=\"75.0\" dominant-baseline=\"middle\" text-anchor=\"middle\" font-size=\"14px\" font-family=\"Arial\">Rz(q2)</text><circle cx=\"1405.6281250000004\" cy=\"25.0\" r=\"10.0\" /><rect x=\"1385.6281250000004\" y=\"55.0\" width=\"40\" height=\"40\" stroke=\"black\" fill=\"white\" stroke-width=\"1\" /><text x=\"1405.6281250000004\" y=\"75.0\" dominant-baseline=\"middle\" text-anchor=\"middle\" font-size=\"18px\" font-family=\"Arial\">X</text><circle cx=\"1465.6281250000004\" cy=\"75.0\" r=\"10.0\" /><rect x=\"1445.6281250000004\" y=\"105.0\" width=\"40\" height=\"40\" stroke=\"black\" fill=\"white\" stroke-width=\"1\" /><text x=\"1465.6281250000004\" y=\"125.0\" dominant-baseline=\"middle\" text-anchor=\"middle\" font-size=\"18px\" font-family=\"Arial\">X</text><rect x=\"1505.6281250000004\" y=\"105.0\" width=\"58.2691015625\" height=\"40\" stroke=\"black\" fill=\"white\" stroke-width=\"1\" /><text x=\"1534.7626757812504\" y=\"125.0\" dominant-baseline=\"middle\" text-anchor=\"middle\" font-size=\"14px\" font-family=\"Arial\">Rz(-q2)</text><circle cx=\"1603.8972265625005\" cy=\"75.0\" r=\"10.0\" /><rect x=\"1583.8972265625005\" y=\"105.0\" width=\"40\" height=\"40\" stroke=\"black\" fill=\"white\" stroke-width=\"1\" /><text x=\"1603.8972265625005\" y=\"125.0\" dominant-baseline=\"middle\" text-anchor=\"middle\" font-size=\"18px\" font-family=\"Arial\">X</text><circle cx=\"1663.8972265625005\" cy=\"25.0\" r=\"10.0\" /><rect x=\"1643.8972265625005\" y=\"105.0\" width=\"40\" height=\"40\" stroke=\"black\" fill=\"white\" stroke-width=\"1\" /><text x=\"1663.8972265625005\" y=\"125.0\" dominant-baseline=\"middle\" text-anchor=\"middle\" font-size=\"18px\" font-family=\"Arial\">X</text><rect x=\"1703.8972265625005\" y=\"105.0\" width=\"58.2691015625\" height=\"40\" stroke=\"black\" fill=\"white\" stroke-width=\"1\" /><text x=\"1733.0317773437505\" y=\"125.0\" dominant-baseline=\"middle\" text-anchor=\"middle\" font-size=\"14px\" font-family=\"Arial\">Rz(-q2)</text><circle cx=\"1802.1663281250005\" cy=\"25.0\" r=\"10.0\" /><rect x=\"1782.1663281250005\" y=\"105.0\" width=\"40\" height=\"40\" stroke=\"black\" fill=\"white\" stroke-width=\"1\" /><text x=\"1802.1663281250005\" y=\"125.0\" dominant-baseline=\"middle\" text-anchor=\"middle\" font-size=\"18px\" font-family=\"Arial\">X</text><circle cx=\"1862.1663281250005\" cy=\"75.0\" r=\"10.0\" /><rect x=\"1842.1663281250005\" y=\"105.0\" width=\"40\" height=\"40\" stroke=\"black\" fill=\"white\" stroke-width=\"1\" /><text x=\"1862.1663281250005\" y=\"125.0\" dominant-baseline=\"middle\" text-anchor=\"middle\" font-size=\"18px\" font-family=\"Arial\">X</text><circle cx=\"1922.1663281250005\" cy=\"25.0\" r=\"10.0\" /><rect x=\"1902.1663281250005\" y=\"105.0\" width=\"40\" height=\"40\" stroke=\"black\" fill=\"white\" stroke-width=\"1\" /><text x=\"1922.1663281250005\" y=\"125.0\" dominant-baseline=\"middle\" text-anchor=\"middle\" font-size=\"18px\" font-family=\"Arial\">X</text><rect x=\"1962.1663281250005\" y=\"105.0\" width=\"74.17632812500001\" height=\"40\" stroke=\"black\" fill=\"white\" stroke-width=\"1\" /><text x=\"1999.2544921875005\" y=\"125.0\" dominant-baseline=\"middle\" text-anchor=\"middle\" font-size=\"14px\" font-family=\"Arial\">Rz(-3*q2)</text><circle cx=\"2076.342656250001\" cy=\"25.0\" r=\"10.0\" /><rect x=\"2056.342656250001\" y=\"105.0\" width=\"40\" height=\"40\" stroke=\"black\" fill=\"white\" stroke-width=\"1\" /><text x=\"2076.342656250001\" y=\"125.0\" dominant-baseline=\"middle\" text-anchor=\"middle\" font-size=\"18px\" font-family=\"Arial\">X</text><circle cx=\"2143.4195898437506\" cy=\"75.0\" r=\"10.0\" /><rect x=\"2116.342656250001\" y=\"105.0\" width=\"54.1538671875\" height=\"40\" stroke=\"black\" fill=\"white\" stroke-width=\"1\" /><text x=\"2143.4195898437506\" y=\"125.0\" dominant-baseline=\"middle\" text-anchor=\"middle\" font-size=\"18px\" font-family=\"Arial\">X</text><rect x=\"2116.342656250001\" y=\"5.0\" width=\"54.1538671875\" height=\"40\" stroke=\"black\" fill=\"white\" stroke-width=\"1\" /><text x=\"2143.4195898437506\" y=\"25.0\" dominant-baseline=\"middle\" text-anchor=\"middle\" font-size=\"14px\" font-family=\"Arial\">Rx(q3)</text><rect x=\"2190.496523437501\" y=\"105.0\" width=\"58.2691015625\" height=\"40\" stroke=\"black\" fill=\"white\" stroke-width=\"1\" /><text x=\"2219.6310742187507\" y=\"125.0\" dominant-baseline=\"middle\" text-anchor=\"middle\" font-size=\"14px\" font-family=\"Arial\">Rz(q2)</text><rect x=\"2190.496523437501\" y=\"55.0\" width=\"58.2691015625\" height=\"40\" stroke=\"black\" fill=\"white\" stroke-width=\"1\" /><text x=\"2219.6310742187507\" y=\"75.0\" dominant-baseline=\"middle\" text-anchor=\"middle\" font-size=\"14px\" font-family=\"Arial\">Rx(q3)</text><rect x=\"2190.496523437501\" y=\"5.0\" width=\"58.2691015625\" height=\"40\" stroke=\"black\" fill=\"white\" stroke-width=\"1\" /><text x=\"2219.6310742187507\" y=\"25.0\" dominant-baseline=\"middle\" text-anchor=\"middle\" font-size=\"14px\" font-family=\"Arial\">Rz(-q4)</text><rect x=\"2268.765625000001\" y=\"105.0\" width=\"58.2691015625\" height=\"40\" stroke=\"black\" fill=\"white\" stroke-width=\"1\" /><text x=\"2297.9001757812507\" y=\"125.0\" dominant-baseline=\"middle\" text-anchor=\"middle\" font-size=\"14px\" font-family=\"Arial\">Rx(q3)</text><rect x=\"2268.765625000001\" y=\"55.0\" width=\"58.2691015625\" height=\"40\" stroke=\"black\" fill=\"white\" stroke-width=\"1\" /><text x=\"2297.9001757812507\" y=\"75.0\" dominant-baseline=\"middle\" text-anchor=\"middle\" font-size=\"14px\" font-family=\"Arial\">Rz(-q4)</text><circle cx=\"2367.034726562501\" cy=\"25.0\" r=\"10.0\" /><rect x=\"2347.034726562501\" y=\"55.0\" width=\"40\" height=\"40\" stroke=\"black\" fill=\"white\" stroke-width=\"1\" /><text x=\"2367.034726562501\" y=\"75.0\" dominant-baseline=\"middle\" text-anchor=\"middle\" font-size=\"18px\" font-family=\"Arial\">X</text><rect x=\"2407.034726562501\" y=\"55.0\" width=\"53.21734375\" height=\"40\" stroke=\"black\" fill=\"white\" stroke-width=\"1\" /><text x=\"2433.6433984375008\" y=\"75.0\" dominant-baseline=\"middle\" text-anchor=\"middle\" font-size=\"14px\" font-family=\"Arial\">Rz(q4)</text><circle cx=\"2500.252070312501\" cy=\"25.0\" r=\"10.0\" /><rect x=\"2480.252070312501\" y=\"55.0\" width=\"40\" height=\"40\" stroke=\"black\" fill=\"white\" stroke-width=\"1\" /><text x=\"2500.252070312501\" y=\"75.0\" dominant-baseline=\"middle\" text-anchor=\"middle\" font-size=\"18px\" font-family=\"Arial\">X</text><circle cx=\"2560.252070312501\" cy=\"75.0\" r=\"10.0\" /><rect x=\"2540.252070312501\" y=\"105.0\" width=\"40\" height=\"40\" stroke=\"black\" fill=\"white\" stroke-width=\"1\" /><text x=\"2560.252070312501\" y=\"125.0\" dominant-baseline=\"middle\" text-anchor=\"middle\" font-size=\"18px\" font-family=\"Arial\">X</text><rect x=\"2600.252070312501\" y=\"105.0\" width=\"58.2691015625\" height=\"40\" stroke=\"black\" fill=\"white\" stroke-width=\"1\" /><text x=\"2629.386621093751\" y=\"125.0\" dominant-baseline=\"middle\" text-anchor=\"middle\" font-size=\"14px\" font-family=\"Arial\">Rz(-q4)</text><circle cx=\"2698.521171875001\" cy=\"75.0\" r=\"10.0\" /><rect x=\"2678.521171875001\" y=\"105.0\" width=\"40\" height=\"40\" stroke=\"black\" fill=\"white\" stroke-width=\"1\" /><text x=\"2698.521171875001\" y=\"125.0\" dominant-baseline=\"middle\" text-anchor=\"middle\" font-size=\"18px\" font-family=\"Arial\">X</text><circle cx=\"2758.521171875001\" cy=\"25.0\" r=\"10.0\" /><rect x=\"2738.521171875001\" y=\"105.0\" width=\"40\" height=\"40\" stroke=\"black\" fill=\"white\" stroke-width=\"1\" /><text x=\"2758.521171875001\" y=\"125.0\" dominant-baseline=\"middle\" text-anchor=\"middle\" font-size=\"18px\" font-family=\"Arial\">X</text><rect x=\"2798.521171875001\" y=\"105.0\" width=\"58.2691015625\" height=\"40\" stroke=\"black\" fill=\"white\" stroke-width=\"1\" /><text x=\"2827.655722656251\" y=\"125.0\" dominant-baseline=\"middle\" text-anchor=\"middle\" font-size=\"14px\" font-family=\"Arial\">Rz(-q4)</text><circle cx=\"2896.790273437501\" cy=\"25.0\" r=\"10.0\" /><rect x=\"2876.790273437501\" y=\"105.0\" width=\"40\" height=\"40\" stroke=\"black\" fill=\"white\" stroke-width=\"1\" /><text x=\"2896.790273437501\" y=\"125.0\" dominant-baseline=\"middle\" text-anchor=\"middle\" font-size=\"18px\" font-family=\"Arial\">X</text><circle cx=\"2956.790273437501\" cy=\"75.0\" r=\"10.0\" /><rect x=\"2936.790273437501\" y=\"105.0\" width=\"40\" height=\"40\" stroke=\"black\" fill=\"white\" stroke-width=\"1\" /><text x=\"2956.790273437501\" y=\"125.0\" dominant-baseline=\"middle\" text-anchor=\"middle\" font-size=\"18px\" font-family=\"Arial\">X</text><circle cx=\"3016.790273437501\" cy=\"25.0\" r=\"10.0\" /><rect x=\"2996.790273437501\" y=\"105.0\" width=\"40\" height=\"40\" stroke=\"black\" fill=\"white\" stroke-width=\"1\" /><text x=\"3016.790273437501\" y=\"125.0\" dominant-baseline=\"middle\" text-anchor=\"middle\" font-size=\"18px\" font-family=\"Arial\">X</text><rect x=\"3056.790273437501\" y=\"105.0\" width=\"74.17632812500001\" height=\"40\" stroke=\"black\" fill=\"white\" stroke-width=\"1\" /><text x=\"3093.878437500001\" y=\"125.0\" dominant-baseline=\"middle\" text-anchor=\"middle\" font-size=\"14px\" font-family=\"Arial\">Rz(-3*q4)</text><circle cx=\"3170.966601562501\" cy=\"25.0\" r=\"10.0\" /><rect x=\"3150.966601562501\" y=\"105.0\" width=\"40\" height=\"40\" stroke=\"black\" fill=\"white\" stroke-width=\"1\" /><text x=\"3170.966601562501\" y=\"125.0\" dominant-baseline=\"middle\" text-anchor=\"middle\" font-size=\"18px\" font-family=\"Arial\">X</text><circle cx=\"3238.043535156251\" cy=\"75.0\" r=\"10.0\" /><rect x=\"3210.966601562501\" y=\"105.0\" width=\"54.1538671875\" height=\"40\" stroke=\"black\" fill=\"white\" stroke-width=\"1\" /><text x=\"3238.043535156251\" y=\"125.0\" dominant-baseline=\"middle\" text-anchor=\"middle\" font-size=\"18px\" font-family=\"Arial\">X</text><rect x=\"3210.966601562501\" y=\"5.0\" width=\"54.1538671875\" height=\"40\" stroke=\"black\" fill=\"white\" stroke-width=\"1\" /><text x=\"3238.043535156251\" y=\"25.0\" dominant-baseline=\"middle\" text-anchor=\"middle\" font-size=\"14px\" font-family=\"Arial\">Rx(q5)</text><rect x=\"3285.1204687500012\" y=\"105.0\" width=\"54.1538671875\" height=\"40\" stroke=\"black\" fill=\"white\" stroke-width=\"1\" /><text x=\"3312.197402343751\" y=\"125.0\" dominant-baseline=\"middle\" text-anchor=\"middle\" font-size=\"14px\" font-family=\"Arial\">Rz(q4)</text><rect x=\"3285.1204687500012\" y=\"55.0\" width=\"54.1538671875\" height=\"40\" stroke=\"black\" fill=\"white\" stroke-width=\"1\" /><text x=\"3312.197402343751\" y=\"75.0\" dominant-baseline=\"middle\" text-anchor=\"middle\" font-size=\"14px\" font-family=\"Arial\">Rx(q5)</text><rect x=\"3359.2743359375013\" y=\"105.0\" width=\"54.1538671875\" height=\"40\" stroke=\"black\" fill=\"white\" stroke-width=\"1\" /><text x=\"3386.351269531251\" y=\"125.0\" dominant-baseline=\"middle\" text-anchor=\"middle\" font-size=\"14px\" font-family=\"Arial\">Rx(q5)</text></svg>"
      ],
      "text/plain": [
       "<cirq.contrib.svg.svg.SVGCircuit at 0x7fcaa41172b0>"
      ]
     },
     "execution_count": 26,
     "metadata": {},
     "output_type": "execute_result"
    }
   ],
   "source": [
    "SVGCircuit(qaoa_circuit)"
   ]
  },
  {
   "cell_type": "code",
   "execution_count": 27,
   "id": "5a606775-10f6-4a09-8b8b-1edf260b30fc",
   "metadata": {},
   "outputs": [],
   "source": [
    "def cost_hamiltonian(qubits, clause):\n",
    "    h = 0\n",
    "    for elem in clause_transformer(clause):\n",
    "        res = type(elem) is tuple  \n",
    "        if res == False:\n",
    "            for qubit in qubits:\n",
    "                pass\n",
    "                #circuit.append(cirq.I(qubit))\n",
    "        else:\n",
    "            coef = elem[0]\n",
    "            z_inds = elem[1]\n",
    "            h += coef*math.prod([cirq.Z(qubits[i]) for i in z_inds])\n",
    "    return h"
   ]
  },
  {
   "cell_type": "code",
   "execution_count": 28,
   "id": "4544b665-19fd-4faf-b760-48d62fdda70e",
   "metadata": {},
   "outputs": [],
   "source": [
    "cost = cost_hamiltonian(qubits, total_clause)"
   ]
  },
  {
   "cell_type": "markdown",
   "id": "6c065c58-54db-4f12-a766-8d9cc912b613",
   "metadata": {},
   "source": [
    "## Optimizing the circuit"
   ]
  },
  {
   "cell_type": "code",
   "execution_count": 29,
   "id": "06f8e78e-e6c3-49d7-9e0a-f96138743182",
   "metadata": {},
   "outputs": [],
   "source": [
    "initial = cirq.Circuit()\n",
    "\n",
    "for qubit in qubits:\n",
    "    initial.append(cirq.H(qubit))\n",
    "\n",
    "inputs = tfq.convert_to_tensor([initial])"
   ]
  },
  {
   "cell_type": "code",
   "execution_count": 30,
   "id": "8ff91f43-7eed-4914-957e-fd7a8e1c17aa",
   "metadata": {},
   "outputs": [],
   "source": [
    "ins = tf.keras.layers.Input(shape = (), dtype = tf.dtypes.string)\n",
    "outs = tfq.layers.PQC(qaoa_circuit, cost, differentiator = tfq.differentiators.Adjoint())(ins)\n",
    "ksat = tf.keras.models.Model(inputs = ins, outputs = outs)\n",
    "opt = tf.keras.optimizers.Adam(learning_rate = 0.01)"
   ]
  },
  {
   "cell_type": "code",
   "execution_count": 31,
   "id": "8a355be4-5e85-4410-9709-12415225ee7d",
   "metadata": {},
   "outputs": [
    {
     "name": "stdout",
     "output_type": "stream",
     "text": [
      "Loss at epoch 499 is 0.9966979026794434\r"
     ]
    }
   ],
   "source": [
    "losses = []\n",
    "n_epoch = 500\n",
    "\n",
    "for epoch in range(n_epoch):\n",
    "    \n",
    "    with tf.GradientTape() as tape:\n",
    "        error = ksat(inputs)\n",
    "    \n",
    "    grads = tape.gradient(error, ksat.trainable_variables)\n",
    "    opt.apply_gradients(zip(grads, ksat.trainable_variables))\n",
    "    error = error.numpy()[0][0]\n",
    "    losses.append(error)\n",
    "    \n",
    "    print('Loss at epoch ' + str(epoch) + ' is ' + str(error/gs_energy), end = '\\r')"
   ]
  },
  {
   "cell_type": "code",
   "execution_count": 32,
   "id": "fbc9b849-2aae-4df6-ba3f-7535540445c0",
   "metadata": {},
   "outputs": [
    {
     "data": {
      "image/png": "[encoded data removed]",
      "text/plain": [
       "<Figure size 640x480 with 1 Axes>"
      ]
     },
     "metadata": {},
     "output_type": "display_data"
    }
   ],
   "source": [
    "plt.plot(losses)\n",
    "#plt.title(\"QAOA with TFQ\")\n",
    "plt.xlabel(\"Epoch\")\n",
    "plt.ylabel(\"Loss\")\n",
    "plt.show()\n",
    "#plt.savefig(\"TSP_losses\")"
   ]
  },
  {
   "cell_type": "code",
   "execution_count": 33,
   "id": "18bcc31c-c5bd-4c02-9953-30f259c789be",
   "metadata": {},
   "outputs": [],
   "source": [
    "def to_dec(x):\n",
    "    return int(\"\".join(str(i) for i in x), 2) "
   ]
  },
  {
   "cell_type": "code",
   "execution_count": 34,
   "id": "0cba35e2-710b-4df2-8776-100dd141e8fa",
   "metadata": {},
   "outputs": [
    {
     "name": "stdout",
     "output_type": "stream",
     "text": [
      "[<tf.Variable 'parameters:0' shape=(6,) dtype=float32, numpy=\n",
      "array([4.845991 , 4.201025 , 2.4992452, 5.219365 , 1.3445208, 1.8286686],\n",
      "      dtype=float32)>]\n"
     ]
    }
   ],
   "source": [
    "params = ksat.trainable_variables\n",
    "print(params)\n",
    "\n",
    "sample_circuit = tfq.layers.AddCircuit()(inputs, append=qaoa_circuit)\n",
    "output = tfq.layers.Sample()(sample_circuit, symbol_names=parameters, symbol_values=params, repetitions = 100)\n",
    "\n",
    "quantum_preds = []\n",
    "data = []\n",
    "for bits in output.values:\n",
    "    temp = []\n",
    "    data.append(to_dec(bits.numpy()))\n",
    "    for pos, bit in enumerate(bits):\n",
    "        if bit == 1:\n",
    "            temp.append(pos)\n",
    "    quantum_preds.append(temp)"
   ]
  },
  {
   "cell_type": "code",
   "execution_count": 35,
   "id": "968e4f68-7b77-48f3-ae68-91f618732cd6",
   "metadata": {},
   "outputs": [
    {
     "data": {
      "text/plain": [
       "['000', '011', '101']"
      ]
     },
     "execution_count": 35,
     "metadata": {},
     "output_type": "execute_result"
    }
   ],
   "source": [
    "valid_keys"
   ]
  },
  {
   "cell_type": "code",
   "execution_count": 36,
   "id": "df488f59-571e-4fb5-a66e-66a9f61f2689",
   "metadata": {},
   "outputs": [
    {
     "data": {
      "image/png": "[encoded data removed]",
      "text/plain": [
       "<Figure size 640x480 with 1 Axes>"
      ]
     },
     "metadata": {},
     "output_type": "display_data"
    }
   ],
   "source": [
    "xticks = range(0, 2**nqubits)\n",
    "xtick_labels = list(map(lambda x: format(x, \"0\"+str(nqubits)+\"b\"), xticks))\n",
    "bins = np.arange(0, 2**nqubits + 1) - 0.5\n",
    "plt.xticks(xticks, xtick_labels, rotation=\"vertical\")\n",
    "plt.hist(data, bins=bins, color = \"chartreuse\", lw=0)\n",
    "plt.savefig('hist_3_sat.pdf')\n",
    "plt.show()"
   ]
  }
 ],
 "metadata": {
  "kernelspec": {
   "display_name": "Python 3 (ipykernel)",
   "language": "python",
   "name": "python3"
  },
  "language_info": {
   "codemirror_mode": {
    "name": "ipython",
    "version": 3
   },
   "file_extension": ".py",
   "mimetype": "text/x-python",
   "name": "python",
   "nbconvert_exporter": "python",
   "pygments_lexer": "ipython3",
   "version": "3.9.13"
  }
 },
 "nbformat": 4,
 "nbformat_minor": 5
}
