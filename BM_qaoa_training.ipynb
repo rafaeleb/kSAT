{
 "cells": [
  {
   "cell_type": "code",
   "execution_count": 12,
   "id": "2a9a8d24-463b-4db6-b4b5-ff647465bf88",
   "metadata": {
    "tags": []
   },
   "outputs": [],
   "source": [
    "import matplotlib.pyplot as plt\n",
    "import numpy as np\n",
    "import cirq\n",
    "from cirq.contrib.svg import SVGCircuit\n",
    "import random as rd\n",
    "from sympy import *\n",
    "import tensorflow as tf\n",
    "import tensorflow_quantum as tfq\n",
    "import math\n",
    "import re\n",
    "import itertools\n",
    "from numpy import linalg as LA\n",
    "from scipy.stats import poisson\n",
    "import time\n",
    "from random import choices\n",
    "from random import  uniform"
   ]
  },
  {
   "cell_type": "code",
   "execution_count": 13,
   "id": "1663f844-4367-424c-8010-2f80de323470",
   "metadata": {},
   "outputs": [],
   "source": [
    "k = 4 #length of clauses\n",
    "n_var = 6 #number of variables\n",
    "p = 4 #number of layers\n",
    "\n",
    "nqubits = n_var #number of qubits in the circuit\n",
    "all_vars = [i for i in range(-n_var,n_var+1)]\n",
    "all_vars = [i for i in all_vars if i != 0]\n",
    "\n",
    "qubits = []\n",
    "\n",
    "for i in range(nqubits):\n",
    "    qubits.append(cirq.GridQubit(0,i))        \n",
    "    \n",
    "qubits = list(qubits) #don't know why\n",
    "all_qubits = [i for i in range(nqubits)]"
   ]
  },
  {
   "cell_type": "code",
   "execution_count": 14,
   "id": "6494b8b5-847b-4573-9232-ef1af5704fce",
   "metadata": {},
   "outputs": [],
   "source": [
    "r_by_k = {2 : 1, 3: 6.43, 4: 20.43, 5 : 45.7, 6: 70.21, 8: 176.54, 10: 708.92, 16: 45425.2}\n",
    "\n",
    "def generate_instance(k: int, n: int) -> np.ndarray:\n",
    "    #generate an instance of random k-SAT with n variables in the satisfiability threshold\n",
    "    if not (r := r_by_k.get(k)):\n",
    "        raise ValueError(f\"k must be in {list(r_by_k)} (got {k})\")\n",
    "    m = poisson(r*n).rvs()\n",
    "    #return np.random.choice(all_vars, size=(m, k))\n",
    "    all_variables = []\n",
    "    all_signs = []\n",
    "    for i in range(m):\n",
    "        #all_signs.append([rd.choice(l) for i in range(k)])\n",
    "        all_variables.append(choices(all_vars, k = k))\n",
    "\n",
    "    all_variables = np.array(all_variables)\n",
    "    #all_signs = np.array(all_signs)\n",
    "    return all_variables"
   ]
  },
  {
   "cell_type": "code",
   "execution_count": 15,
   "id": "14037925-4136-47cd-801e-3fbe905773e8",
   "metadata": {
    "tags": []
   },
   "outputs": [],
   "source": [
    "def generate_binary_strings(bit_count):\n",
    "    binary_strings = []\n",
    "    def genbin(n, bs=''):\n",
    "        if len(bs) == n:\n",
    "            binary_strings.append(bs)\n",
    "        else:\n",
    "            genbin(n, bs + '0')\n",
    "            genbin(n, bs + '1')\n",
    "\n",
    "    genbin(bit_count)\n",
    "    return binary_strings\n",
    "\n",
    "binary_strings = generate_binary_strings(nqubits)"
   ]
  },
  {
   "cell_type": "code",
   "execution_count": 16,
   "id": "4ad0c5da-955a-4a57-b06a-fd9b480cc2b6",
   "metadata": {
    "tags": []
   },
   "outputs": [],
   "source": [
    "def dimacs_writer(dimacs_filename, cnf_array):\n",
    "    #writes the dimacs file with the CNF\n",
    "    cnf = cnf_array\n",
    "    cnf_length = len(cnf)\n",
    "    n_sat = len(cnf[0])\n",
    "    var_num = np.max(cnf) \n",
    "    with open(dimacs_filename, \"w\") as f:\n",
    "\n",
    "        f.write('c DIMACS file CNF '+str(n_sat)+'-SAT \\n')\n",
    "        f.write(\"p cnf {} {}\\n\".format(var_num, cnf_length))\n",
    "        \n",
    "        for i, clause in enumerate(cnf):\n",
    "            line = clause.tolist()\n",
    "            if i == cnf_length - 1:\n",
    "                s = ' '.join(str(x) for x in line)+' 0'\n",
    "                f.write(s)\n",
    "            else: \n",
    "                s = ' '.join(str(x) for x in line)+' 0 \\n'\n",
    "                f.write(s)"
   ]
  },
  {
   "cell_type": "code",
   "execution_count": 17,
   "id": "767cb472-cc55-4238-a1f7-0ec21a4298a6",
   "metadata": {
    "tags": []
   },
   "outputs": [],
   "source": [
    "class Verifier():\n",
    "    #verifier from Qiskit page, takes a bit string and checks if cnf is satisfied\n",
    "    def __init__(self, dimacs_file):\n",
    "        with open(dimacs_file, 'r') as f:\n",
    "            self.dimacs = f.read()\n",
    "\n",
    "    def is_correct(self, guess):\n",
    "        # Convert characters to bools & reverse\n",
    "        guess = [bool(int(x)) for x in guess][::-1]\n",
    "        for line in self.dimacs.split('\\n'):\n",
    "            line = line.strip(' 0')\n",
    "            clause_eval = False\n",
    "            for literal in line.split(' '):\n",
    "                if literal in ['p', 'c']:\n",
    "                    # line is not a clause\n",
    "                    clause_eval = True\n",
    "                    break\n",
    "                if '-' in literal:\n",
    "                    literal = literal.strip('-')\n",
    "                    lit_eval = not guess[int(literal)-1]\n",
    "                else:\n",
    "                    lit_eval = guess[int(literal)-1]\n",
    "                clause_eval |= lit_eval\n",
    "            if clause_eval is False:\n",
    "                return False\n",
    "        return True"
   ]
  },
  {
   "cell_type": "code",
   "execution_count": 18,
   "id": "4c2517c3-8d4c-4333-8079-881c82d3f966",
   "metadata": {
    "tags": []
   },
   "outputs": [],
   "source": [
    "def my_gate(c, index):\n",
    "    g = c * cirq.Z.on(qubits[index]) + cirq.I.on(qubits[index])\n",
    "    return g"
   ]
  },
  {
   "cell_type": "code",
   "execution_count": 19,
   "id": "861d4cd5-d03c-4ecc-9adf-55f8c7c13083",
   "metadata": {
    "tags": []
   },
   "outputs": [],
   "source": [
    "def ham_layer(diagonal, circuit, qubits, par):\n",
    "    \n",
    "    l = cirq.DiagonalGate(diagonal)._decompose_(qubits)\n",
    "    l.pop(0)\n",
    "    for j, gate in enumerate(l):\n",
    "\n",
    "        if j % 2 == 0:\n",
    "            dictn = gate._json_dict_()\n",
    "            my_string = str(dictn['gate'])\n",
    "            my_other_string = str(dictn['qubits'])\n",
    "            number_p = re.findall(\"\\d+\\.\\d+\", my_string)\n",
    "            res_p = [eval(i) for i in number_p]\n",
    "            if '-' in my_string:\n",
    "                sign = -1\n",
    "            else:\n",
    "                sign = 1\n",
    "            \n",
    "            number_q = re.findall(r'\\d+', my_other_string)\n",
    "            res_q = [eval(i) for i in number_q]\n",
    "            kernel = sign*par*res_p[0]*np.pi\n",
    "            rzgate = cirq.rz(kernel).on(qubits[res_q[1]])\n",
    "            circuit.append(rzgate)\n",
    "        else:\n",
    "            circuit.append(gate)"
   ]
  },
  {
   "cell_type": "code",
   "execution_count": 20,
   "id": "36af8293-9c16-4fb9-ad51-58430d0e97a6",
   "metadata": {
    "tags": []
   },
   "outputs": [],
   "source": [
    "def mixing_circuit(circuit, qubits, par):\n",
    "    for i in range(len(qubits)):\n",
    "        circuit.append(cirq.rx(par).on(qubits[i]))\n",
    "    return circuit"
   ]
  },
  {
   "cell_type": "code",
   "execution_count": 21,
   "id": "570a21fd-391c-47d2-ac96-438515fabe6c",
   "metadata": {
    "tags": []
   },
   "outputs": [],
   "source": [
    "class MyLRSchedule(tf.keras.optimizers.schedules.LearningRateSchedule):\n",
    "\n",
    "    def __init__(self, initial_learning_rate):\n",
    "        self.initial_learning_rate = initial_learning_rate\n",
    "\n",
    "    def __call__(self, step):\n",
    "        return self.initial_learning_rate / (step+1)"
   ]
  },
  {
   "cell_type": "code",
   "execution_count": 22,
   "id": "272f68b5-dc33-4398-b525-6e3aac459821",
   "metadata": {
    "tags": []
   },
   "outputs": [
    {
     "name": "stdout",
     "output_type": "stream",
     "text": [
      "Batch is 49 and absolute value of (ground state energy - error) is 4.4422354698181155\r"
     ]
    }
   ],
   "source": [
    "parameter_list = []\n",
    "batches = 50\n",
    "for batch in range(batches):\n",
    "\n",
    "    valid_keys = []\n",
    "    dimacs_filename = \"random_cnf_BM.dimacs\" \n",
    "\n",
    "    while not valid_keys:\n",
    "        #only accepts satisfiable CNFs\n",
    "        inst = generate_instance(k, n_var)\n",
    "        dimacs_writer(dimacs_filename, inst)\n",
    "        v = Verifier('random_cnf_BM.dimacs')\n",
    "\n",
    "        for key in binary_strings:\n",
    "            if v.is_correct(key) == True:\n",
    "                valid_keys.append(key)\n",
    "    with open('random_cnf_BM.dimacs', 'r') as f:\n",
    "        dimacs = f.read()\n",
    "    unsat_list = []\n",
    "\n",
    "    for key in binary_strings:\n",
    "        guess = [bool(int(x)) for x in key][::-1]\n",
    "\n",
    "        clause_eval_list = []\n",
    "        counter = 0\n",
    "        for j, line in enumerate(dimacs.split('\\n')):\n",
    "\n",
    "            line = line.strip(' 0')\n",
    "            clause_eval = False\n",
    "\n",
    "            for literal in line.split(' '):\n",
    "                if literal in ['p', 'c']:\n",
    "                    #line is not a clause\n",
    "                    clause_eval = True\n",
    "                    break\n",
    "                if '-' in literal:\n",
    "                    literal = literal.strip('-')\n",
    "                    lit_eval = not guess[int(literal)-1]\n",
    "                else:\n",
    "                    lit_eval = guess[int(literal)-1]\n",
    "                clause_eval |= lit_eval\n",
    "            if j > 1:\n",
    "                counter += 1\n",
    "                clause_eval_list.append(clause_eval)\n",
    "        unsat_clauses = counter - sum(clause_eval_list)\n",
    "        unsat_list.append(unsat_clauses)\n",
    "\n",
    "    diagonal = unsat_list\n",
    "    \n",
    "    x = [1, -1]\n",
    "    combinations = [p for p in itertools.product(x, repeat=nqubits)]\n",
    "\n",
    "    ops_list = []\n",
    "    for j, combination in enumerate(combinations):\n",
    "        ops_list.append((diagonal[j]/2**nqubits)*math.prod([my_gate(combination[i], i) for i in range(nqubits)]))\n",
    "\n",
    "    cost = np.sum(ops_list)\n",
    "    cost_m = cost.matrix()\n",
    "    gs_energy = np.real(min(LA.eig(cost_m)[0]))\n",
    "    qaoa_circuit = cirq.Circuit()\n",
    "    num_param = 2 * p \n",
    "    parameters = symbols(\"q0:%d\" % num_param)\n",
    "\n",
    "    #setting up the layers\n",
    "    for i in range(p):\n",
    "        ham_layer(diagonal, qaoa_circuit, qubits, parameters[2 * i])\n",
    "        mixing_circuit(qaoa_circuit, qubits, parameters[2 * i + 1])\n",
    "        \n",
    "    initial = cirq.Circuit()\n",
    "\n",
    "    for qubit in qubits:\n",
    "        initial.append(cirq.H(qubit)) #applying Hadamard to all qubits before running circuit\n",
    "\n",
    "    #setting up the model\n",
    "    lr = 1e-1\n",
    "\n",
    "    inputs = tfq.convert_to_tensor([initial])\n",
    "    ins = tf.keras.layers.Input(shape = (), dtype = tf.dtypes.string)\n",
    "    outs = tfq.layers.PQC(qaoa_circuit, cost)(ins)\n",
    "    ksat = tf.keras.models.Model(inputs = ins, outputs = outs)\n",
    "    opt = tf.keras.optimizers.Adam(learning_rate = 0.01)\n",
    "    ksat.trainable_variables[0].assign([rd.uniform(-2*np.pi, 2*np.pi) for i in range(2*p)]) #initializing angles with some small noise\n",
    "    \n",
    "    losses = []\n",
    "    error = 1e2*rd.random()\n",
    "    tol = 1e-2\n",
    "\n",
    "    start = time.time()\n",
    "\n",
    "    j=0\n",
    "    while j < 1e3:\n",
    "        previous_error = error   \n",
    "        with tf.GradientTape() as tape:\n",
    "            error = ksat(inputs)\n",
    "\n",
    "        grads = tape.gradient(error, ksat.trainable_variables)\n",
    "        opt.apply_gradients(zip(grads, ksat.trainable_variables))\n",
    "        error = error.numpy()[0,0]\n",
    "        losses.append(error)\n",
    "\n",
    "        print('Batch is '+str(batch)+' and absolute value of (ground state energy - error) is ' + str(abs(gs_energy - error)), end = '\\r')\n",
    "\n",
    "        #if abs(error - previous_error) < 1e-10:\n",
    "        #    print('\\n got stuck!')\n",
    "        #    break\n",
    "        j += 1\n",
    "    params = ksat.get_weights()[0]\n",
    "    end = time.time()\n",
    "    parameter_list.append(params)"
   ]
  },
  {
   "cell_type": "code",
   "execution_count": 24,
   "id": "d9b64557-bae3-46a1-ae1c-ff7e9b00599d",
   "metadata": {
    "tags": []
   },
   "outputs": [
    {
     "data": {
      "text/plain": [
       "array([ 0.3984816 , -0.23699822, -1.2622085 ,  0.38815212, -0.6662491 ,\n",
       "       -0.6555451 ,  0.17665611,  0.6545369 ], dtype=float32)"
      ]
     },
     "execution_count": 24,
     "metadata": {},
     "output_type": "execute_result"
    }
   ],
   "source": [
    "average_parameters = 0\n",
    "for i in range(40):\n",
    "    average_parameters += parameter_list[i]\n",
    "    \n",
    "average_parameters/len(parameter_list)"
   ]
  },
  {
   "cell_type": "code",
   "execution_count": null,
   "id": "1044fe2f-b179-43c5-a6d1-1cb57d5a4e4b",
   "metadata": {},
   "outputs": [],
   "source": []
  }
 ],
 "metadata": {
  "kernelspec": {
   "display_name": "Python 3 (ipykernel)",
   "language": "python",
   "name": "python3"
  },
  "language_info": {
   "codemirror_mode": {
    "name": "ipython",
    "version": 3
   },
   "file_extension": ".py",
   "mimetype": "text/x-python",
   "name": "python",
   "nbconvert_exporter": "python",
   "pygments_lexer": "ipython3",
   "version": "3.9.0"
  }
 },
 "nbformat": 4,
 "nbformat_minor": 5
}
