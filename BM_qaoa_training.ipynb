{
 "cells": [
  {
   "cell_type": "code",
   "execution_count": 12,
   "id": "2a9a8d24-463b-4db6-b4b5-ff647465bf88",
   "metadata": {
    "tags": []
   },
   "outputs": [],
   "source": [
    "import matplotlib.pyplot as plt\n",
    "import numpy as np\n",
    "import cirq\n",
    "from cirq.contrib.svg import SVGCircuit\n",
    "import random as rd\n",
    "from sympy import *\n",
    "import tensorflow as tf\n",
    "import tensorflow_quantum as tfq\n",
    "import math\n",
    "import re\n",
    "import itertools\n",
    "from numpy import linalg as LA\n",
    "from scipy.stats import poisson\n",
    "import time\n",
    "from random import choices\n",
    "from random import uniform\n",
    "import pandas as pd"
   ]
  },
  {
   "cell_type": "code",
   "execution_count": 13,
   "id": "1663f844-4367-424c-8010-2f80de323470",
   "metadata": {},
   "outputs": [],
   "source": [
    "k = 5 #length of clauses\n",
    "n_var = 7 #number of variables\n",
    "nqubits = n_var #number of qubits in the circuit\n",
    "p = 3 #number of layers for QAOA circuit\n",
    "all_vars = [i for i in range(-n_var,n_var+1)]\n",
    "all_vars = [i for i in all_vars if i != 0]"
   ]
  },
  {
   "cell_type": "markdown",
   "id": "4c117628-3791-4d80-8e2e-852952374e0f",
   "metadata": {},
   "source": [
    "## Definitions"
   ]
  },
  {
   "cell_type": "code",
   "execution_count": 14,
   "id": "6494b8b5-847b-4573-9232-ef1af5704fce",
   "metadata": {},
   "outputs": [],
   "source": [
    "r_by_k = {2 : 1, 3: 6.43, 4: 20.43, 5 : 45.7, 6: 70.21, 7: 123.2, 8: 176.54, 10: 708.92, 16: 45425.2}\n",
    "\n",
    "def generate_instance(k: int, n: int) -> np.ndarray:\n",
    "    #generate an instance of random k-SAT with n variables in the satisfiability threshold\n",
    "    if not (r := r_by_k.get(k)):\n",
    "        raise ValueError(f\"k must be in {list(r_by_k)} (got {k})\")\n",
    "    \n",
    "    m = poisson(r*n).rvs()\n",
    "    #return np.random.choice(all_vars, size=(m, k))\n",
    "    all_variables = []\n",
    "    all_signs = []\n",
    "    for i in range(m):\n",
    "        #all_signs.append([rd.choice(l) for i in range(k)])\n",
    "        all_variables.append(choices(all_vars, k = k))\n",
    "\n",
    "    all_variables = np.array(all_variables)\n",
    "    #all_signs = np.array(all_signs)\n",
    "    return all_variables"
   ]
  },
  {
   "cell_type": "code",
   "execution_count": 15,
   "id": "14037925-4136-47cd-801e-3fbe905773e8",
   "metadata": {
    "tags": []
   },
   "outputs": [],
   "source": [
    "def generate_binary_strings(bit_count):\n",
    "    binary_strings = []\n",
    "    \n",
    "    def genbin(n, bs=''):\n",
    "        if len(bs) == n:\n",
    "            binary_strings.append(bs)\n",
    "        else:\n",
    "            genbin(n, bs + '0')\n",
    "            genbin(n, bs + '1')\n",
    "\n",
    "    genbin(bit_count)\n",
    "    return binary_strings"
   ]
  },
  {
   "cell_type": "code",
   "execution_count": 16,
   "id": "c34cc462-5752-4f6f-8ae2-d454092736ce",
   "metadata": {
    "tags": []
   },
   "outputs": [],
   "source": [
    "def dimacs_writer(dimacs_filename, cnf_array):\n",
    "    #writes the dimacs file with the CNF\n",
    "    cnf = cnf_array\n",
    "    cnf_length = len(cnf)\n",
    "    n_sat = len(cnf[0])\n",
    "    var_num = np.max(cnf) \n",
    "    with open(dimacs_filename, \"w\") as f:\n",
    "\n",
    "        f.write('c DIMACS file CNF '+str(n_sat)+'-SAT \\n')\n",
    "        f.write(\"p cnf {} {}\\n\".format(var_num, cnf_length))\n",
    "        \n",
    "        for i, clause in enumerate(cnf):\n",
    "            line = clause.tolist()\n",
    "            if i == cnf_length - 1:\n",
    "                s = ' '.join(str(x) for x in line)+' 0'\n",
    "                f.write(s)\n",
    "            else: \n",
    "                s = ' '.join(str(x) for x in line)+' 0 \\n'\n",
    "                f.write(s)\n",
    "                \n",
    "class Verifier():\n",
    "    #verifier from Qiskit page, takes a bit string and checks if cnf is satisfied\n",
    "    def __init__(self, dimacs_file):\n",
    "        with open(dimacs_file, 'r') as f:\n",
    "            self.dimacs = f.read()\n",
    "\n",
    "    def is_correct(self, guess):\n",
    "        # Convert characters to bools & reverse\n",
    "        guess = [bool(int(x)) for x in guess][::-1]\n",
    "        for line in self.dimacs.split('\\n'):\n",
    "            line = line.strip(' 0')\n",
    "            clause_eval = False\n",
    "            for literal in line.split(' '):\n",
    "                if literal in ['p', 'c']:\n",
    "                    # line is not a clause\n",
    "                    clause_eval = True\n",
    "                    break\n",
    "                if '-' in literal:\n",
    "                    literal = literal.strip('-')\n",
    "                    lit_eval = not guess[int(literal)-1]\n",
    "                else:\n",
    "                    lit_eval = guess[int(literal)-1]\n",
    "                clause_eval |= lit_eval\n",
    "            if clause_eval is False:\n",
    "                return False\n",
    "        return True"
   ]
  },
  {
   "cell_type": "code",
   "execution_count": 17,
   "id": "6460646e-98d5-4c6a-8ffd-97e7e717b0ad",
   "metadata": {
    "tags": []
   },
   "outputs": [],
   "source": [
    "def my_gate(c, index):\n",
    "    g = c * cirq.Z.on(qubits[index]) + cirq.I.on(qubits[index])\n",
    "    return g\n",
    "\n",
    "def ham_layer(diagonal, circuit, qubits, par):\n",
    "    \n",
    "    l = cirq.DiagonalGate(diagonal)._decompose_(qubits)\n",
    "    l.pop(0)\n",
    "    for j, gate in enumerate(l):\n",
    "\n",
    "        if j % 2 == 0:\n",
    "            dictn = gate._json_dict_()\n",
    "            my_string = str(dictn['gate'])\n",
    "            my_other_string = str(dictn['qubits'])\n",
    "            number_p = re.findall(\"\\d+\\.\\d+\", my_string)\n",
    "            res_p = [eval(i) for i in number_p]\n",
    "            if '-' in my_string:\n",
    "                sign = -1\n",
    "            else:\n",
    "                sign = 1\n",
    "            \n",
    "            number_q = re.findall(r'\\d+', my_other_string)\n",
    "            res_q = [eval(i) for i in number_q]\n",
    "            kernel = sign*par*res_p[0]*np.pi\n",
    "            rzgate = cirq.rz(kernel).on(qubits[res_q[1]])\n",
    "            circuit.append(rzgate)\n",
    "        else:\n",
    "            circuit.append(gate)\n",
    "\n",
    "def mixing_circuit(circuit, qubits, par):\n",
    "    for i in range(len(qubits)):\n",
    "        circuit.append(cirq.rx(par).on(qubits[i]))\n",
    "    return circuit"
   ]
  },
  {
   "cell_type": "code",
   "execution_count": 18,
   "id": "2fa0f7c4-0f57-4608-ad45-646074ece8f0",
   "metadata": {
    "tags": []
   },
   "outputs": [],
   "source": [
    "def circuit_from_dimacs(dimacs_file, binary_strings, nqubits, qubits, layers, parameters):\n",
    "    \n",
    "    with open(dimacs_file, 'r') as f:\n",
    "            dimacs = f.read()\n",
    "    \n",
    "    unsat_list = []\n",
    "\n",
    "    for key in binary_strings:\n",
    "        guess = [bool(int(x)) for x in key][::-1]\n",
    "\n",
    "        clause_eval_list = []\n",
    "        counter = 0\n",
    "        for j, line in enumerate(dimacs.split('\\n')):\n",
    "\n",
    "            line = line.strip(' 0')\n",
    "            clause_eval = False\n",
    "\n",
    "            for literal in line.split(' '):\n",
    "                if literal in ['p', 'c']:\n",
    "                    #line is not a clause\n",
    "                    clause_eval = True\n",
    "                    break\n",
    "                if '-' in literal:\n",
    "                    literal = literal.strip('-')\n",
    "                    lit_eval = not guess[int(literal)-1]\n",
    "                else:\n",
    "                    lit_eval = guess[int(literal)-1]\n",
    "                clause_eval |= lit_eval\n",
    "            if j > 1:\n",
    "                counter += 1\n",
    "                clause_eval_list.append(clause_eval)\n",
    "        unsat_clauses = counter - sum(clause_eval_list)\n",
    "        unsat_list.append(unsat_clauses)\n",
    "\n",
    "    diagonal = unsat_list\n",
    "    combinations = [p for p in itertools.product([1, -1], repeat=nqubits)]\n",
    "\n",
    "    ops_list = []\n",
    "    for j, combination in enumerate(combinations):\n",
    "        ops_list.append((diagonal[j]/2**nqubits)*math.prod([my_gate(combination[i], i) for i in range(nqubits)]))\n",
    "\n",
    "    cost = np.sum(ops_list)\n",
    "    cost_m = cost.matrix()\n",
    "    gs_energy = np.real(min(LA.eig(cost_m)[0]))\n",
    "    \n",
    "    qaoa_circuit = cirq.Circuit()\n",
    "    num_param = 2 * layers\n",
    "\n",
    "    for i in range(layers):\n",
    "        ham_layer(diagonal, qaoa_circuit, qubits, parameters[2 * i])\n",
    "        mixing_circuit(qaoa_circuit, qubits, parameters[2 * i + 1])\n",
    "\n",
    "    return qaoa_circuit, cost"
   ]
  },
  {
   "cell_type": "markdown",
   "id": "6e64ff83-f1cd-4e3e-8e23-70677f2bbbce",
   "metadata": {},
   "source": [
    "## Training"
   ]
  },
  {
   "cell_type": "code",
   "execution_count": null,
   "id": "272f68b5-dc33-4398-b525-6e3aac459821",
   "metadata": {
    "tags": []
   },
   "outputs": [
    {
     "name": "stdout",
     "output_type": "stream",
     "text": [
      "Batch is 41, valid keys are ['0011111'] epoch is 5744 and absolute value of (ground state energy - error) is 5.24621582031259156156921387\r"
     ]
    }
   ],
   "source": [
    "batches = 100\n",
    "epochs = 1e4\n",
    "parameter_list = []\n",
    "\n",
    "for batch in range(batches):\n",
    "    \n",
    "    qubits = [cirq.GridQubit(0,i) for i in range(nqubits)]\n",
    "    parameters = symbols(\"q0:%d\" % (2*p))\n",
    "    valid_keys = []\n",
    "    dimacs_file = \"data/random_cnf_BM_temp.dimacs\" \n",
    "    binary_strings = generate_binary_strings(nqubits)\n",
    "    \n",
    "    while not valid_keys:\n",
    "        #only accepts satisfiable CNFs\n",
    "        inst = generate_instance(k, n_var)\n",
    "        dimacs_writer(dimacs_file, inst)\n",
    "        v = Verifier(dimacs_file)\n",
    "\n",
    "        for key in binary_strings:\n",
    "            if v.is_correct(key) == True:\n",
    "                valid_keys.append(key)\n",
    "    \n",
    "    qaoa_circuit, cost = circuit_from_dimacs(dimacs_file, binary_strings, nqubits, qubits, p, parameters)\n",
    "    cost_m = cost.matrix()\n",
    "    gs_energy = np.real(min(LA.eig(cost_m)[0]))\n",
    "\n",
    "    initial = cirq.Circuit()\n",
    "\n",
    "    for qubit in qubits:\n",
    "        initial.append(cirq.H(qubit)) #applying Hadamard to all qubits before running circuit\n",
    "    \n",
    "    inputs = tfq.convert_to_tensor([initial])\n",
    "    ins = tf.keras.layers.Input(shape = (), dtype = tf.dtypes.string)\n",
    "    outs = tfq.layers.PQC(qaoa_circuit, cost)(ins)\n",
    "    ksat = tf.keras.models.Model(inputs = ins, outputs = outs)\n",
    "    opt = tf.keras.optimizers.Adam(learning_rate = 1e-4)\n",
    "\n",
    "    all_pars = [0.01*(-1)**(-i%2) for i in range(1,2*p+1)]\n",
    "    ksat.trainable_variables[0].assign(all_pars)\n",
    "\n",
    "    losses = []\n",
    "\n",
    "    start = time.time()\n",
    "\n",
    "    j=0\n",
    "    \n",
    "    while j < epochs:\n",
    "        with tf.GradientTape() as tape:\n",
    "            error = ksat(inputs)\n",
    "\n",
    "        grads = tape.gradient(error, ksat.trainable_variables)\n",
    "        opt.apply_gradients(zip(grads, ksat.trainable_variables))\n",
    "        error = error.numpy()[0,0]\n",
    "        losses.append(error)\n",
    "\n",
    "        print('Batch is '+str(batch)+', valid keys are '+str(valid_keys)+' epoch is '+str(j)+' and absolute value of (ground state energy - error) is ' + str(abs(gs_energy - error)), end = '\\r')\n",
    "\n",
    "        j += 1\n",
    "    \n",
    "    params = ksat.get_weights()[0]\n",
    "    end = time.time()\n",
    "    parameter_list.append(params)"
   ]
  },
  {
   "cell_type": "code",
   "execution_count": null,
   "id": "c3352c96-5294-4a4b-9d89-a59ec341979e",
   "metadata": {
    "tags": []
   },
   "outputs": [],
   "source": [
    "df = pd.DataFrame(parameter_list)\n",
    "df"
   ]
  },
  {
   "cell_type": "code",
   "execution_count": null,
   "id": "eab4c975-efb9-4a98-a9b7-5d610a03df5d",
   "metadata": {
    "tags": []
   },
   "outputs": [],
   "source": [
    "df.mean(axis=0), df.var(axis=0)"
   ]
  },
  {
   "cell_type": "code",
   "execution_count": null,
   "id": "4b0ccd20-f57a-4ff5-b701-72d51d4b2539",
   "metadata": {
    "tags": []
   },
   "outputs": [],
   "source": [
    "df.to_csv('data/pars_k_'+str(k)+'_nvar_'+str(n_var)+'_layers_'+str(p)+'.csv')  "
   ]
  },
  {
   "cell_type": "markdown",
   "id": "003d2114-900e-4184-bf59-07cc3d98f969",
   "metadata": {},
   "source": [
    "## Sampling with fixed parameters"
   ]
  },
  {
   "cell_type": "markdown",
   "id": "be6cd1bd-06ec-4c18-93ba-cffe74c575e4",
   "metadata": {
    "tags": []
   },
   "source": [
    "dimacs_file = \"data/sampling_cnf_BM_temp.dimacs\" \n",
    "\n",
    "valid_keys = []\n",
    "while not valid_keys:\n",
    "    #only accepts satisfiable CNFs\n",
    "    inst = generate_instance(k, n_var)\n",
    "    dimacs_writer(dimacs_file, inst)\n",
    "    v = Verifier(dimacs_file)\n",
    "\n",
    "    for key in binary_strings:\n",
    "        if v.is_correct(key) == True:\n",
    "            valid_keys.append(key)\n",
    "valid_keys"
   ]
  },
  {
   "cell_type": "markdown",
   "id": "c8167f75-24fa-484e-84f2-4165058f7f9f",
   "metadata": {
    "tags": []
   },
   "source": [
    "dimacs_writer(dimacs_file, inst)"
   ]
  },
  {
   "cell_type": "markdown",
   "id": "55f31a15-88d5-4ea9-8b2e-ef92393144d4",
   "metadata": {
    "tags": []
   },
   "source": [
    "parameters = symbols(\"q0:%d\" % (2*p))\n",
    "qaoa_circuit, cost = circuit_from_dimacs(dimacs_file, binary_strings, nqubits, qubits, p, parameters)\n",
    "p_values = [tf.Variable(np.array(df.mean(axis=0)))]"
   ]
  },
  {
   "cell_type": "markdown",
   "id": "213a931a-4cd5-452d-81ae-0c43bac55cd8",
   "metadata": {
    "tags": []
   },
   "source": [
    "p_values"
   ]
  },
  {
   "cell_type": "markdown",
   "id": "02fc65a3-cebb-4a25-8758-a181eb0a9621",
   "metadata": {
    "tags": []
   },
   "source": [
    "initial = cirq.Circuit()\n",
    "\n",
    "for qubit in qubits:\n",
    "    initial.append(cirq.H(qubit)) #applying Hadamard to all qubits before running circuit\n",
    "\n",
    "start = time.time()\n",
    "\n",
    "n_samples = 2048\n",
    "inputs = tfq.convert_to_tensor([initial])\n",
    "sample_circuit = tfq.layers.AddCircuit()(inputs, append=qaoa_circuit)\n",
    "output = tfq.layers.Sample()(sample_circuit, symbol_names=parameters, symbol_values=p_values, repetitions = n_samples)\n",
    "\n",
    "end = time.time()\n",
    "\n",
    "print(\"Time spent in sampling: \",end - start)\n",
    "\n",
    "def to_dec(x):\n",
    "    return int(\"\".join(str(i) for i in x), 2) \n",
    "\n",
    "quantum_preds = []\n",
    "data = []\n",
    "for bits in output.values:\n",
    "    temp = []\n",
    "    data.append(to_dec(bits.numpy()))\n",
    "    for pos, bit in enumerate(bits):\n",
    "        if bit == 1:\n",
    "            temp.append(pos)\n",
    "    quantum_preds.append(temp)"
   ]
  },
  {
   "cell_type": "markdown",
   "id": "26146ef5-d538-4054-81d5-6723cc77deb0",
   "metadata": {
    "tags": []
   },
   "source": [
    "valid_keys"
   ]
  },
  {
   "cell_type": "markdown",
   "id": "d8fcc704-aa5f-48d9-8b2c-8a4baefa07e7",
   "metadata": {
    "tags": []
   },
   "source": [
    "xticks = range(0, 2**nqubits)\n",
    "xtick_labels = list(map(lambda x: format(x, \"0\"+str(nqubits)+\"b\"), xticks))\n",
    "bins = np.arange(0, 2**nqubits + 1) - 0.5\n",
    "\n",
    "plt.figure(figsize=(25,3))\n",
    "plt.xticks(xticks, xtick_labels, rotation=\"vertical\")\n",
    "plt.hist(data, bins=bins, color = \"darkorange\", lw=0)\n",
    "#plt.savefig('hist_custom_sat.pdf')\n",
    "plt.show()"
   ]
  },
  {
   "cell_type": "markdown",
   "id": "f477a209-d1c1-4bed-8f8d-569368d89990",
   "metadata": {
    "tags": []
   },
   "source": [
    "successes = 0\n",
    "\n",
    "for i in range(n_samples):\n",
    "    out_array = output[0][i].numpy().tolist()\n",
    "    s = ''.join(str(x) for x in out_array)\n",
    "    if (s in valid_keys):\n",
    "        successes += 1\n",
    "\n",
    "s_rate = successes/n_samples"
   ]
  },
  {
   "cell_type": "markdown",
   "id": "043fbbd2-5eb4-4afe-af41-66a174ee9fb4",
   "metadata": {
    "tags": []
   },
   "source": [
    "successes, s_rate"
   ]
  },
  {
   "cell_type": "markdown",
   "id": "5913fc2b-bb11-4170-960f-5b39b7cf1e89",
   "metadata": {
    "tags": []
   },
   "source": [
    "c = 0.57*p**(-0.61)\n",
    "2**(-c*n_var)"
   ]
  },
  {
   "cell_type": "markdown",
   "id": "5371d072-fcd1-4c59-913c-33474fb22bbd",
   "metadata": {},
   "source": []
  }
 ],
 "metadata": {
  "kernelspec": {
   "display_name": "Python 3 (ipykernel)",
   "language": "python",
   "name": "python3"
  },
  "language_info": {
   "codemirror_mode": {
    "name": "ipython",
    "version": 3
   },
   "file_extension": ".py",
   "mimetype": "text/x-python",
   "name": "python",
   "nbconvert_exporter": "python",
   "pygments_lexer": "ipython3",
   "version": "3.9.0"
  }
 },
 "nbformat": 4,
 "nbformat_minor": 5
}
