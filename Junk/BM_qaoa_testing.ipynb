{
 "cells": [
  {
   "cell_type": "code",
   "execution_count": 835,
   "id": "2a9a8d24-463b-4db6-b4b5-ff647465bf88",
   "metadata": {
    "tags": []
   },
   "outputs": [],
   "source": [
    "import matplotlib.pyplot as plt\n",
    "import numpy as np\n",
    "import cirq\n",
    "from cirq.contrib.svg import SVGCircuit\n",
    "import random as rd\n",
    "from sympy import *\n",
    "import tensorflow as tf\n",
    "import tensorflow_quantum as tfq\n",
    "import math\n",
    "import re\n",
    "import itertools\n",
    "from numpy import linalg as LA\n",
    "from scipy.stats import poisson\n",
    "import time\n",
    "from random import choices\n",
    "from random import  uniform"
   ]
  },
  {
   "cell_type": "code",
   "execution_count": 836,
   "id": "1663f844-4367-424c-8010-2f80de323470",
   "metadata": {},
   "outputs": [],
   "source": [
    "k = 4 #length of clauses\n",
    "n_var = 8 #number of variables\n",
    "nqubits = n_var #number of qubits in the circuit\n",
    "all_vars = [i for i in range(-n_var,n_var+1)]\n",
    "all_vars = [i for i in all_vars if i != 0]\n",
    "\n",
    "p = 6 #number of layers for QAOA circuit\n",
    "qubits = [cirq.GridQubit(0,i) for i in range(nqubits)]\n",
    "parameters = symbols(\"q0:%d\" % (2*p))"
   ]
  },
  {
   "cell_type": "code",
   "execution_count": 837,
   "id": "7088aff4-34bb-4460-bb47-ceab4830ee5d",
   "metadata": {
    "tags": []
   },
   "outputs": [
    {
     "data": {
      "text/plain": [
       "(q0, q1, q2, q3, q4, q5, q6, q7, q8, q9, q10, q11)"
      ]
     },
     "execution_count": 837,
     "metadata": {},
     "output_type": "execute_result"
    }
   ],
   "source": [
    "parameters"
   ]
  },
  {
   "cell_type": "code",
   "execution_count": 838,
   "id": "6494b8b5-847b-4573-9232-ef1af5704fce",
   "metadata": {},
   "outputs": [],
   "source": [
    "r_by_k = {2 : 1, 3: 6.43, 4: 20.43, 5 : 45.7, 6: 70.21, 8: 176.54, 10: 708.92, 16: 45425.2}\n",
    "\n",
    "def generate_instance(k: int, n: int) -> np.ndarray:\n",
    "    #generate an instance of random k-SAT with n variables in the satisfiability threshold\n",
    "    if not (r := r_by_k.get(k)):\n",
    "        raise ValueError(f\"k must be in {list(r_by_k)} (got {k})\")\n",
    "    m = poisson(r*n).rvs()\n",
    "    #return np.random.choice(all_vars, size=(m, k))\n",
    "    all_variables = []\n",
    "    all_signs = []\n",
    "    for i in range(m):\n",
    "        #all_signs.append([rd.choice(l) for i in range(k)])\n",
    "        all_variables.append(choices(all_vars, k = k))\n",
    "\n",
    "    all_variables = np.array(all_variables)\n",
    "    #all_signs = np.array(all_signs)\n",
    "    return all_variables"
   ]
  },
  {
   "cell_type": "code",
   "execution_count": 839,
   "id": "14037925-4136-47cd-801e-3fbe905773e8",
   "metadata": {
    "tags": []
   },
   "outputs": [],
   "source": [
    "def generate_binary_strings(bit_count):\n",
    "    binary_strings = []\n",
    "    \n",
    "    def genbin(n, bs=''):\n",
    "        if len(bs) == n:\n",
    "            binary_strings.append(bs)\n",
    "        else:\n",
    "            genbin(n, bs + '0')\n",
    "            genbin(n, bs + '1')\n",
    "\n",
    "    genbin(bit_count)\n",
    "    return binary_strings"
   ]
  },
  {
   "cell_type": "code",
   "execution_count": 840,
   "id": "4ad0c5da-955a-4a57-b06a-fd9b480cc2b6",
   "metadata": {
    "tags": []
   },
   "outputs": [],
   "source": [
    "def dimacs_writer(dimacs_filename, cnf_array):\n",
    "    #writes the dimacs file with the CNF\n",
    "    cnf = cnf_array\n",
    "    cnf_length = len(cnf)\n",
    "    n_sat = len(cnf[0])\n",
    "    var_num = np.max(cnf) \n",
    "    with open(dimacs_filename, \"w\") as f:\n",
    "\n",
    "        f.write('c DIMACS file CNF '+str(n_sat)+'-SAT \\n')\n",
    "        f.write(\"p cnf {} {}\\n\".format(var_num, cnf_length))\n",
    "        \n",
    "        for i, clause in enumerate(cnf):\n",
    "            line = clause.tolist()\n",
    "            if i == cnf_length - 1:\n",
    "                s = ' '.join(str(x) for x in line)+' 0'\n",
    "                f.write(s)\n",
    "            else: \n",
    "                s = ' '.join(str(x) for x in line)+' 0 \\n'\n",
    "                f.write(s)"
   ]
  },
  {
   "cell_type": "code",
   "execution_count": 841,
   "id": "767cb472-cc55-4238-a1f7-0ec21a4298a6",
   "metadata": {
    "tags": []
   },
   "outputs": [],
   "source": [
    "class Verifier():\n",
    "    #verifier from Qiskit page, takes a bit string and checks if cnf is satisfied\n",
    "    def __init__(self, dimacs_file):\n",
    "        with open(dimacs_file, 'r') as f:\n",
    "            self.dimacs = f.read()\n",
    "\n",
    "    def is_correct(self, guess):\n",
    "        # Convert characters to bools & reverse\n",
    "        guess = [bool(int(x)) for x in guess][::-1]\n",
    "        for line in self.dimacs.split('\\n'):\n",
    "            line = line.strip(' 0')\n",
    "            clause_eval = False\n",
    "            for literal in line.split(' '):\n",
    "                if literal in ['p', 'c']:\n",
    "                    # line is not a clause\n",
    "                    clause_eval = True\n",
    "                    break\n",
    "                if '-' in literal:\n",
    "                    literal = literal.strip('-')\n",
    "                    lit_eval = not guess[int(literal)-1]\n",
    "                else:\n",
    "                    lit_eval = guess[int(literal)-1]\n",
    "                clause_eval |= lit_eval\n",
    "            if clause_eval is False:\n",
    "                return False\n",
    "        return True"
   ]
  },
  {
   "cell_type": "code",
   "execution_count": 842,
   "id": "4a52cc78-ba40-4b68-bd3d-0508243ae652",
   "metadata": {
    "tags": []
   },
   "outputs": [
    {
     "name": "stdout",
     "output_type": "stream",
     "text": [
      "10101011\n"
     ]
    }
   ],
   "source": [
    "valid_keys = []\n",
    "dimacs_file = \"data/random_cnf_BM.dimacs\" \n",
    "binary_strings = generate_binary_strings(nqubits)\n",
    "\n",
    "while not valid_keys:\n",
    "    #only accepts satisfiable CNFs\n",
    "    inst = generate_instance(k, n_var)\n",
    "    dimacs_writer(dimacs_file, inst)\n",
    "    v = Verifier(dimacs_file)\n",
    "    \n",
    "    for key in binary_strings:\n",
    "        if v.is_correct(key) == True:\n",
    "            print(key) \n",
    "            valid_keys.append(key)"
   ]
  },
  {
   "cell_type": "code",
   "execution_count": 843,
   "id": "dd97d579-011a-42a0-8590-484c6ad53b4b",
   "metadata": {
    "tags": []
   },
   "outputs": [],
   "source": [
    "def my_gate(c, index):\n",
    "    g = c * cirq.Z.on(qubits[index]) + cirq.I.on(qubits[index])\n",
    "    return g"
   ]
  },
  {
   "cell_type": "code",
   "execution_count": 844,
   "id": "861d4cd5-d03c-4ecc-9adf-55f8c7c13083",
   "metadata": {
    "tags": []
   },
   "outputs": [],
   "source": [
    "def ham_layer(diagonal, circuit, qubits, par):\n",
    "    \n",
    "    l = cirq.DiagonalGate(diagonal)._decompose_(qubits)\n",
    "    l.pop(0)\n",
    "    for j, gate in enumerate(l):\n",
    "\n",
    "        if j % 2 == 0:\n",
    "            dictn = gate._json_dict_()\n",
    "            my_string = str(dictn['gate'])\n",
    "            my_other_string = str(dictn['qubits'])\n",
    "            number_p = re.findall(\"\\d+\\.\\d+\", my_string)\n",
    "            res_p = [eval(i) for i in number_p]\n",
    "            if '-' in my_string:\n",
    "                sign = -1\n",
    "            else:\n",
    "                sign = 1\n",
    "            \n",
    "            number_q = re.findall(r'\\d+', my_other_string)\n",
    "            res_q = [eval(i) for i in number_q]\n",
    "            kernel = sign*par*res_p[0]*np.pi\n",
    "            rzgate = cirq.rz(kernel).on(qubits[res_q[1]])\n",
    "            circuit.append(rzgate)\n",
    "        else:\n",
    "            circuit.append(gate)"
   ]
  },
  {
   "cell_type": "code",
   "execution_count": 845,
   "id": "36af8293-9c16-4fb9-ad51-58430d0e97a6",
   "metadata": {
    "tags": []
   },
   "outputs": [],
   "source": [
    "def mixing_circuit(circuit, qubits, par):\n",
    "    for i in range(len(qubits)):\n",
    "        circuit.append(cirq.rx(par).on(qubits[i]))\n",
    "    return circuit"
   ]
  },
  {
   "cell_type": "code",
   "execution_count": 846,
   "id": "cb8d3fbf-05bf-4292-a7e7-8f9ba0d5ebb8",
   "metadata": {
    "tags": []
   },
   "outputs": [],
   "source": [
    "def circuit_from_dimacs(dimacs_file, binary_strings, nqubits, qubits, layers, parameters):\n",
    "\n",
    "    qubits = []\n",
    "    for i in range(nqubits):\n",
    "        qubits.append(cirq.GridQubit(0,i))\n",
    "\n",
    "    with open(dimacs_file, 'r') as f:\n",
    "            dimacs = f.read()\n",
    "    \n",
    "    unsat_list = []\n",
    "\n",
    "    for key in binary_strings:\n",
    "        guess = [bool(int(x)) for x in key][::-1]\n",
    "\n",
    "        clause_eval_list = []\n",
    "        counter = 0\n",
    "        for j, line in enumerate(dimacs.split('\\n')):\n",
    "\n",
    "            line = line.strip(' 0')\n",
    "            clause_eval = False\n",
    "\n",
    "            for literal in line.split(' '):\n",
    "                if literal in ['p', 'c']:\n",
    "                    #line is not a clause\n",
    "                    clause_eval = True\n",
    "                    break\n",
    "                if '-' in literal:\n",
    "                    literal = literal.strip('-')\n",
    "                    lit_eval = not guess[int(literal)-1]\n",
    "                else:\n",
    "                    lit_eval = guess[int(literal)-1]\n",
    "                clause_eval |= lit_eval\n",
    "            if j > 1:\n",
    "                counter += 1\n",
    "                clause_eval_list.append(clause_eval)\n",
    "        unsat_clauses = counter - sum(clause_eval_list)\n",
    "        unsat_list.append(unsat_clauses)\n",
    "    sum_unsat = sum(unsat_list)\n",
    "    diagonal = unsat_list#[x / sum_unsat for x in unsat_list]\n",
    "    print(unsat_list, diagonal)\n",
    "\n",
    "    #diagonal = unsat_list\n",
    "    combinations = [p for p in itertools.product([1, -1], repeat=nqubits)]\n",
    "    ops_list = []\n",
    "    for j, combination in enumerate(combinations):\n",
    "        ops_list.append((diagonal[j]/2**nqubits)*math.prod([my_gate(combination[i], i) for i in range(nqubits)]))\n",
    "\n",
    "    cost = np.sum(ops_list)\n",
    "    cost_m = cost.matrix()\n",
    "    gs_energy = np.real(min(LA.eig(cost_m)[0]))\n",
    "    \n",
    "    qaoa_circuit = cirq.Circuit()\n",
    "    num_param = 2 * layers\n",
    "\n",
    "    for i in range(layers):\n",
    "        ham_layer(diagonal, qaoa_circuit, qubits, parameters[2 * i])\n",
    "        mixing_circuit(qaoa_circuit, qubits, parameters[2 * i + 1])\n",
    "\n",
    "    return qaoa_circuit, cost"
   ]
  },
  {
   "cell_type": "code",
   "execution_count": 847,
   "id": "1c0eff6a-2bd1-47af-9216-049448a6319c",
   "metadata": {
    "tags": []
   },
   "outputs": [
    {
     "name": "stdout",
     "output_type": "stream",
     "text": [
      "[10, 10, 10, 9, 11, 12, 10, 7, 12, 14, 9, 9, 10, 13, 8, 6, 12, 12, 13, 13, 12, 13, 12, 10, 12, 13, 10, 10, 10, 12, 9, 7, 10, 10, 8, 8, 9, 9, 8, 6, 12, 12, 6, 6, 8, 9, 5, 4, 10, 8, 10, 9, 9, 7, 9, 6, 13, 11, 7, 6, 10, 9, 6, 4, 9, 12, 5, 7, 11, 14, 7, 5, 12, 14, 9, 9, 9, 11, 8, 4, 11, 14, 6, 10, 13, 16, 8, 8, 13, 13, 9, 9, 11, 11, 9, 5, 13, 14, 7, 8, 11, 12, 7, 5, 13, 13, 7, 7, 9, 10, 7, 5, 12, 10, 7, 7, 11, 9, 7, 4, 14, 10, 7, 5, 12, 9, 8, 4, 14, 8, 11, 7, 16, 13, 13, 9, 11, 7, 8, 6, 10, 10, 9, 8, 14, 8, 14, 10, 15, 11, 15, 10, 12, 7, 11, 8, 11, 9, 12, 9, 9, 7, 5, 4, 11, 11, 8, 7, 8, 4, 2, 0, 7, 7, 4, 4, 10, 8, 10, 9, 10, 9, 10, 8, 14, 10, 9, 7, 12, 11, 9, 8, 10, 7, 6, 5, 12, 10, 9, 5, 9, 6, 6, 5, 6, 5, 6, 3, 12, 9, 8, 8, 14, 11, 11, 7, 12, 7, 8, 6, 10, 6, 9, 4, 12, 11, 5, 5, 11, 11, 6, 4, 11, 8, 3, 2, 8, 8, 4, 3, 13, 11, 8, 8, 11, 9, 7, 4, 17, 12, 8, 6, 14, 11, 8, 5] [10, 10, 10, 9, 11, 12, 10, 7, 12, 14, 9, 9, 10, 13, 8, 6, 12, 12, 13, 13, 12, 13, 12, 10, 12, 13, 10, 10, 10, 12, 9, 7, 10, 10, 8, 8, 9, 9, 8, 6, 12, 12, 6, 6, 8, 9, 5, 4, 10, 8, 10, 9, 9, 7, 9, 6, 13, 11, 7, 6, 10, 9, 6, 4, 9, 12, 5, 7, 11, 14, 7, 5, 12, 14, 9, 9, 9, 11, 8, 4, 11, 14, 6, 10, 13, 16, 8, 8, 13, 13, 9, 9, 11, 11, 9, 5, 13, 14, 7, 8, 11, 12, 7, 5, 13, 13, 7, 7, 9, 10, 7, 5, 12, 10, 7, 7, 11, 9, 7, 4, 14, 10, 7, 5, 12, 9, 8, 4, 14, 8, 11, 7, 16, 13, 13, 9, 11, 7, 8, 6, 10, 10, 9, 8, 14, 8, 14, 10, 15, 11, 15, 10, 12, 7, 11, 8, 11, 9, 12, 9, 9, 7, 5, 4, 11, 11, 8, 7, 8, 4, 2, 0, 7, 7, 4, 4, 10, 8, 10, 9, 10, 9, 10, 8, 14, 10, 9, 7, 12, 11, 9, 8, 10, 7, 6, 5, 12, 10, 9, 5, 9, 6, 6, 5, 6, 5, 6, 3, 12, 9, 8, 8, 14, 11, 11, 7, 12, 7, 8, 6, 10, 6, 9, 4, 12, 11, 5, 5, 11, 11, 6, 4, 11, 8, 3, 2, 8, 8, 4, 3, 13, 11, 8, 8, 11, 9, 7, 4, 17, 12, 8, 6, 14, 11, 8, 5]\n"
     ]
    }
   ],
   "source": [
    "qaoa_circuit, cost = circuit_from_dimacs(dimacs_file, binary_strings, nqubits, qubits, p, parameters)"
   ]
  },
  {
   "cell_type": "code",
   "execution_count": 848,
   "id": "88a75b42-0e11-4df6-ad3d-497178a34af7",
   "metadata": {
    "tags": []
   },
   "outputs": [
    {
     "data": {
      "text/plain": [
       "<tf.Variable 'UnreadVariable' shape=(12,) dtype=float32, numpy=\n",
       "array([-0.01,  0.01, -0.01,  0.01, -0.01,  0.01, -0.01,  0.01, -0.01,\n",
       "        0.01, -0.01,  0.01], dtype=float32)>"
      ]
     },
     "execution_count": 848,
     "metadata": {},
     "output_type": "execute_result"
    }
   ],
   "source": [
    "cost_m = cost.matrix()\n",
    "gs_energy = np.real(min(LA.eig(cost_m)[0]))\n",
    "\n",
    "initial = cirq.Circuit()\n",
    "\n",
    "for qubit in qubits:\n",
    "    initial.append(cirq.H(qubit)) #applying Hadamard to all qubits before running circuit\n",
    "\n",
    "inputs = tfq.convert_to_tensor([initial])\n",
    "ins = tf.keras.layers.Input(shape = (), dtype = tf.dtypes.string)\n",
    "outs = tfq.layers.PQC(qaoa_circuit, cost)(ins)\n",
    "ksat = tf.keras.models.Model(inputs = ins, outputs = outs)\n",
    "opt = tf.keras.optimizers.Adam(learning_rate = 0.5e-3)\n",
    "\n",
    "all_pars = [0.01*(-1)**(-i%2) for i in range(1,2*p+1)]\n",
    "#all_pars = [0.12, 0.9, 0.2, 0.7, 0.35, 0.8, 0.4, 0.6]\n",
    "ksat.trainable_variables[0].assign(all_pars) #initializing parameters with carefully chosen values"
   ]
  },
  {
   "cell_type": "code",
   "execution_count": 849,
   "id": "cfee6d16-e81a-4976-86e5-aff6575745db",
   "metadata": {
    "tags": []
   },
   "outputs": [
    {
     "name": "stdout",
     "output_type": "stream",
     "text": [
      "Epoch is 24999 and absolute value of (ground state energy - error) is 1.6783974170684814\r"
     ]
    }
   ],
   "source": [
    "losses = []\n",
    "start = time.time()\n",
    "\n",
    "j = 0\n",
    "epochs = 2.5e4\n",
    "\n",
    "while j < epochs:\n",
    "\n",
    "    with tf.GradientTape() as tape:\n",
    "        error = ksat(inputs)\n",
    "    \n",
    "    grads = tape.gradient(error, ksat.trainable_variables)\n",
    "    opt.apply_gradients(zip(grads, ksat.trainable_variables))\n",
    "    error = error.numpy()[0,0]\n",
    "    losses.append(error)\n",
    "    print('Epoch is '+str(j)+' and absolute value of (ground state energy - error) is ' + str(abs(gs_energy - error)), end = '\\r')\n",
    "   \n",
    "    j += 1\n",
    "    \n",
    "end = time.time()"
   ]
  },
  {
   "cell_type": "code",
   "execution_count": 850,
   "id": "2d5cc6a9-ebaf-43d5-840d-24f64c3be209",
   "metadata": {
    "tags": []
   },
   "outputs": [
    {
     "name": "stdout",
     "output_type": "stream",
     "text": [
      "Time spent in training:  324002.7866780758\n"
     ]
    }
   ],
   "source": [
    "print(\"Time spent in training: \", end - start)"
   ]
  },
  {
   "cell_type": "code",
   "execution_count": null,
   "id": "6998b510-a08c-4777-b6e3-fa1866fb97a8",
   "metadata": {
    "tags": []
   },
   "outputs": [
    {
     "data": {
      "image/png": "[encoded data removed]",
      "text/plain": [
       "<Figure size 600x200 with 1 Axes>"
      ]
     },
     "metadata": {},
     "output_type": "display_data"
    }
   ],
   "source": [
    "plt.figure(figsize=(6,2))\n",
    "plt.plot(losses, color = \"green\")\n",
    "plt.axhline(y = 0, color = 'black', linestyle = 'dashed')\n",
    "plt.xscale('log')\n",
    "plt.yscale('log')\n",
    "plt.xlabel(\"Epoch\")\n",
    "plt.ylabel(\"Loss\")\n",
    "plt.show()\n",
    "#plt.savefig(\"TSP_losses\")"
   ]
  },
  {
   "cell_type": "code",
   "execution_count": null,
   "id": "b02737ed-899c-474a-b1a8-c3601291c0a7",
   "metadata": {},
   "outputs": [],
   "source": [
    "def to_dec(x):\n",
    "    return int(\"\".join(str(i) for i in x), 2) "
   ]
  },
  {
   "cell_type": "code",
   "execution_count": null,
   "id": "630fb6c3-6cbc-46cc-9bb2-6a1f2c927d9f",
   "metadata": {},
   "outputs": [],
   "source": [
    "params = ksat.trainable_variables"
   ]
  },
  {
   "cell_type": "code",
   "execution_count": null,
   "id": "25e38e4b-c284-4590-94ba-1865389b8dbc",
   "metadata": {
    "tags": []
   },
   "outputs": [
    {
     "data": {
      "text/plain": [
       "[<tf.Variable 'parameters:0' shape=(12,) dtype=float32, numpy=\n",
       " array([0.15621413, 1.0753937 , 0.49862027, 0.37640744, 0.2632184 ,\n",
       "        0.9961199 , 0.33156207, 0.8640275 , 0.4139254 , 0.69913036,\n",
       "        0.47035497, 0.6167302 ], dtype=float32)>]"
      ]
     },
     "execution_count": 854,
     "metadata": {},
     "output_type": "execute_result"
    }
   ],
   "source": [
    "params"
   ]
  },
  {
   "cell_type": "code",
   "execution_count": null,
   "id": "e886c2be-1d08-4eaa-8a7d-f1971420c37b",
   "metadata": {},
   "outputs": [
    {
     "name": "stdout",
     "output_type": "stream",
     "text": [
      "Time spent in sampling:  0.4468681812286377\n"
     ]
    }
   ],
   "source": [
    "start = time.time()\n",
    "\n",
    "sample_circuit = tfq.layers.AddCircuit()(inputs, append=qaoa_circuit)\n",
    "output = tfq.layers.Sample()(sample_circuit, symbol_names=parameters, symbol_values=params, repetitions = 2048)\n",
    "\n",
    "end = time.time()\n",
    "\n",
    "print(\"Time spent in sampling: \",end - start)\n",
    "\n",
    "quantum_preds = []\n",
    "data = []\n",
    "for bits in output.values:\n",
    "    temp = []\n",
    "    data.append(to_dec(bits.numpy()))\n",
    "    for pos, bit in enumerate(bits):\n",
    "        if bit == 1:\n",
    "            temp.append(pos)\n",
    "    quantum_preds.append(temp)"
   ]
  },
  {
   "cell_type": "code",
   "execution_count": null,
   "id": "5f54e06d-bcf7-425c-a417-95b64bd2e92e",
   "metadata": {
    "tags": []
   },
   "outputs": [
    {
     "data": {
      "text/plain": [
       "['10101011']"
      ]
     },
     "execution_count": 856,
     "metadata": {},
     "output_type": "execute_result"
    }
   ],
   "source": [
    "valid_keys"
   ]
  },
  {
   "cell_type": "code",
   "execution_count": null,
   "id": "7d7ce48a-44ab-4a56-80e1-99feb479a19f",
   "metadata": {
    "lines_to_next_cell": 0
   },
   "outputs": [
    {
     "data": {
      "image/png": "[encoded data removed]",
      "text/plain": [
       "<Figure size 3000x200 with 1 Axes>"
      ]
     },
     "metadata": {},
     "output_type": "display_data"
    }
   ],
   "source": [
    "xticks = range(0, 2**nqubits)\n",
    "xtick_labels = list(map(lambda x: format(x, \"0\"+str(nqubits)+\"b\"), xticks))\n",
    "bins = np.arange(0, 2**nqubits + 1) - 0.5\n",
    "\n",
    "plt.figure(figsize=(30,2))\n",
    "plt.xticks(xticks, xtick_labels, rotation=\"vertical\")\n",
    "plt.hist(data, bins=bins, color = \"darkorange\", lw=0)\n",
    "#plt.savefig('hist_custom_sat.pdf')\n",
    "plt.show()"
   ]
  },
  {
   "cell_type": "code",
   "execution_count": null,
   "id": "813b97c1-5b34-45b5-98d2-b81212b9199b",
   "metadata": {},
   "outputs": [],
   "source": []
  }
 ],
 "metadata": {
  "kernelspec": {
   "display_name": "Python 3 (ipykernel)",
   "language": "python",
   "name": "python3"
  },
  "language_info": {
   "codemirror_mode": {
    "name": "ipython",
    "version": 3
   },
   "file_extension": ".py",
   "mimetype": "text/x-python",
   "name": "python",
   "nbconvert_exporter": "python",
   "pygments_lexer": "ipython3",
   "version": "3.9.0"
  }
 },
 "nbformat": 4,
 "nbformat_minor": 5
}
