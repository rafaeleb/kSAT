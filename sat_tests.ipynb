{
 "cells": [
  {
   "cell_type": "code",
   "execution_count": 62,
   "id": "46bcee59-86aa-4b30-b55c-79b6c4a69897",
   "metadata": {},
   "outputs": [],
   "source": [
    "import numpy as np\n",
    "import math\n",
    "from sympy.parsing.sympy_parser import parse_expr\n",
    "from sympy import *\n",
    "from qiskit import Aer\n",
    "from qiskit.visualization import plot_histogram\n",
    "from qiskit.utils import QuantumInstance\n",
    "from qiskit.algorithms import Grover, AmplificationProblem\n",
    "from qiskit.circuit.library import PhaseOracle\n",
    "from qiskit.quantum_info import Pauli\n",
    "import random as rd\n",
    "import re"
   ]
  },
  {
   "cell_type": "code",
   "execution_count": 2,
   "id": "f8ef69ff-53fb-4004-ac43-9e86447e2921",
   "metadata": {},
   "outputs": [
    {
     "name": "stdout",
     "output_type": "stream",
     "text": [
      "c example DIMACS-CNF 3-SAT\n",
      "p cnf 3 5\n",
      "-1 -2 -3 0\n",
      "1 -2 3 0\n",
      "1 2 -3 0\n",
      "1 -2 -3 0\n",
      "-1 2 3 0\n"
     ]
    }
   ],
   "source": [
    "with open('3sat.dimacs', 'r') as f:\n",
    "    dimacs = f.read()\n",
    "print(dimacs)"
   ]
  },
  {
   "cell_type": "code",
   "execution_count": 3,
   "id": "09856ae1-016e-49b3-8a4e-2d9ac4e99e18",
   "metadata": {},
   "outputs": [],
   "source": [
    "class Verifier():\n",
    "    def __init__(self, dimacs_file):\n",
    "        with open(dimacs_file, 'r') as f:\n",
    "            self.dimacs = f.read()\n",
    "\n",
    "    def is_correct(self, guess):\n",
    "        # Convert characters to bools & reverse\n",
    "        guess = [bool(int(x)) for x in guess][::-1]\n",
    "        for line in self.dimacs.split('\\n'):\n",
    "            line = line.strip(' 0')\n",
    "            clause_eval = False\n",
    "            for literal in line.split(' '):\n",
    "                if literal in ['p', 'c']:\n",
    "                    # line is not a clause\n",
    "                    clause_eval = True\n",
    "                    break\n",
    "                if '-' in literal:\n",
    "                    literal = literal.strip('-')\n",
    "                    lit_eval = not guess[int(literal)-1]\n",
    "                else:\n",
    "                    lit_eval = guess[int(literal)-1]\n",
    "                clause_eval |= lit_eval\n",
    "            if clause_eval is False:\n",
    "                return False\n",
    "        return True"
   ]
  },
  {
   "cell_type": "code",
   "execution_count": 4,
   "id": "0cf23a3d-701e-455b-9097-2d578d1c9a32",
   "metadata": {},
   "outputs": [],
   "source": [
    "# Function to create the\n",
    "# random binary string\n",
    "def rand_key(p):\n",
    "   \n",
    "    # Variable to store the\n",
    "    # string\n",
    "    key1 = \"\"\n",
    " \n",
    "    # Loop to find the string\n",
    "    # of desired length\n",
    "    for i in range(p):\n",
    "         \n",
    "        # randint function to generate\n",
    "        # 0, 1 randomly and converting\n",
    "        # the result into str\n",
    "        temp = str(rd.randint(0, 1))\n",
    " \n",
    "        # Concatenation the random 0, 1\n",
    "        # to the final result\n",
    "        key1 += temp\n",
    "         \n",
    "    return(key1)"
   ]
  },
  {
   "cell_type": "code",
   "execution_count": 5,
   "id": "1a5947f6-ed90-4e72-9b49-2ebb4a06de42",
   "metadata": {},
   "outputs": [],
   "source": [
    "v = Verifier('3sat.dimacs')   "
   ]
  },
  {
   "cell_type": "code",
   "execution_count": 6,
   "id": "ccc04f37-83bc-43be-8f39-c7e58055e9c7",
   "metadata": {},
   "outputs": [],
   "source": [
    "def generate_binary_strings(bit_count):\n",
    "    binary_strings = []\n",
    "    def genbin(n, bs=''):\n",
    "        if len(bs) == n:\n",
    "            binary_strings.append(bs)\n",
    "        else:\n",
    "            genbin(n, bs + '0')\n",
    "            genbin(n, bs + '1')\n",
    "\n",
    "    genbin(bit_count)\n",
    "    return binary_strings\n",
    "\n",
    "binary_strings = generate_binary_strings(3)"
   ]
  },
  {
   "cell_type": "code",
   "execution_count": 7,
   "id": "ab0fe95b-325f-4c96-b653-779021c39ef4",
   "metadata": {},
   "outputs": [
    {
     "data": {
      "text/plain": [
       "['000', '001', '010', '011', '100', '101', '110', '111']"
      ]
     },
     "execution_count": 7,
     "metadata": {},
     "output_type": "execute_result"
    }
   ],
   "source": [
    "binary_strings"
   ]
  },
  {
   "cell_type": "code",
   "execution_count": 8,
   "id": "2c14a63b-bfdc-4993-9efa-193ebd53d027",
   "metadata": {},
   "outputs": [
    {
     "data": {
      "text/plain": [
       "True"
      ]
     },
     "execution_count": 8,
     "metadata": {},
     "output_type": "execute_result"
    }
   ],
   "source": [
    "v.is_correct(binary_strings[0])"
   ]
  },
  {
   "cell_type": "code",
   "execution_count": 9,
   "id": "b73346e9-962d-4f73-a8bb-ad28b4ecd013",
   "metadata": {},
   "outputs": [
    {
     "name": "stdout",
     "output_type": "stream",
     "text": [
      "000\n",
      "001\n",
      "010\n",
      "011\n",
      "100\n",
      "101\n",
      "110\n",
      "111\n"
     ]
    }
   ],
   "source": [
    "for key in binary_strings:\n",
    "    print(key)"
   ]
  },
  {
   "cell_type": "code",
   "execution_count": 10,
   "id": "76371be9-c2a7-4cd5-946a-66ea1a93d696",
   "metadata": {},
   "outputs": [
    {
     "name": "stdout",
     "output_type": "stream",
     "text": [
      "000\n",
      "011\n",
      "101\n"
     ]
    }
   ],
   "source": [
    "valid_keys = []\n",
    "\n",
    "for key in binary_strings:\n",
    "    if v.is_correct(key) == True:\n",
    "        print(key) \n",
    "        valid_keys.append(key)"
   ]
  },
  {
   "cell_type": "code",
   "execution_count": 281,
   "id": "fbe30000-d690-4ea4-8c5a-552f54ad3d61",
   "metadata": {},
   "outputs": [
    {
     "name": "stdout",
     "output_type": "stream",
     "text": [
      "-1\n",
      "-2\n",
      "-3\n",
      "1\n",
      "-2\n",
      "3\n",
      "1\n",
      "2\n",
      "-3\n",
      "1\n",
      "-2\n",
      "-3\n",
      "-1\n",
      "2\n",
      "3\n"
     ]
    }
   ],
   "source": [
    "statement = []\n",
    "for line in dimacs.split('\\n'):\n",
    "    line = line.strip(' 0')\n",
    "    clause = []\n",
    "    for literal in line.split(' '):\n",
    "            if literal in ['p', 'c']:\n",
    "            # line is not a clause\n",
    "                break\n",
    "            else:\n",
    "                print(literal)\n",
    "                clause.append(int(literal))\n",
    "    statement.append(clause)"
   ]
  },
  {
   "cell_type": "code",
   "execution_count": 297,
   "id": "a13d270c-8930-43ff-aae8-b68cf606680d",
   "metadata": {},
   "outputs": [
    {
     "data": {
      "text/plain": [
       "[[-1, -2, -3], [1, -2, 3], [1, 2, -3], [1, -2, -3], [-1, 2, 3]]"
      ]
     },
     "execution_count": 297,
     "metadata": {},
     "output_type": "execute_result"
    }
   ],
   "source": [
    "new_stat = [ele for ele in statement if ele != []]\n",
    "new_stat"
   ]
  },
  {
   "cell_type": "code",
   "execution_count": 298,
   "id": "b417321f-67da-42b2-b9f8-6c06cd3ff401",
   "metadata": {},
   "outputs": [],
   "source": [
    "Z = IndexedBase('Z')\n",
    "i= symbols('i', cls=Idx)"
   ]
  },
  {
   "cell_type": "code",
   "execution_count": 301,
   "id": "65061818-ba80-45bb-aea3-a28559b57c23",
   "metadata": {},
   "outputs": [],
   "source": [
    "all_clauses = []\n",
    "for i in range(len(new_stat)):\n",
    "    clauses_z = []\n",
    "    for literal in new_stat[i]:\n",
    "        #print(literal)\n",
    "        if literal < 0:\n",
    "            literal_exp = 1 - Z[abs(literal)]\n",
    "        else:\n",
    "            literal_exp = 1 + Z[abs(literal)]\n",
    "        clauses_z.append(literal_exp)\n",
    "    all_clauses.append(clauses_z)"
   ]
  },
  {
   "cell_type": "code",
   "execution_count": 302,
   "id": "ed585438-375f-48bd-b75d-7c90ab053839",
   "metadata": {},
   "outputs": [
    {
     "data": {
      "text/plain": [
       "[[1 - Z[1], 1 - Z[2], 1 - Z[3]],\n",
       " [Z[1] + 1, 1 - Z[2], Z[3] + 1],\n",
       " [Z[1] + 1, Z[2] + 1, 1 - Z[3]],\n",
       " [Z[1] + 1, 1 - Z[2], 1 - Z[3]],\n",
       " [1 - Z[1], Z[2] + 1, Z[3] + 1]]"
      ]
     },
     "execution_count": 302,
     "metadata": {},
     "output_type": "execute_result"
    }
   ],
   "source": [
    "all_clauses"
   ]
  },
  {
   "cell_type": "code",
   "execution_count": 332,
   "id": "5bc12f0b-2045-483a-97e4-54a8fe4a76d0",
   "metadata": {},
   "outputs": [
    {
     "data": {
      "text/latex": [
       "$\\displaystyle - {Z}_{1} {Z}_{2} {Z}_{3} + {Z}_{1} {Z}_{2} - {Z}_{1} {Z}_{3} + {Z}_{1} - {Z}_{2} {Z}_{3} + {Z}_{2} - {Z}_{3} + 1$"
      ],
      "text/plain": [
       "-Z[1]*Z[2]*Z[3] + Z[1]*Z[2] - Z[1]*Z[3] + Z[1] - Z[2]*Z[3] + Z[2] - Z[3] + 1"
      ]
     },
     "execution_count": 332,
     "metadata": {},
     "output_type": "execute_result"
    }
   ],
   "source": [
    "expanded_clause = expand(np.prod(all_clauses[2]))\n",
    "expanded_clause"
   ]
  },
  {
   "cell_type": "code",
   "execution_count": 334,
   "id": "03b44529-60f5-44f9-ae31-b2127bb072ac",
   "metadata": {},
   "outputs": [],
   "source": [
    "crc = [] #circuit-ready clauses\n",
    "\n",
    "for clause in all_clauses:\n",
    "    circuit_ready_clause_piece = []\n",
    "    expanded_clause = expand(np.prod(clause))\n",
    "    clause_broken = Add.make_args(expanded_clause)\n",
    "    #print(clause_broken)\n",
    "    \n",
    "    for piece in clause_broken:\n",
    "        if piece == 1:\n",
    "            circuit_ready_clause_piece.append('id')\n",
    "        else: \n",
    "            atom_list = list(piece.atoms(Number))\n",
    "            #print(atom_list)\n",
    "            if atom_list[-1] == -1:\n",
    "                circuit_ready_clause_piece.append((-1, atom_list[:-1]))\n",
    "            else:\n",
    "                circuit_ready_clause_piece.append((+1, atom_list))\n",
    "    crc.append(circuit_ready_clause_piece)"
   ]
  },
  {
   "cell_type": "code",
   "execution_count": 335,
   "id": "700ce203-dad9-4ad2-b7e3-7b983e346318",
   "metadata": {},
   "outputs": [
    {
     "data": {
      "text/plain": [
       "[['id',\n",
       "  (-1, [1]),\n",
       "  (-1, [2]),\n",
       "  (-1, [3]),\n",
       "  (1, [1, 2]),\n",
       "  (1, [1, 3]),\n",
       "  (1, [2, 3]),\n",
       "  (-1, [1, 2, 3])],\n",
       " ['id',\n",
       "  (-1, [2]),\n",
       "  (1, [1, 3]),\n",
       "  (-1, [1, 2]),\n",
       "  (-1, [2, 3]),\n",
       "  (-1, [1, 2, 3]),\n",
       "  (1, [1]),\n",
       "  (1, [3])],\n",
       " ['id',\n",
       "  (-1, [3]),\n",
       "  (1, [1, 2]),\n",
       "  (-1, [1, 3]),\n",
       "  (-1, [2, 3]),\n",
       "  (-1, [1, 2, 3]),\n",
       "  (1, [1]),\n",
       "  (1, [2])],\n",
       " ['id',\n",
       "  (-1, [2]),\n",
       "  (-1, [3]),\n",
       "  (1, [2, 3]),\n",
       "  (-1, [1, 2]),\n",
       "  (-1, [1, 3]),\n",
       "  (1, [1, 2, 3]),\n",
       "  (1, [1])],\n",
       " ['id',\n",
       "  (-1, [1]),\n",
       "  (1, [2, 3]),\n",
       "  (-1, [1, 2]),\n",
       "  (-1, [1, 3]),\n",
       "  (-1, [1, 2, 3]),\n",
       "  (1, [2]),\n",
       "  (1, [3])]]"
      ]
     },
     "execution_count": 335,
     "metadata": {},
     "output_type": "execute_result"
    }
   ],
   "source": [
    "crc"
   ]
  }
 ],
 "metadata": {
  "kernelspec": {
   "display_name": "Python 3 (ipykernel)",
   "language": "python",
   "name": "python3"
  },
  "language_info": {
   "codemirror_mode": {
    "name": "ipython",
    "version": 3
   },
   "file_extension": ".py",
   "mimetype": "text/x-python",
   "name": "python",
   "nbconvert_exporter": "python",
   "pygments_lexer": "ipython3",
   "version": "3.9.13"
  }
 },
 "nbformat": 4,
 "nbformat_minor": 5
}
