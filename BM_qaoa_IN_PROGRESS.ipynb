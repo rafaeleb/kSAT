{
 "cells": [
  {
   "cell_type": "code",
   "execution_count": 108,
   "id": "2a9a8d24-463b-4db6-b4b5-ff647465bf88",
   "metadata": {
    "tags": []
   },
   "outputs": [],
   "source": [
    "import matplotlib.pyplot as plt\n",
    "import numpy as np\n",
    "import cirq\n",
    "from cirq.contrib.svg import SVGCircuit\n",
    "from qiskit import Aer\n",
    "from qiskit.visualization import plot_histogram\n",
    "from qiskit.utils import QuantumInstance\n",
    "from qiskit.algorithms import Grover, AmplificationProblem\n",
    "from qiskit.circuit.library import PhaseOracle\n",
    "import random as rd\n",
    "from sympy import *\n",
    "import tensorflow as tf\n",
    "import tensorflow_quantum as tfq\n",
    "import math\n",
    "from itertools import permutations, combinations, product"
   ]
  },
  {
   "cell_type": "code",
   "execution_count": 109,
   "id": "be73481c-d83c-4001-8cbd-8bb46df6955f",
   "metadata": {
    "tags": []
   },
   "outputs": [],
   "source": [
    "nqubits = 3"
   ]
  },
  {
   "cell_type": "code",
   "execution_count": 110,
   "id": "51941c56-7d10-4216-8c93-07d93d81af5a",
   "metadata": {
    "tags": []
   },
   "outputs": [],
   "source": [
    "def generate_binary_strings(bit_count):\n",
    "    binary_strings = []\n",
    "    def genbin(n, bs=''):\n",
    "        if len(bs) == n:\n",
    "            binary_strings.append(bs)\n",
    "        else:\n",
    "            genbin(n, bs + '0')\n",
    "            genbin(n, bs + '1')\n",
    "\n",
    "    genbin(bit_count)\n",
    "    return binary_strings\n",
    "\n",
    "binary_strings = generate_binary_strings(nqubits)"
   ]
  },
  {
   "cell_type": "code",
   "execution_count": 111,
   "id": "b7776321-d2b1-4876-a0c5-b28a3cd7a896",
   "metadata": {
    "tags": []
   },
   "outputs": [],
   "source": [
    "with open('random_cnf.dimacs', 'r') as f:\n",
    "    dimacs = f.read()\n",
    "#print(dimacs)\n",
    "unsat_list = []\n",
    "\n",
    "for key in binary_strings:\n",
    "    guess = [bool(int(x)) for x in key][::-1]\n",
    "\n",
    "    clause_eval_list = []\n",
    "    counter = 0\n",
    "    for k, line in enumerate(dimacs.split('\\n')):\n",
    "\n",
    "        line = line.strip(' 0')\n",
    "        clause_eval = False\n",
    "\n",
    "        for literal in line.split(' '):\n",
    "            if literal in ['p', 'c']:\n",
    "                #line is not a clause\n",
    "                clause_eval = True\n",
    "                break\n",
    "            if '-' in literal:\n",
    "                literal = literal.strip('-')\n",
    "                lit_eval = not guess[int(literal)-1]\n",
    "            else:\n",
    "                lit_eval = guess[int(literal)-1]\n",
    "            clause_eval |= lit_eval\n",
    "        #print(clause_eval)\n",
    "        if k > 1:\n",
    "            counter += 1\n",
    "            clause_eval_list.append(clause_eval)\n",
    "    unsat_clauses = counter - sum(clause_eval_list)\n",
    "    unsat_list.append(unsat_clauses)"
   ]
  },
  {
   "cell_type": "code",
   "execution_count": 112,
   "id": "44e0ef12-f3ea-4e74-99e7-2b54fb85a65b",
   "metadata": {
    "tags": []
   },
   "outputs": [
    {
     "data": {
      "text/plain": [
       "array([[3, 0, 0, 0, 0, 0, 0, 0],\n",
       "       [0, 0, 0, 0, 0, 0, 0, 0],\n",
       "       [0, 0, 3, 0, 0, 0, 0, 0],\n",
       "       [0, 0, 0, 3, 0, 0, 0, 0],\n",
       "       [0, 0, 0, 0, 2, 0, 0, 0],\n",
       "       [0, 0, 0, 0, 0, 2, 0, 0],\n",
       "       [0, 0, 0, 0, 0, 0, 3, 0],\n",
       "       [0, 0, 0, 0, 0, 0, 0, 2]])"
      ]
     },
     "execution_count": 112,
     "metadata": {},
     "output_type": "execute_result"
    }
   ],
   "source": [
    "unsat_mat = np.diag(unsat_list)\n",
    "unsat_mat"
   ]
  },
  {
   "cell_type": "code",
   "execution_count": 113,
   "id": "a6798118-a09b-481b-9574-2f4260f84fd9",
   "metadata": {
    "tags": []
   },
   "outputs": [],
   "source": [
    "\"\"\"Define a custom two-qubit gate.\"\"\"\n",
    "class BMgate(cirq.Gate):\n",
    "    def __init__(self, beta, nqubits, mat):\n",
    "        super(BMgate, self)\n",
    "        self.beta = beta\n",
    "        self.mat = mat\n",
    "        self.qubits = nqubits\n",
    "            \n",
    "    def _num_qubits_(self):\n",
    "        return nqubits\n",
    "\n",
    "    def _unitary_(self):\n",
    "        return np.exp(-1.0j * self.beta * self.mat)\n",
    "    def _circuit_diagram_info_(self, args):\n",
    "        return [f\"U({self.beta})\" for _ in range(nqubits)]\n",
    "\n",
    "#this_gate = AnotherGate(beta = 0.5, nqubits = 5, mat = unsat_mat)\n",
    "\n",
    "#cirq.unitary(this_gate)"
   ]
  },
  {
   "cell_type": "code",
   "execution_count": 114,
   "id": "272b0100-9f5d-4140-a6e9-253084e1268d",
   "metadata": {
    "tags": []
   },
   "outputs": [],
   "source": [
    "qubits = []\n",
    "\n",
    "for i in range(nqubits):\n",
    "    qubits.append(cirq.GridQubit(0,i))        \n",
    "    \n",
    "qubits = list(qubits) #don't know why\n",
    "all_qubits = [i for i in range(nqubits)]"
   ]
  },
  {
   "cell_type": "code",
   "execution_count": 115,
   "id": "518a338d-01a3-4e99-a22b-199962441513",
   "metadata": {
    "tags": []
   },
   "outputs": [],
   "source": [
    "def mixing_circuit(circuit, qubits, par):\n",
    "    for i in range(len(qubits)):\n",
    "        circuit.append(cirq.rx(par).on(qubits[i]))\n",
    "    return circuit"
   ]
  },
  {
   "cell_type": "code",
   "execution_count": 116,
   "id": "750c357f-5cd4-42f5-8e50-c3f65797be73",
   "metadata": {
    "tags": []
   },
   "outputs": [
    {
     "data": {
      "text/plain": [
       "3"
      ]
     },
     "execution_count": 116,
     "metadata": {},
     "output_type": "execute_result"
    }
   ],
   "source": [
    "nqubits"
   ]
  },
  {
   "cell_type": "code",
   "execution_count": 117,
   "id": "07239e2c-0bd0-427f-b5f7-ab791d0f580b",
   "metadata": {
    "tags": []
   },
   "outputs": [
    {
     "data": {
      "text/plain": [
       "[cirq.GridQubit(0, 0), cirq.GridQubit(0, 1), cirq.GridQubit(0, 2)]"
      ]
     },
     "execution_count": 117,
     "metadata": {},
     "output_type": "execute_result"
    }
   ],
   "source": [
    "qubits = []\n",
    "\n",
    "for i in range(nqubits):\n",
    "    qubits.append(cirq.GridQubit(0,i))        \n",
    "    \n",
    "qubits = list(qubits) #don't know why\n",
    "all_qubits = [i for i in range(nqubits)]\n",
    "qubits"
   ]
  },
  {
   "cell_type": "code",
   "execution_count": 118,
   "id": "2e749fd7-cefc-4028-99b5-52ffcdfc2671",
   "metadata": {
    "tags": []
   },
   "outputs": [],
   "source": [
    "qaoa_circuit = cirq.Circuit()\n",
    "\n",
    "p = 2 #number of layers. When in doubt, stay on the lower side\n",
    "\n",
    "num_param = 2 * p \n",
    "parameters = symbols(\"q0:%d\" % num_param)\n",
    "\n",
    "#setting up the layers\n",
    "for i in range(p):\n",
    "    #qaoa_circuit.append(BMgate(beta = parameters[2 * i], nqubits = nqubits, mat = unsat_mat).on(*qubits))\n",
    "    for qubit in qubits:\n",
    "        qaoa_circuit.append(cirq.rx(parameters[2 * i +1]).on(qubit))"
   ]
  },
  {
   "cell_type": "code",
   "execution_count": 119,
   "id": "bcf1daa7-7583-452c-a90f-7ab68e3a89e5",
   "metadata": {
    "tags": []
   },
   "outputs": [
    {
     "data": {
      "image/svg+xml": [
       "<svg xmlns=\"http://www.w3.org/2000/svg\" width=\"245.294921875\" height=\"150.0\"><line x1=\"32.246796875\" x2=\"215.294921875\" y1=\"25.0\" y2=\"25.0\" stroke=\"#1967d2\" stroke-width=\"1\" /><line x1=\"32.246796875\" x2=\"215.294921875\" y1=\"75.0\" y2=\"75.0\" stroke=\"#1967d2\" stroke-width=\"1\" /><line x1=\"32.246796875\" x2=\"215.294921875\" y1=\"125.0\" y2=\"125.0\" stroke=\"#1967d2\" stroke-width=\"1\" /><rect x=\"10.0\" y=\"5.0\" width=\"44.49359375\" height=\"40\" stroke=\"black\" fill=\"white\" stroke-width=\"0\" /><text x=\"32.246796875\" y=\"25.0\" dominant-baseline=\"middle\" text-anchor=\"middle\" font-size=\"14px\" font-family=\"Arial\">(0, 0): </text><rect x=\"10.0\" y=\"55.0\" width=\"44.49359375\" height=\"40\" stroke=\"black\" fill=\"white\" stroke-width=\"0\" /><text x=\"32.246796875\" y=\"75.0\" dominant-baseline=\"middle\" text-anchor=\"middle\" font-size=\"14px\" font-family=\"Arial\">(0, 1): </text><rect x=\"10.0\" y=\"105.0\" width=\"44.49359375\" height=\"40\" stroke=\"black\" fill=\"white\" stroke-width=\"0\" /><text x=\"32.246796875\" y=\"125.0\" dominant-baseline=\"middle\" text-anchor=\"middle\" font-size=\"14px\" font-family=\"Arial\">(0, 2): </text><rect x=\"74.49359375\" y=\"5.0\" width=\"50.4006640625\" height=\"40\" stroke=\"black\" fill=\"white\" stroke-width=\"1\" /><text x=\"99.69392578125\" y=\"25.0\" dominant-baseline=\"middle\" text-anchor=\"middle\" font-size=\"14px\" font-family=\"Arial\">Rx(q1)</text><rect x=\"74.49359375\" y=\"55.0\" width=\"50.4006640625\" height=\"40\" stroke=\"black\" fill=\"white\" stroke-width=\"1\" /><text x=\"99.69392578125\" y=\"75.0\" dominant-baseline=\"middle\" text-anchor=\"middle\" font-size=\"14px\" font-family=\"Arial\">Rx(q1)</text><rect x=\"74.49359375\" y=\"105.0\" width=\"50.4006640625\" height=\"40\" stroke=\"black\" fill=\"white\" stroke-width=\"1\" /><text x=\"99.69392578125\" y=\"125.0\" dominant-baseline=\"middle\" text-anchor=\"middle\" font-size=\"14px\" font-family=\"Arial\">Rx(q1)</text><rect x=\"144.89425781249997\" y=\"5.0\" width=\"50.4006640625\" height=\"40\" stroke=\"black\" fill=\"white\" stroke-width=\"1\" /><text x=\"170.09458984375\" y=\"25.0\" dominant-baseline=\"middle\" text-anchor=\"middle\" font-size=\"14px\" font-family=\"Arial\">Rx(q3)</text><rect x=\"144.89425781249997\" y=\"55.0\" width=\"50.4006640625\" height=\"40\" stroke=\"black\" fill=\"white\" stroke-width=\"1\" /><text x=\"170.09458984375\" y=\"75.0\" dominant-baseline=\"middle\" text-anchor=\"middle\" font-size=\"14px\" font-family=\"Arial\">Rx(q3)</text><rect x=\"144.89425781249997\" y=\"105.0\" width=\"50.4006640625\" height=\"40\" stroke=\"black\" fill=\"white\" stroke-width=\"1\" /><text x=\"170.09458984375\" y=\"125.0\" dominant-baseline=\"middle\" text-anchor=\"middle\" font-size=\"14px\" font-family=\"Arial\">Rx(q3)</text></svg>"
      ],
      "text/plain": [
       "<cirq.contrib.svg.svg.SVGCircuit at 0x7f85cc529460>"
      ]
     },
     "execution_count": 119,
     "metadata": {},
     "output_type": "execute_result"
    }
   ],
   "source": [
    "SVGCircuit(qaoa_circuit)"
   ]
  },
  {
   "cell_type": "code",
   "execution_count": 194,
   "id": "6d395962-bfd7-4fe6-a658-de91e6e669a8",
   "metadata": {
    "tags": []
   },
   "outputs": [],
   "source": [
    "initial = cirq.Circuit()\n",
    "\n",
    "for qubit in qubits:\n",
    "    initial.append(cirq.H(qubit)) #applying Hadamard to all qubits before running circuit\n",
    "\n",
    "#setting up the model\n",
    "inputs = tfq.convert_to_tensor([initial])\n",
    "ins = tf.keras.layers.Input(shape = (), dtype = tf.dtypes.string)\n",
    "outs = tfq.layers.PQC(qaoa_circuit, t1 + t2 + t3 +t4)(ins)\n",
    "ksat = tf.keras.models.Model(inputs = ins, outputs = outs)\n",
    "opt = tf.keras.optimizers.Adam(learning_rate = 0.001)\n",
    "\n",
    "#ksat.trainable_variables[0].assign([0.001 * rd.random() for i in range(2*p)]) #initializing angles with some small noise"
   ]
  },
  {
   "cell_type": "code",
   "execution_count": 191,
   "id": "8aa3f879-ddc9-404e-8b69-0461f9e5acb1",
   "metadata": {
    "tags": []
   },
   "outputs": [],
   "source": [
    "def my_gate(c, index):\n",
    "    g = c * cirq.Z(qubits[index]) + cirq.I(qubits[index])\n",
    "    return g"
   ]
  },
  {
   "cell_type": "code",
   "execution_count": 192,
   "id": "a867110c-a24e-4383-a957-d0cbcc53ead7",
   "metadata": {
    "tags": []
   },
   "outputs": [],
   "source": [
    "from itertools import product\n",
    "\n",
    "ones_list = list(product([-1,1], repeat=nqubits))\n",
    "#ones_list"
   ]
  },
  {
   "cell_type": "code",
   "execution_count": 193,
   "id": "099483d9-4595-420f-a23f-973f74aeb5fc",
   "metadata": {
    "tags": []
   },
   "outputs": [
    {
     "data": {
      "text/plain": [
       "array([[4.+0.j, 0.+0.j, 0.+0.j, 0.+0.j, 0.+0.j, 0.+0.j, 0.+0.j, 0.+0.j],\n",
       "       [0.+0.j, 8.+0.j, 0.+0.j, 0.+0.j, 0.+0.j, 0.+0.j, 0.+0.j, 0.+0.j],\n",
       "       [0.+0.j, 0.+0.j, 8.+0.j, 0.+0.j, 0.+0.j, 0.+0.j, 0.+0.j, 0.+0.j],\n",
       "       [0.+0.j, 0.+0.j, 0.+0.j, 8.+0.j, 0.+0.j, 0.+0.j, 0.+0.j, 0.+0.j],\n",
       "       [0.+0.j, 0.+0.j, 0.+0.j, 0.+0.j, 8.+0.j, 0.+0.j, 0.+0.j, 0.+0.j],\n",
       "       [0.+0.j, 0.+0.j, 0.+0.j, 0.+0.j, 0.+0.j, 8.+0.j, 0.+0.j, 0.+0.j],\n",
       "       [0.+0.j, 0.+0.j, 0.+0.j, 0.+0.j, 0.+0.j, 0.+0.j, 8.+0.j, 0.+0.j],\n",
       "       [0.+0.j, 0.+0.j, 0.+0.j, 0.+0.j, 0.+0.j, 0.+0.j, 0.+0.j, 4.+0.j]])"
      ]
     },
     "execution_count": 193,
     "metadata": {},
     "output_type": "execute_result"
    }
   ],
   "source": [
    "t1 = (0.5*math.prod([my_gate(1, i) for i in range(nqubits)]) + 0.5*math.prod([my_gate(-1, i) for i in range(nqubits)]))\n",
    "t2 = (math.prod([my_gate(1, 0), my_gate(1, 1), my_gate(-1, 2)])+ math.prod([my_gate(-1, 0), my_gate(-1, 1), my_gate(1, 2)]))\n",
    "t3 = (math.prod([my_gate(-1, 0), my_gate(1, 1), my_gate(-1, 2)])+ math.prod([my_gate(1, 0), my_gate(-1, 1), my_gate(1, 2)]))\n",
    "t4 = (math.prod([my_gate(-1, 0), my_gate(1, 1), my_gate(1, 2)])+ math.prod([my_gate(1, 0), my_gate(-1, 1), my_gate(-1, 2)]))\n",
    "\n",
    "(t1 + t2 + t3 +t4).matrix()"
   ]
  },
  {
   "cell_type": "code",
   "execution_count": null,
   "id": "3018b6c0-aca3-4b5b-9b07-fc1923389759",
   "metadata": {},
   "outputs": [],
   "source": []
  }
 ],
 "metadata": {
  "kernelspec": {
   "display_name": "Python 3 (ipykernel)",
   "language": "python",
   "name": "python3"
  },
  "language_info": {
   "codemirror_mode": {
    "name": "ipython",
    "version": 3
   },
   "file_extension": ".py",
   "mimetype": "text/x-python",
   "name": "python",
   "nbconvert_exporter": "python",
   "pygments_lexer": "ipython3",
   "version": "3.9.0"
  }
 },
 "nbformat": 4,
 "nbformat_minor": 5
}
