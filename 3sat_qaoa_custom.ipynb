{
 "cells": [
  {
   "cell_type": "code",
   "execution_count": 1,
   "id": "46bcee59-86aa-4b30-b55c-79b6c4a69897",
   "metadata": {},
   "outputs": [],
   "source": [
    "import numpy as np\n",
    "import math\n",
    "from sympy.parsing.sympy_parser import parse_expr\n",
    "from sympy import *\n",
    "from qiskit import Aer\n",
    "from qiskit.visualization import plot_histogram\n",
    "from qiskit.utils import QuantumInstance\n",
    "from qiskit.algorithms import Grover, AmplificationProblem\n",
    "from qiskit.circuit.library import PhaseOracle\n",
    "from qiskit.quantum_info import Pauli\n",
    "import random as rd\n",
    "import re\n",
    "import operator\n",
    "import functools\n",
    "from scipy.linalg import expm, sinm, cosm\n",
    "from numpy.linalg import matrix_power\n",
    "from typing import Sequence, Tuple\n",
    "import matplotlib.pyplot as plt"
   ]
  },
  {
   "cell_type": "code",
   "execution_count": 2,
   "id": "0cba7815-84f8-4c34-bba4-f7627dee11d2",
   "metadata": {},
   "outputs": [
    {
     "name": "stderr",
     "output_type": "stream",
     "text": [
      "2023-02-09 15:42:44.441059: W tensorflow/stream_executor/platform/default/dso_loader.cc:64] Could not load dynamic library 'libcudart.so.11.0'; dlerror: libcudart.so.11.0: cannot open shared object file: No such file or directory\n",
      "2023-02-09 15:42:44.441074: I tensorflow/stream_executor/cuda/cudart_stub.cc:29] Ignore above cudart dlerror if you do not have a GPU set up on your machine.\n",
      "2023-02-09 15:42:45.777055: W tensorflow/stream_executor/platform/default/dso_loader.cc:64] Could not load dynamic library 'libcuda.so.1'; dlerror: libcuda.so.1: cannot open shared object file: No such file or directory\n",
      "2023-02-09 15:42:45.777069: W tensorflow/stream_executor/cuda/cuda_driver.cc:269] failed call to cuInit: UNKNOWN ERROR (303)\n",
      "2023-02-09 15:42:45.777080: I tensorflow/stream_executor/cuda/cuda_diagnostics.cc:156] kernel driver does not appear to be running on this host (rafael-ThinkPad): /proc/driver/nvidia/version does not exist\n",
      "2023-02-09 15:42:45.777231: I tensorflow/core/platform/cpu_feature_guard.cc:151] This TensorFlow binary is optimized with oneAPI Deep Neural Network Library (oneDNN) to use the following CPU instructions in performance-critical operations:  AVX2 FMA\n",
      "To enable them in other operations, rebuild TensorFlow with the appropriate compiler flags.\n"
     ]
    }
   ],
   "source": [
    "import tensorflow as tf\n",
    "import tensorflow_quantum as tfq\n",
    "import cirq\n",
    "from cirq.contrib.svg import SVGCircuit"
   ]
  },
  {
   "cell_type": "markdown",
   "id": "9ca9f355-8cfa-41dc-92ab-2ba5f04e9845",
   "metadata": {
    "tags": []
   },
   "source": [
    "## Random k-SAT"
   ]
  },
  {
   "cell_type": "code",
   "execution_count": 3,
   "id": "fcb5adb9-33c6-44ae-9208-907596f596b3",
   "metadata": {},
   "outputs": [
    {
     "name": "stdout",
     "output_type": "stream",
     "text": [
      "c example DIMACS-CNF 3-SAT\n",
      "p cnf 5 14\n",
      "-1 -2 -3 0\n",
      "5 -2 3 0\n",
      "-1 2 3 0\n",
      "1 2 3 0\n",
      "-3 2 4 0\n",
      "-3 2 -1 0\n",
      "-2 -3 1 0\n",
      "4 -2 1 0\n",
      "5 -3 2 0\n",
      "1 3 5 0\n",
      "2 -4 5 0\n",
      "5 -4 1 0\n",
      "-5 2 -3 0\n",
      "-3 -2 5 0\n",
      "-4 -5 1 0\n"
     ]
    }
   ],
   "source": [
    "with open('custom_cnf.dimacs', 'r') as f:\n",
    "    dimacs_custom = f.read()\n",
    "print(dimacs_custom)"
   ]
  },
  {
   "cell_type": "code",
   "execution_count": 4,
   "id": "9b22d061-c8fd-4052-a744-652f3e2060cd",
   "metadata": {},
   "outputs": [],
   "source": [
    "class Verifier():\n",
    "    def __init__(self, dimacs_file):\n",
    "        with open(dimacs_file, 'r') as f:\n",
    "            self.dimacs = f.read()\n",
    "\n",
    "    def is_correct(self, guess):\n",
    "        # Convert characters to bools & reverse\n",
    "        guess = [bool(int(x)) for x in guess][::-1]\n",
    "        for line in self.dimacs.split('\\n'):\n",
    "            line = line.strip(' 0')\n",
    "            clause_eval = False\n",
    "            for literal in line.split(' '):\n",
    "                if literal in ['p', 'c']:\n",
    "                    # line is not a clause\n",
    "                    clause_eval = True\n",
    "                    break\n",
    "                if '-' in literal:\n",
    "                    literal = literal.strip('-')\n",
    "                    lit_eval = not guess[int(literal)-1]\n",
    "                else:\n",
    "                    lit_eval = guess[int(literal)-1]\n",
    "                clause_eval |= lit_eval\n",
    "            if clause_eval is False:\n",
    "                return False\n",
    "        return True"
   ]
  },
  {
   "cell_type": "code",
   "execution_count": 5,
   "id": "5d715ef8-9467-4bdb-938d-2beea3e67a4e",
   "metadata": {},
   "outputs": [
    {
     "data": {
      "text/plain": [
       "<__main__.Verifier at 0x7f710a4a3490>"
      ]
     },
     "execution_count": 5,
     "metadata": {},
     "output_type": "execute_result"
    }
   ],
   "source": [
    "v = Verifier('custom_cnf.dimacs')\n",
    "v"
   ]
  },
  {
   "cell_type": "code",
   "execution_count": 6,
   "id": "841d81d4-9a25-4e87-ade9-c8a1c68378c0",
   "metadata": {},
   "outputs": [],
   "source": [
    "nqubits = 5"
   ]
  },
  {
   "cell_type": "code",
   "execution_count": 7,
   "id": "f77e97de-0c2c-4e8e-8652-75f5c40392a7",
   "metadata": {},
   "outputs": [],
   "source": [
    "def generate_binary_strings(bit_count):\n",
    "    binary_strings = []\n",
    "    def genbin(n, bs=''):\n",
    "        if len(bs) == n:\n",
    "            binary_strings.append(bs)\n",
    "        else:\n",
    "            genbin(n, bs + '0')\n",
    "            genbin(n, bs + '1')\n",
    "\n",
    "    genbin(bit_count)\n",
    "    return binary_strings\n",
    "\n",
    "binary_strings = generate_binary_strings(nqubits)"
   ]
  },
  {
   "cell_type": "code",
   "execution_count": 8,
   "id": "3faf2667-680c-4b59-8b32-ca738ca856a3",
   "metadata": {},
   "outputs": [
    {
     "name": "stdout",
     "output_type": "stream",
     "text": [
      "10011\n",
      "11011\n"
     ]
    }
   ],
   "source": [
    "valid_keys = []\n",
    "\n",
    "for key in binary_strings:\n",
    "    if v.is_correct(key) == True:\n",
    "        print(key) \n",
    "        valid_keys.append(key)"
   ]
  },
  {
   "cell_type": "code",
   "execution_count": 9,
   "id": "8cf9bae5-846a-4f1f-b4a1-4c3d28fd81cb",
   "metadata": {},
   "outputs": [],
   "source": [
    "statement = []\n",
    "\n",
    "for line in dimacs_custom.split('\\n'):\n",
    "    line = line.strip(' 0')\n",
    "    clause = []\n",
    "    for literal in line.split(' '):\n",
    "            if literal in ['p', 'c']:\n",
    "            # line is not a clause\n",
    "                break\n",
    "            else:\n",
    "                #print(literal)\n",
    "                clause.append(int(literal))\n",
    "    statement.append(clause)\n",
    "\n",
    "new_stat = [ele for ele in statement if ele != []]"
   ]
  },
  {
   "cell_type": "code",
   "execution_count": 10,
   "id": "8578cbd8-16af-44bc-9c23-5113a582b64a",
   "metadata": {},
   "outputs": [],
   "source": [
    "Z = IndexedBase('Z')\n",
    "i= symbols('i', cls=Idx)"
   ]
  },
  {
   "cell_type": "code",
   "execution_count": 11,
   "id": "1232dcb9-66a6-43f9-9465-be3e6f77a891",
   "metadata": {},
   "outputs": [],
   "source": [
    "all_clauses = []\n",
    "for i in range(len(new_stat)):\n",
    "    clauses_z = []\n",
    "    for literal in new_stat[i]:\n",
    "        #print(literal)\n",
    "        if literal < 0:\n",
    "            literal_exp = 1 - Z[abs(literal)]\n",
    "        else:\n",
    "            literal_exp = 1 + Z[abs(literal)]\n",
    "        clauses_z.append(literal_exp)\n",
    "    all_clauses.append(clauses_z)"
   ]
  },
  {
   "cell_type": "code",
   "execution_count": 12,
   "id": "cb6c2299-53a2-47f0-861c-8ea0998be273",
   "metadata": {},
   "outputs": [
    {
     "name": "stdout",
     "output_type": "stream",
     "text": [
      "-Z[1]*Z[2]*Z[3] + Z[1]*Z[2] + Z[1]*Z[3] - Z[1] + Z[2]*Z[3] - Z[2] - Z[3] + 1\n",
      "-Z[2]*Z[3]*Z[5] - Z[2]*Z[3] - Z[2]*Z[5] - Z[2] + Z[3]*Z[5] + Z[3] + Z[5] + 1\n",
      "-Z[1]*Z[2]*Z[3] - Z[1]*Z[2] - Z[1]*Z[3] - Z[1] + Z[2]*Z[3] + Z[2] + Z[3] + 1\n",
      "Z[1]*Z[2]*Z[3] + Z[1]*Z[2] + Z[1]*Z[3] + Z[1] + Z[2]*Z[3] + Z[2] + Z[3] + 1\n",
      "-Z[2]*Z[3]*Z[4] - Z[2]*Z[3] + Z[2]*Z[4] + Z[2] - Z[3]*Z[4] - Z[3] + Z[4] + 1\n",
      "Z[1]*Z[2]*Z[3] - Z[1]*Z[2] + Z[1]*Z[3] - Z[1] - Z[2]*Z[3] + Z[2] - Z[3] + 1\n",
      "Z[1]*Z[2]*Z[3] - Z[1]*Z[2] - Z[1]*Z[3] + Z[1] + Z[2]*Z[3] - Z[2] - Z[3] + 1\n",
      "-Z[1]*Z[2]*Z[4] - Z[1]*Z[2] + Z[1]*Z[4] + Z[1] - Z[2]*Z[4] - Z[2] + Z[4] + 1\n",
      "-Z[2]*Z[3]*Z[5] - Z[2]*Z[3] + Z[2]*Z[5] + Z[2] - Z[3]*Z[5] - Z[3] + Z[5] + 1\n",
      "Z[1]*Z[3]*Z[5] + Z[1]*Z[3] + Z[1]*Z[5] + Z[1] + Z[3]*Z[5] + Z[3] + Z[5] + 1\n",
      "-Z[2]*Z[4]*Z[5] - Z[2]*Z[4] + Z[2]*Z[5] + Z[2] - Z[4]*Z[5] - Z[4] + Z[5] + 1\n",
      "-Z[1]*Z[4]*Z[5] - Z[1]*Z[4] + Z[1]*Z[5] + Z[1] - Z[4]*Z[5] - Z[4] + Z[5] + 1\n",
      "Z[2]*Z[3]*Z[5] - Z[2]*Z[3] - Z[2]*Z[5] + Z[2] + Z[3]*Z[5] - Z[3] - Z[5] + 1\n",
      "Z[2]*Z[3]*Z[5] + Z[2]*Z[3] - Z[2]*Z[5] - Z[2] - Z[3]*Z[5] - Z[3] + Z[5] + 1\n",
      "Z[1]*Z[4]*Z[5] - Z[1]*Z[4] - Z[1]*Z[5] + Z[1] + Z[4]*Z[5] - Z[4] - Z[5] + 1\n"
     ]
    }
   ],
   "source": [
    "clauses_list = []\n",
    "for clause in all_clauses:\n",
    "    print(expand(np.prod(clause)))\n",
    "    clauses_list.append(expand(np.prod(clause)))"
   ]
  },
  {
   "cell_type": "code",
   "execution_count": 13,
   "id": "55efe354-d51f-4831-9fc1-9655ee29c720",
   "metadata": {},
   "outputs": [],
   "source": [
    "total_clause = np.sum(clauses_list)"
   ]
  },
  {
   "cell_type": "code",
   "execution_count": 14,
   "id": "ab290a1e-196b-4b09-95fd-4db2439ae891",
   "metadata": {},
   "outputs": [],
   "source": [
    "def clause_transformer(clause):\n",
    "\n",
    "    crcs = []\n",
    "\n",
    "    for elem in Add.make_args(clause):\n",
    "        el = str(elem)\n",
    "\n",
    "        if '-' in el and el[1] != 'Z':\n",
    "            #print(el, -int(el[1]), re.findall(r\"\\[(\\d+)\\]\", el))\n",
    "            bit_string = re.findall(r\"\\[(\\d+)\\]\", el)\n",
    "            new_bits = [eval(i) for i in bit_string]\n",
    "            crcs.append((-int(el[1]), [x - 1 for x in new_bits]))\n",
    "            \n",
    "        elif '-' in el and el[1] == 'Z':\n",
    "            #print(el, -1, re.findall(r\"\\[(\\d+)\\]\", el))\n",
    "            bit_string = re.findall(r\"\\[(\\d+)\\]\", el)\n",
    "            new_bits = [eval(i) for i in bit_string]\n",
    "            crcs.append((-1, [x - 1 for x in new_bits]))\n",
    "            \n",
    "        elif 'Z' in el and el[0] != 'Z':\n",
    "            #print(el, int(el[0]), re.findall(r\"\\[(\\d+)\\]\", el))\n",
    "            bit_string = re.findall(r\"\\[(\\d+)\\]\", el)\n",
    "            new_bits = [eval(i) for i in bit_string]\n",
    "            crcs.append((int(el[0]), [x - 1 for x in new_bits]))\n",
    "\n",
    "        elif 'Z' in el:\n",
    "            #print(el, +1, re.findall(r\"\\[(\\d+)\\]\", el))\n",
    "            bit_string = re.findall(r\"\\[(\\d+)\\]\", el)\n",
    "            new_bits = [eval(i) for i in bit_string]\n",
    "            crcs.append((+1, [x - 1 for x in new_bits]))\n",
    "        \n",
    "        else:\n",
    "            crcs.append(int(el))\n",
    "          \n",
    "    return crcs"
   ]
  },
  {
   "cell_type": "code",
   "execution_count": 15,
   "id": "2658074e-9d92-48ab-9388-e0e5ce97adb2",
   "metadata": {},
   "outputs": [
    {
     "data": {
      "text/latex": [
       "$\\displaystyle {Z}_{1} {Z}_{2} {Z}_{3} - {Z}_{1} {Z}_{2} {Z}_{4} - 2 {Z}_{1} {Z}_{2} + {Z}_{1} {Z}_{3} {Z}_{5} + 2 {Z}_{1} {Z}_{3} - {Z}_{1} {Z}_{4} + {Z}_{1} {Z}_{5} + 3 {Z}_{1} - {Z}_{2} {Z}_{3} {Z}_{4} - {Z}_{2} {Z}_{4} {Z}_{5} - {Z}_{2} {Z}_{4} - {Z}_{2} {Z}_{5} + 2 {Z}_{2} - {Z}_{3} {Z}_{4} + {Z}_{3} {Z}_{5} - 3 {Z}_{3} - {Z}_{4} {Z}_{5} - {Z}_{4} + 4 {Z}_{5} + 15$"
      ],
      "text/plain": [
       "Z[1]*Z[2]*Z[3] - Z[1]*Z[2]*Z[4] - 2*Z[1]*Z[2] + Z[1]*Z[3]*Z[5] + 2*Z[1]*Z[3] - Z[1]*Z[4] + Z[1]*Z[5] + 3*Z[1] - Z[2]*Z[3]*Z[4] - Z[2]*Z[4]*Z[5] - Z[2]*Z[4] - Z[2]*Z[5] + 2*Z[2] - Z[3]*Z[4] + Z[3]*Z[5] - 3*Z[3] - Z[4]*Z[5] - Z[4] + 4*Z[5] + 15"
      ]
     },
     "execution_count": 15,
     "metadata": {},
     "output_type": "execute_result"
    }
   ],
   "source": [
    "total_clause"
   ]
  },
  {
   "cell_type": "code",
   "execution_count": 16,
   "id": "d618a841-3e02-49e1-a835-e4a5c65f8463",
   "metadata": {},
   "outputs": [
    {
     "data": {
      "text/plain": [
       "[15,\n",
       " (-1, [3]),\n",
       " (-3, [2]),\n",
       " (2, [1]),\n",
       " (3, [0]),\n",
       " (4, [4]),\n",
       " (1, [0, 4]),\n",
       " (1, [2, 4]),\n",
       " (-1, [0, 3]),\n",
       " (-1, [1, 3]),\n",
       " (-1, [1, 4]),\n",
       " (-1, [2, 3]),\n",
       " (-1, [3, 4]),\n",
       " (-2, [0, 1]),\n",
       " (2, [0, 2]),\n",
       " (1, [0, 1, 2]),\n",
       " (1, [0, 2, 4]),\n",
       " (-1, [0, 1, 3]),\n",
       " (-1, [1, 2, 3]),\n",
       " (-1, [1, 3, 4])]"
      ]
     },
     "execution_count": 16,
     "metadata": {},
     "output_type": "execute_result"
    }
   ],
   "source": [
    "clause_transformer(total_clause)"
   ]
  },
  {
   "cell_type": "code",
   "execution_count": 17,
   "id": "ea3a6b23-9495-4b18-a6b9-89bbab036557",
   "metadata": {},
   "outputs": [
    {
     "data": {
      "text/plain": [
       "-15"
      ]
     },
     "execution_count": 17,
     "metadata": {},
     "output_type": "execute_result"
    }
   ],
   "source": [
    "gs_energy = -clause_transformer(total_clause)[0]\n",
    "gs_energy"
   ]
  },
  {
   "cell_type": "code",
   "execution_count": 18,
   "id": "1de79c14-636f-4c3c-89de-4f2d418c9570",
   "metadata": {},
   "outputs": [],
   "source": [
    "qubits = []\n",
    "\n",
    "for i in range(nqubits):\n",
    "    qubits.append(cirq.GridQubit(0,i))        \n",
    "\n",
    "qubits = list(reversed(qubits))"
   ]
  },
  {
   "cell_type": "code",
   "execution_count": 19,
   "id": "7d341bbf-d663-45ab-9c92-35811841d237",
   "metadata": {},
   "outputs": [],
   "source": [
    "all_qubits = [i for i in range(nqubits)]"
   ]
  },
  {
   "cell_type": "code",
   "execution_count": 20,
   "id": "b0a273ec-bc7d-4bab-aded-1a433f65b480",
   "metadata": {},
   "outputs": [],
   "source": [
    "def z_string_gates(z_inds, par):\n",
    "    z_string = []\n",
    "    cnot_gates = []\n",
    "    #print(z_inds)\n",
    "    pairs = list(zip([z_inds[0] for i in range(len(z_inds))], z_inds[1:]))\n",
    "    #print(pairs)\n",
    "    for pair in pairs:\n",
    "        #print(pair)\n",
    "        cnot_gates.append(cirq.CNOT(qubits[pair[1]], qubits[pair[0]]))\n",
    "    z_string.append(cnot_gates)\n",
    "    z_string.append(cirq.rz(par).on(qubits[pair[0]]))\n",
    "    z_string.append(cnot_gates[len(cnot_gates) - 1::-1])\n",
    "    return z_string"
   ]
  },
  {
   "cell_type": "code",
   "execution_count": 21,
   "id": "308c07d5-9161-435d-8237-110ab941f690",
   "metadata": {},
   "outputs": [],
   "source": [
    "def hamiltonian_circuit(circuit, qubits, par, clause): \n",
    "    for elem in clause_transformer(clause):\n",
    "        res = type(elem) is tuple  \n",
    "        if res == False:\n",
    "            for qubit in qubits:\n",
    "                pass\n",
    "                #circuit.append(cirq.I(qubit))\n",
    "        else:\n",
    "            coef = elem[0]\n",
    "            z_inds = elem[1]\n",
    "            #print(sign)\n",
    "            if len(z_inds) == 1:\n",
    "                #print(sign, z_inds)\n",
    "                circuit.append(cirq.rz(coef*par).on(qubits[z_inds[0]]))\n",
    "            else:\n",
    "                #print(sign, z_inds)\n",
    "                circuit.append(z_string_gates(z_inds,coef*par))\n",
    "    return circuit"
   ]
  },
  {
   "cell_type": "code",
   "execution_count": 22,
   "id": "4ea3dfd2-348d-4fcf-971c-f5f6afd66ae1",
   "metadata": {},
   "outputs": [],
   "source": [
    "def mixing_circuit(circuit, qubits, par):\n",
    "    for i in range(len(qubits)):\n",
    "        circuit.append(cirq.rx(par).on(qubits[i]))\n",
    "    return circuit"
   ]
  },
  {
   "cell_type": "code",
   "execution_count": 23,
   "id": "84ee4c84-aa5a-49a5-a0c3-a50395694690",
   "metadata": {},
   "outputs": [],
   "source": [
    "qaoa_circuit = cirq.Circuit()\n",
    "p = 3\n",
    "\n",
    "num_param = 2 * p \n",
    "parameters = symbols(\"q0:%d\" % num_param)\n",
    "\n",
    "for i in range(p):\n",
    "    qaoa_circuit = hamiltonian_circuit(qaoa_circuit, qubits, parameters[2 * i], total_clause)\n",
    "    qaoa_circuit = mixing_circuit(qaoa_circuit, qubits, parameters[2 * i + 1])"
   ]
  },
  {
   "cell_type": "code",
   "execution_count": 24,
   "id": "3a89da1b-bea8-4711-90fc-b72754e7ab91",
   "metadata": {},
   "outputs": [],
   "source": [
    "#SVGCircuit(qaoa_circuit)"
   ]
  },
  {
   "cell_type": "code",
   "execution_count": 25,
   "id": "84537ac0-fa00-4b2e-ac17-a0790678543d",
   "metadata": {},
   "outputs": [],
   "source": [
    "def cost_hamiltonian(qubits, clause):\n",
    "    h = 0\n",
    "    for elem in clause_transformer(clause):\n",
    "        res = type(elem) is tuple  \n",
    "        if res == False:\n",
    "            for qubit in qubits:\n",
    "                pass\n",
    "                #circuit.append(cirq.I(qubit))\n",
    "        else:\n",
    "            coef = elem[0]\n",
    "            z_inds = elem[1]\n",
    "            h += coef*math.prod([cirq.Z(qubits[i]) for i in z_inds])\n",
    "    return h"
   ]
  },
  {
   "cell_type": "code",
   "execution_count": 26,
   "id": "f32ddee8-7de3-4317-a4dd-47b4ac629e56",
   "metadata": {},
   "outputs": [],
   "source": [
    "cost = cost_hamiltonian(qubits, total_clause)"
   ]
  },
  {
   "cell_type": "code",
   "execution_count": 27,
   "id": "19d5e7f3-80a3-4443-a181-f1d48e8a8dfa",
   "metadata": {},
   "outputs": [],
   "source": [
    "initial = cirq.Circuit()\n",
    "\n",
    "for qubit in qubits:\n",
    "    initial.append(cirq.H(qubit))\n",
    "\n",
    "inputs = tfq.convert_to_tensor([initial])"
   ]
  },
  {
   "cell_type": "code",
   "execution_count": 28,
   "id": "7a513d90-98a3-452a-9210-311b60d74972",
   "metadata": {},
   "outputs": [],
   "source": [
    "ins = tf.keras.layers.Input(shape = (), dtype = tf.dtypes.string)\n",
    "outs = tfq.layers.PQC(qaoa_circuit, cost)(ins)\n",
    "ksat = tf.keras.models.Model(inputs = ins, outputs = outs)\n",
    "opt = tf.keras.optimizers.Adam(learning_rate = 0.01)"
   ]
  },
  {
   "cell_type": "code",
   "execution_count": 29,
   "id": "eaddec34-dd7d-472d-af83-52fe7fe99cf6",
   "metadata": {},
   "outputs": [
    {
     "name": "stdout",
     "output_type": "stream",
     "text": [
      "Loss at epoch 999 is 0.9207296371459961543\r"
     ]
    }
   ],
   "source": [
    "losses = []\n",
    "n_epoch = 1000\n",
    "\n",
    "for epoch in range(n_epoch):\n",
    "    \n",
    "    with tf.GradientTape() as tape:\n",
    "        error = ksat(inputs)\n",
    "    \n",
    "    grads = tape.gradient(error, ksat.trainable_variables)\n",
    "    opt.apply_gradients(zip(grads, ksat.trainable_variables))\n",
    "    error = error.numpy()[0][0]\n",
    "    losses.append(error)\n",
    "    \n",
    "    print('Loss at epoch ' + str(epoch) + ' is ' + str(error/gs_energy), end = '\\r')"
   ]
  },
  {
   "cell_type": "code",
   "execution_count": 30,
   "id": "b3a4f8ab-998b-46a4-a599-c2a3a823af27",
   "metadata": {},
   "outputs": [
    {
     "data": {
      "image/png": "[encoded data removed]",
      "text/plain": [
       "<Figure size 640x480 with 1 Axes>"
      ]
     },
     "metadata": {},
     "output_type": "display_data"
    }
   ],
   "source": [
    "plt.plot(losses)\n",
    "#plt.title(\"QAOA with TFQ\")\n",
    "plt.xlabel(\"Epoch\")\n",
    "plt.ylabel(\"Loss\")\n",
    "plt.show()\n",
    "#plt.savefig(\"TSP_losses\")"
   ]
  },
  {
   "cell_type": "code",
   "execution_count": 31,
   "id": "1955221d-df10-4aa6-92e2-54a1946afa0f",
   "metadata": {},
   "outputs": [],
   "source": [
    "def to_dec(x):\n",
    "    return int(\"\".join(str(i) for i in x), 2) "
   ]
  },
  {
   "cell_type": "code",
   "execution_count": 32,
   "id": "14bc8234-a513-429c-8e2c-87399ae5f25f",
   "metadata": {},
   "outputs": [
    {
     "name": "stdout",
     "output_type": "stream",
     "text": [
      "[<tf.Variable 'parameters:0' shape=(6,) dtype=float32, numpy=\n",
      "array([ 4.863131 ,  2.6755214,  4.605981 ,  2.4032705, -1.2878059,\n",
      "        5.2930236], dtype=float32)>]\n"
     ]
    }
   ],
   "source": [
    "params = ksat.trainable_variables\n",
    "print(params)\n",
    "\n",
    "sample_circuit = tfq.layers.AddCircuit()(inputs, append=qaoa_circuit)\n",
    "output = tfq.layers.Sample()(sample_circuit, symbol_names=parameters, symbol_values=params, repetitions = 250)\n",
    "\n",
    "quantum_preds = []\n",
    "data = []\n",
    "for bits in output.values:\n",
    "    temp = []\n",
    "    data.append(to_dec(bits.numpy()))\n",
    "    for pos, bit in enumerate(bits):\n",
    "        if bit == 1:\n",
    "            temp.append(pos)\n",
    "    quantum_preds.append(temp)"
   ]
  },
  {
   "cell_type": "code",
   "execution_count": 33,
   "id": "553ad4da-12dd-42b0-a9ab-74db6b1ce65c",
   "metadata": {},
   "outputs": [
    {
     "data": {
      "text/plain": [
       "['10011', '11011']"
      ]
     },
     "execution_count": 33,
     "metadata": {},
     "output_type": "execute_result"
    }
   ],
   "source": [
    "valid_keys"
   ]
  },
  {
   "cell_type": "code",
   "execution_count": 34,
   "id": "efdb3c78-2823-4342-a016-f97c818a2b49",
   "metadata": {},
   "outputs": [
    {
     "data": {
      "image/png": "[encoded data removed]",
      "text/plain": [
       "<Figure size 640x480 with 1 Axes>"
      ]
     },
     "metadata": {},
     "output_type": "display_data"
    }
   ],
   "source": [
    "xticks = range(0, 2**nqubits)\n",
    "xtick_labels = list(map(lambda x: format(x, \"0\"+str(nqubits)+\"b\"), xticks))\n",
    "bins = np.arange(0, 2**nqubits + 1) - 0.5\n",
    "plt.xticks(xticks, xtick_labels, rotation=\"vertical\")\n",
    "plt.hist(data, bins=bins, color = \"chartreuse\", lw=0)\n",
    "plt.savefig('hist_custom_sat.pdf')\n",
    "plt.show()"
   ]
  },
  {
   "cell_type": "code",
   "execution_count": null,
   "id": "d61fcbb1-902f-44bc-bd97-a77a5442e814",
   "metadata": {},
   "outputs": [],
   "source": []
  }
 ],
 "metadata": {
  "kernelspec": {
   "display_name": "Python 3 (ipykernel)",
   "language": "python",
   "name": "python3"
  },
  "language_info": {
   "codemirror_mode": {
    "name": "ipython",
    "version": 3
   },
   "file_extension": ".py",
   "mimetype": "text/x-python",
   "name": "python",
   "nbconvert_exporter": "python",
   "pygments_lexer": "ipython3",
   "version": "3.9.13"
  }
 },
 "nbformat": 4,
 "nbformat_minor": 5
}
