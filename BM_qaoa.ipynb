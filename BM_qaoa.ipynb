{
 "cells": [
  {
   "cell_type": "code",
   "execution_count": 1,
   "id": "2a9a8d24-463b-4db6-b4b5-ff647465bf88",
   "metadata": {
    "tags": []
   },
   "outputs": [
    {
     "name": "stderr",
     "output_type": "stream",
     "text": [
      "2023-03-21 09:59:33.816471: W tensorflow/stream_executor/platform/default/dso_loader.cc:64] Could not load dynamic library 'libcudart.so.11.0'; dlerror: libcudart.so.11.0: cannot open shared object file: No such file or directory\n",
      "2023-03-21 09:59:33.816514: I tensorflow/stream_executor/cuda/cudart_stub.cc:29] Ignore above cudart dlerror if you do not have a GPU set up on your machine.\n",
      "2023-03-21 09:59:34.418517: W tensorflow/stream_executor/platform/default/dso_loader.cc:64] Could not load dynamic library 'libcuda.so.1'; dlerror: libcuda.so.1: cannot open shared object file: No such file or directory\n",
      "2023-03-21 09:59:34.418532: W tensorflow/stream_executor/cuda/cuda_driver.cc:269] failed call to cuInit: UNKNOWN ERROR (303)\n",
      "2023-03-21 09:59:34.418541: I tensorflow/stream_executor/cuda/cuda_diagnostics.cc:156] kernel driver does not appear to be running on this host (rafael-ThinkPad): /proc/driver/nvidia/version does not exist\n",
      "2023-03-21 09:59:34.418675: I tensorflow/core/platform/cpu_feature_guard.cc:151] This TensorFlow binary is optimized with oneAPI Deep Neural Network Library (oneDNN) to use the following CPU instructions in performance-critical operations:  AVX2 FMA\n",
      "To enable them in other operations, rebuild TensorFlow with the appropriate compiler flags.\n"
     ]
    }
   ],
   "source": [
    "import matplotlib.pyplot as plt\n",
    "import numpy as np\n",
    "import cirq\n",
    "from cirq.contrib.svg import SVGCircuit\n",
    "import random as rd\n",
    "from sympy import *\n",
    "import tensorflow as tf\n",
    "import tensorflow_quantum as tfq\n",
    "import math\n",
    "import re\n",
    "import itertools\n",
    "from numpy import linalg as LA\n",
    "from scipy.stats import poisson\n",
    "import time\n",
    "from random import choices"
   ]
  },
  {
   "cell_type": "code",
   "execution_count": 2,
   "id": "1663f844-4367-424c-8010-2f80de323470",
   "metadata": {},
   "outputs": [],
   "source": [
    "k = 4 #length of clauses\n",
    "n_var = 6 #number of variables\n",
    "nqubits = n_var #number of qubits in the circuit\n",
    "all_vars = [i for i in range(-n_var,n_var+1)]\n",
    "all_vars = [i for i in all_vars if i != 0]"
   ]
  },
  {
   "cell_type": "code",
   "execution_count": 3,
   "id": "6494b8b5-847b-4573-9232-ef1af5704fce",
   "metadata": {},
   "outputs": [],
   "source": [
    "r_by_k = {2 : 1, 3: 6.43, 4: 20.43, 5 : 45.7, 6: 70.21, 8: 176.54, 10: 708.92, 16: 45425.2}\n",
    "\n",
    "def generate_instance(k: int, n: int) -> np.ndarray:\n",
    "    #generate an instance of random k-SAT with n variables in the satisfiability threshold\n",
    "    if not (r := r_by_k.get(k)):\n",
    "        raise ValueError(f\"k must be in {list(r_by_k)} (got {k})\")\n",
    "    m = poisson(r*n).rvs()\n",
    "    #return np.random.choice(all_vars, size=(m, k))\n",
    "    all_variables = []\n",
    "    all_signs = []\n",
    "    for i in range(m):\n",
    "        #all_signs.append([rd.choice(l) for i in range(k)])\n",
    "        all_variables.append(choices(all_vars, k = k))\n",
    "\n",
    "    all_variables = np.array(all_variables)\n",
    "    #all_signs = np.array(all_signs)\n",
    "    return all_variables"
   ]
  },
  {
   "cell_type": "code",
   "execution_count": 4,
   "id": "14037925-4136-47cd-801e-3fbe905773e8",
   "metadata": {
    "tags": []
   },
   "outputs": [],
   "source": [
    "def generate_binary_strings(bit_count):\n",
    "    binary_strings = []\n",
    "    def genbin(n, bs=''):\n",
    "        if len(bs) == n:\n",
    "            binary_strings.append(bs)\n",
    "        else:\n",
    "            genbin(n, bs + '0')\n",
    "            genbin(n, bs + '1')\n",
    "\n",
    "    genbin(bit_count)\n",
    "    return binary_strings\n",
    "\n",
    "binary_strings = generate_binary_strings(nqubits)"
   ]
  },
  {
   "cell_type": "code",
   "execution_count": 5,
   "id": "4ad0c5da-955a-4a57-b06a-fd9b480cc2b6",
   "metadata": {
    "tags": []
   },
   "outputs": [],
   "source": [
    "def dimacs_writer(dimacs_filename, cnf_array):\n",
    "    #writes the dimacs file with the CNF\n",
    "    cnf = cnf_array\n",
    "    cnf_length = len(cnf)\n",
    "    n_sat = len(cnf[0])\n",
    "    var_num = np.max(cnf) \n",
    "    with open(dimacs_filename, \"w\") as f:\n",
    "\n",
    "        f.write('c DIMACS file CNF '+str(n_sat)+'-SAT \\n')\n",
    "        f.write(\"p cnf {} {}\\n\".format(var_num, cnf_length))\n",
    "        \n",
    "        for i, clause in enumerate(cnf):\n",
    "            line = clause.tolist()\n",
    "            if i == cnf_length - 1:\n",
    "                s = ' '.join(str(x) for x in line)+' 0'\n",
    "                f.write(s)\n",
    "            else: \n",
    "                s = ' '.join(str(x) for x in line)+' 0 \\n'\n",
    "                f.write(s)"
   ]
  },
  {
   "cell_type": "code",
   "execution_count": 6,
   "id": "767cb472-cc55-4238-a1f7-0ec21a4298a6",
   "metadata": {
    "tags": []
   },
   "outputs": [],
   "source": [
    "class Verifier():\n",
    "    #verifier from Qiskit page, takes a bit string and checks if cnf is satisfied\n",
    "    def __init__(self, dimacs_file):\n",
    "        with open(dimacs_file, 'r') as f:\n",
    "            self.dimacs = f.read()\n",
    "\n",
    "    def is_correct(self, guess):\n",
    "        # Convert characters to bools & reverse\n",
    "        guess = [bool(int(x)) for x in guess][::-1]\n",
    "        for line in self.dimacs.split('\\n'):\n",
    "            line = line.strip(' 0')\n",
    "            clause_eval = False\n",
    "            for literal in line.split(' '):\n",
    "                if literal in ['p', 'c']:\n",
    "                    # line is not a clause\n",
    "                    clause_eval = True\n",
    "                    break\n",
    "                if '-' in literal:\n",
    "                    literal = literal.strip('-')\n",
    "                    lit_eval = not guess[int(literal)-1]\n",
    "                else:\n",
    "                    lit_eval = guess[int(literal)-1]\n",
    "                clause_eval |= lit_eval\n",
    "            if clause_eval is False:\n",
    "                return False\n",
    "        return True"
   ]
  },
  {
   "cell_type": "code",
   "execution_count": 7,
   "id": "4a52cc78-ba40-4b68-bd3d-0508243ae652",
   "metadata": {
    "tags": []
   },
   "outputs": [
    {
     "name": "stdout",
     "output_type": "stream",
     "text": [
      "101101\n"
     ]
    }
   ],
   "source": [
    "valid_keys = []\n",
    "dimacs_filename = \"random_cnf_BM.dimacs\" \n",
    "\n",
    "while not valid_keys:\n",
    "    #only accepts satisfiable CNFs\n",
    "    inst = generate_instance(k, n_var)\n",
    "    dimacs_writer(dimacs_filename, inst)\n",
    "    v = Verifier('random_cnf_BM.dimacs')\n",
    "    \n",
    "    for key in binary_strings:\n",
    "        if v.is_correct(key) == True:\n",
    "            print(key) \n",
    "            valid_keys.append(key)"
   ]
  },
  {
   "cell_type": "code",
   "execution_count": 8,
   "id": "b7776321-d2b1-4876-a0c5-b28a3cd7a896",
   "metadata": {
    "tags": []
   },
   "outputs": [],
   "source": [
    "with open('random_cnf_BM.dimacs', 'r') as f:\n",
    "    dimacs = f.read()\n",
    "#print(dimacs)\n",
    "unsat_list = []\n",
    "\n",
    "for key in binary_strings:\n",
    "    guess = [bool(int(x)) for x in key][::-1]\n",
    "\n",
    "    clause_eval_list = []\n",
    "    counter = 0\n",
    "    for j, line in enumerate(dimacs.split('\\n')):\n",
    "\n",
    "        line = line.strip(' 0')\n",
    "        clause_eval = False\n",
    "\n",
    "        for literal in line.split(' '):\n",
    "            if literal in ['p', 'c']:\n",
    "                #line is not a clause\n",
    "                clause_eval = True\n",
    "                break\n",
    "            if '-' in literal:\n",
    "                literal = literal.strip('-')\n",
    "                lit_eval = not guess[int(literal)-1]\n",
    "            else:\n",
    "                lit_eval = guess[int(literal)-1]\n",
    "            clause_eval |= lit_eval\n",
    "        #print(clause_eval)\n",
    "        if j > 1:\n",
    "            counter += 1\n",
    "            clause_eval_list.append(clause_eval)\n",
    "    unsat_clauses = counter - sum(clause_eval_list)\n",
    "    unsat_list.append(unsat_clauses)"
   ]
  },
  {
   "cell_type": "code",
   "execution_count": 9,
   "id": "ac8dc6da-3a59-429c-913c-3f5f659baef3",
   "metadata": {
    "tags": []
   },
   "outputs": [],
   "source": [
    "diagonal = unsat_list"
   ]
  },
  {
   "cell_type": "code",
   "execution_count": 10,
   "id": "272b0100-9f5d-4140-a6e9-253084e1268d",
   "metadata": {
    "tags": []
   },
   "outputs": [],
   "source": [
    "qubits = []\n",
    "\n",
    "for i in range(nqubits):\n",
    "    qubits.append(cirq.GridQubit(0,i))        \n",
    "    \n",
    "qubits = list(qubits) #don't know why\n",
    "all_qubits = [i for i in range(nqubits)]"
   ]
  },
  {
   "cell_type": "code",
   "execution_count": 11,
   "id": "8aa3f879-ddc9-404e-8b69-0461f9e5acb1",
   "metadata": {
    "tags": []
   },
   "outputs": [],
   "source": [
    "def my_gate(c, index):\n",
    "    g = c * cirq.Z.on(qubits[index]) + cirq.I.on(qubits[index])\n",
    "    return g"
   ]
  },
  {
   "cell_type": "code",
   "execution_count": 12,
   "id": "96c002cd-5b7f-4c81-881e-1b6e80e77fcb",
   "metadata": {
    "tags": []
   },
   "outputs": [],
   "source": [
    "x = [1, -1]\n",
    "combinations = [p for p in itertools.product(x, repeat=nqubits)]"
   ]
  },
  {
   "cell_type": "code",
   "execution_count": 13,
   "id": "5584b6b9-e788-4794-9861-ec8585508ec1",
   "metadata": {
    "tags": []
   },
   "outputs": [],
   "source": [
    "ops_list = []\n",
    "for j, combination in enumerate(combinations):\n",
    "    #print(diagonal[k])\n",
    "    ops_list.append((diagonal[j]/2**nqubits)*math.prod([my_gate(combination[i], i) for i in range(nqubits)]))\n",
    "    #print(combination)"
   ]
  },
  {
   "cell_type": "code",
   "execution_count": 14,
   "id": "ecd9de6f-06f7-41a4-9a34-b29d5816f777",
   "metadata": {
    "tags": []
   },
   "outputs": [
    {
     "data": {
      "text/plain": [
       "array([[5.+0.j, 0.+0.j, 0.+0.j, ..., 0.+0.j, 0.+0.j, 0.+0.j],\n",
       "       [0.+0.j, 6.+0.j, 0.+0.j, ..., 0.+0.j, 0.+0.j, 0.+0.j],\n",
       "       [0.+0.j, 0.+0.j, 3.+0.j, ..., 0.+0.j, 0.+0.j, 0.+0.j],\n",
       "       ...,\n",
       "       [0.+0.j, 0.+0.j, 0.+0.j, ..., 2.+0.j, 0.+0.j, 0.+0.j],\n",
       "       [0.+0.j, 0.+0.j, 0.+0.j, ..., 0.+0.j, 2.+0.j, 0.+0.j],\n",
       "       [0.+0.j, 0.+0.j, 0.+0.j, ..., 0.+0.j, 0.+0.j, 5.+0.j]])"
      ]
     },
     "execution_count": 14,
     "metadata": {},
     "output_type": "execute_result"
    }
   ],
   "source": [
    "cost = np.sum(ops_list)\n",
    "cost.matrix()"
   ]
  },
  {
   "cell_type": "code",
   "execution_count": 15,
   "id": "36af8293-9c16-4fb9-ad51-58430d0e97a6",
   "metadata": {
    "tags": []
   },
   "outputs": [],
   "source": [
    "def mixing_circuit(circuit, qubits, par):\n",
    "    for i in range(len(qubits)):\n",
    "        circuit.append(cirq.rx(par).on(qubits[i]))\n",
    "    return circuit"
   ]
  },
  {
   "cell_type": "code",
   "execution_count": 16,
   "id": "861d4cd5-d03c-4ecc-9adf-55f8c7c13083",
   "metadata": {
    "tags": []
   },
   "outputs": [],
   "source": [
    "def ham_layer(diagonal, circuit, qubits, par):\n",
    "    \n",
    "    l = cirq.DiagonalGate(diagonal)._decompose_(qubits)\n",
    "    l.pop(0)\n",
    "    for j, gate in enumerate(l):\n",
    "        #print(gate)\n",
    "        if j % 2 == 0:\n",
    "            dictn = gate._json_dict_()\n",
    "            my_string = str(dictn['gate'])\n",
    "            my_other_string = str(dictn['qubits'])\n",
    "            number_p = re.findall(\"\\d+\\.\\d+\", my_string)\n",
    "            res_p = [eval(i) for i in number_p]\n",
    "            \n",
    "            if '-' in my_string:\n",
    "                sign = -1\n",
    "            else:\n",
    "                sign = 1\n",
    "            \n",
    "            number_q = re.findall(r'\\d+', my_other_string)\n",
    "            res_q = [eval(i) for i in number_q]\n",
    "            rzgate = cirq.rz(sign*par*res_p[0]*np.pi).on(qubits[res_q[1]])\n",
    "            #rzgate = cirq.rz(par*res_p[0]).on(qubits[res_q[1]])\n",
    "            #print(par*res_p[0]*np.pi)\n",
    "            circuit.append(rzgate)\n",
    "            #print(my_string, sign*res_p[0])\n",
    "        else:\n",
    "            circuit.append(gate)"
   ]
  },
  {
   "cell_type": "code",
   "execution_count": 17,
   "id": "2e749fd7-cefc-4028-99b5-52ffcdfc2671",
   "metadata": {
    "tags": []
   },
   "outputs": [],
   "source": [
    "qaoa_circuit = cirq.Circuit()\n",
    "\n",
    "p = 2 #number of layers. When in doubt, stay on the lower side\n",
    "\n",
    "num_param = 2 * p \n",
    "parameters = symbols(\"q0:%d\" % num_param)\n",
    "\n",
    "#setting up the layers\n",
    "for i in range(p):\n",
    "    ham_layer(diagonal, qaoa_circuit, qubits, parameters[2 * i])\n",
    "    mixing_circuit(qaoa_circuit, qubits, parameters[2 * i + 1])"
   ]
  },
  {
   "cell_type": "code",
   "execution_count": 18,
   "id": "c6f691bc-1a91-42fc-b7c4-a32f6bfd65a1",
   "metadata": {
    "tags": []
   },
   "outputs": [
    {
     "data": {
      "text/plain": [
       "251"
      ]
     },
     "execution_count": 18,
     "metadata": {},
     "output_type": "execute_result"
    }
   ],
   "source": [
    "len(qaoa_circuit)"
   ]
  },
  {
   "cell_type": "code",
   "execution_count": 19,
   "id": "bcf1daa7-7583-452c-a90f-7ab68e3a89e5",
   "metadata": {
    "tags": []
   },
   "outputs": [],
   "source": [
    "#SVGCircuit(qaoa_circuit)"
   ]
  },
  {
   "cell_type": "code",
   "execution_count": 20,
   "id": "570a21fd-391c-47d2-ac96-438515fabe6c",
   "metadata": {
    "tags": []
   },
   "outputs": [],
   "source": [
    "class MyLRSchedule(tf.keras.optimizers.schedules.LearningRateSchedule):\n",
    "\n",
    "    def __init__(self, initial_learning_rate):\n",
    "        self.initial_learning_rate = initial_learning_rate\n",
    "\n",
    "    def __call__(self, step):\n",
    "        return self.initial_learning_rate / (step+1)"
   ]
  },
  {
   "cell_type": "code",
   "execution_count": 21,
   "id": "6d395962-bfd7-4fe6-a658-de91e6e669a8",
   "metadata": {
    "tags": []
   },
   "outputs": [
    {
     "data": {
      "text/plain": [
       "<tf.Variable 'UnreadVariable' shape=(4,) dtype=float32, numpy=array([0., 0., 0., 0.], dtype=float32)>"
      ]
     },
     "execution_count": 21,
     "metadata": {},
     "output_type": "execute_result"
    }
   ],
   "source": [
    "initial = cirq.Circuit()\n",
    "\n",
    "for qubit in qubits:\n",
    "    initial.append(cirq.H(qubit)) #applying Hadamard to all qubits before running circuit\n",
    "\n",
    "#setting up the model\n",
    "lr = 1e-1\n",
    "\n",
    "inputs = tfq.convert_to_tensor([initial])\n",
    "ins = tf.keras.layers.Input(shape = (), dtype = tf.dtypes.string)\n",
    "outs = tfq.layers.PQC(qaoa_circuit, cost)(ins)\n",
    "ksat = tf.keras.models.Model(inputs = ins, outputs = outs)\n",
    "opt = tf.keras.optimizers.Adam(learning_rate=MyLRSchedule(lr))\n",
    "ksat.trainable_variables[0].assign([0. for i in range(2*p)]) #initializing angles with some small noise"
   ]
  },
  {
   "cell_type": "code",
   "execution_count": 22,
   "id": "5536fce3-cc18-4d72-9a37-a8281dc4a432",
   "metadata": {
    "tags": []
   },
   "outputs": [
    {
     "data": {
      "text/plain": [
       "0.0"
      ]
     },
     "execution_count": 22,
     "metadata": {},
     "output_type": "execute_result"
    }
   ],
   "source": [
    "cost_m = cost.matrix()\n",
    "gs_energy = np.real(min(LA.eig(cost_m)[0]))\n",
    "gs_energy"
   ]
  },
  {
   "cell_type": "code",
   "execution_count": null,
   "id": "cfee6d16-e81a-4976-86e5-aff6575745db",
   "metadata": {
    "tags": []
   },
   "outputs": [
    {
     "name": "stdout",
     "output_type": "stream",
     "text": [
      "absolute value of (ground state energy - error) is 2.0913200378417975\r"
     ]
    }
   ],
   "source": [
    "losses = []\n",
    "error = 1e2*rd.random()\n",
    "tol = 1e-1\n",
    "\n",
    "start = time.time()\n",
    "\n",
    "while _ < 1e6:\n",
    "    previous_error = error   \n",
    "    with tf.GradientTape() as tape:\n",
    "        error = ksat(inputs)\n",
    "    \n",
    "    grads = tape.gradient(error, ksat.trainable_variables)\n",
    "    opt.apply_gradients(zip(grads, ksat.trainable_variables))\n",
    "    error = error.numpy()[0,0]\n",
    "    losses.append(error)\n",
    "\n",
    "    print('absolute value of (ground state energy - error) is ' + str(abs(gs_energy - error)), end = '\\r')\n",
    "   \n",
    "    #if abs(error - previous_error) < 1e-6:\n",
    "    #    print('\\n got stuck!')\n",
    "    #    break\n",
    "        \n",
    "end = time.time()"
   ]
  },
  {
   "cell_type": "code",
   "execution_count": null,
   "id": "2d5cc6a9-ebaf-43d5-840d-24f64c3be209",
   "metadata": {
    "tags": []
   },
   "outputs": [],
   "source": [
    "print(\"Time consumed in working: \",end - start)"
   ]
  },
  {
   "cell_type": "code",
   "execution_count": null,
   "id": "6998b510-a08c-4777-b6e3-fa1866fb97a8",
   "metadata": {
    "tags": []
   },
   "outputs": [],
   "source": [
    "plt.figure(figsize=(6,2))\n",
    "plt.plot(losses, color = \"green\")\n",
    "plt.axhline(y = 0, color = 'black', linestyle = 'dashed')\n",
    "plt.xscale('log')\n",
    "plt.xlabel(\"Epoch\")\n",
    "plt.ylabel(\"Loss\")\n",
    "plt.show()\n",
    "#plt.savefig(\"TSP_losses\")"
   ]
  },
  {
   "cell_type": "code",
   "execution_count": null,
   "id": "b02737ed-899c-474a-b1a8-c3601291c0a7",
   "metadata": {},
   "outputs": [],
   "source": [
    "def to_dec(x):\n",
    "    return int(\"\".join(str(i) for i in x), 2) "
   ]
  },
  {
   "cell_type": "code",
   "execution_count": null,
   "id": "4c67b906-e466-4ccf-b9de-52492c265b20",
   "metadata": {},
   "outputs": [],
   "source": [
    "params = ksat.trainable_variables\n",
    "\n",
    "start = time.time()\n",
    "\n",
    "sample_circuit = tfq.layers.AddCircuit()(inputs, append=qaoa_circuit)\n",
    "output = tfq.layers.Sample()(sample_circuit, symbol_names=parameters, symbol_values=params, repetitions = 2048)\n",
    "\n",
    "end = time.time()\n",
    "\n",
    "print(\"Time consumed in working: \",end - start)\n",
    "\n",
    "quantum_preds = []\n",
    "data = []\n",
    "for bits in output.values:\n",
    "    temp = []\n",
    "    data.append(to_dec(bits.numpy()))\n",
    "    for pos, bit in enumerate(bits):\n",
    "        if bit == 1:\n",
    "            temp.append(pos)\n",
    "    quantum_preds.append(temp)"
   ]
  },
  {
   "cell_type": "code",
   "execution_count": null,
   "id": "5f54e06d-bcf7-425c-a417-95b64bd2e92e",
   "metadata": {
    "tags": []
   },
   "outputs": [],
   "source": [
    "valid_keys"
   ]
  },
  {
   "cell_type": "code",
   "execution_count": null,
   "id": "7d7ce48a-44ab-4a56-80e1-99feb479a19f",
   "metadata": {
    "lines_to_next_cell": 0
   },
   "outputs": [],
   "source": [
    "xticks = range(0, 2**nqubits)\n",
    "xtick_labels = list(map(lambda x: format(x, \"0\"+str(nqubits)+\"b\"), xticks))\n",
    "bins = np.arange(0, 2**nqubits + 1) - 0.5\n",
    "\n",
    "plt.figure(figsize=(15,2))\n",
    "plt.xticks(xticks, xtick_labels, rotation=\"vertical\")\n",
    "plt.hist(data, bins=bins, color = \"darkorange\", lw=0)\n",
    "#plt.savefig('hist_custom_sat.pdf')\n",
    "plt.show()"
   ]
  },
  {
   "cell_type": "code",
   "execution_count": null,
   "id": "b8f6771b-057a-4179-bb64-b69115648964",
   "metadata": {},
   "outputs": [],
   "source": []
  }
 ],
 "metadata": {
  "kernelspec": {
   "display_name": "Python 3 (ipykernel)",
   "language": "python",
   "name": "python3"
  },
  "language_info": {
   "codemirror_mode": {
    "name": "ipython",
    "version": 3
   },
   "file_extension": ".py",
   "mimetype": "text/x-python",
   "name": "python",
   "nbconvert_exporter": "python",
   "pygments_lexer": "ipython3",
   "version": "3.9.0"
  }
 },
 "nbformat": 4,
 "nbformat_minor": 5
}
