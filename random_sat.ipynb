{
 "cells": [
  {
   "cell_type": "code",
   "execution_count": 78,
   "id": "87ce0eda-7328-4fa8-b0c4-1170611f5b07",
   "metadata": {
    "tags": []
   },
   "outputs": [],
   "source": [
    "import numpy as np\n",
    "import math\n",
    "import random as rd\n",
    "from sympy.parsing.sympy_parser import parse_expr\n",
    "from sympy import Symbol, IndexedBase\n",
    "from sympy import *\n",
    "import re\n",
    "from scipy.stats import poisson\n",
    "from typing import Sequence, Tuple\n",
    "import matplotlib.pyplot as plt\n",
    "import tensorflow as tf\n",
    "import tensorflow_quantum as tfq\n",
    "import cirq\n",
    "from cirq.contrib.svg import SVGCircuit\n",
    "from tensorflow.keras import initializers\n",
    "from numpy import linalg as LA\n",
    "from numpy.random import random\n",
    "from random import choices"
   ]
  },
  {
   "cell_type": "markdown",
   "id": "ace61fd0-9b36-4a3b-868d-5ff4d674cea2",
   "metadata": {},
   "source": [
    "## k-SAT QAOA"
   ]
  },
  {
   "cell_type": "code",
   "execution_count": 79,
   "id": "1f571f77-42b4-4b75-b37e-9b103b84570c",
   "metadata": {},
   "outputs": [],
   "source": [
    "k = 3 #length of clauses\n",
    "n_var = 6 #number of variables\n",
    "nqubits = n_var #number of qubits in the circuit\n",
    "all_vars = [i for i in range(-n_var,n_var+1)]\n",
    "all_vars = [i for i in all_vars if i != 0]"
   ]
  },
  {
   "cell_type": "code",
   "execution_count": 80,
   "id": "6609ccf2-4bba-45de-a6e6-de48dffa9151",
   "metadata": {},
   "outputs": [],
   "source": [
    "r_by_k = {2 : 1, 3: 6.43, 4: 20.43, 5 : 45.7, 6: 70.21, 8: 176.54, 10: 708.92, 16: 45425.2}\n",
    "\n",
    "def generate_instance(k: int, n: int) -> np.ndarray:\n",
    "    #generate an instance of random k-SAT with n variables in the satisfiability threshold\n",
    "    if not (r := r_by_k.get(k)):\n",
    "        raise ValueError(f\"k must be in {list(r_by_k)} (got {k})\")\n",
    "    m = poisson(r*n).rvs()\n",
    "    #return np.random.choice(all_vars, size=(m, k))\n",
    "    all_variables = []\n",
    "    all_signs = []\n",
    "    for i in range(m):\n",
    "        #all_signs.append([rd.choice(l) for i in range(k)])\n",
    "        all_variables.append(choices(all_vars, k = k))\n",
    "\n",
    "    all_variables = np.array(all_variables)\n",
    "    #all_signs = np.array(all_signs)\n",
    "    return all_variables"
   ]
  },
  {
   "cell_type": "code",
   "execution_count": 81,
   "id": "f54762f0-52f8-4c35-908b-64180b8a55c7",
   "metadata": {},
   "outputs": [],
   "source": [
    "def dimacs_writer(dimacs_filename, cnf_array):\n",
    "    #writes the dimacs file with the CNF\n",
    "    cnf = cnf_array\n",
    "    cnf_length = len(cnf)\n",
    "    n_sat = len(cnf[0])\n",
    "    var_num = np.max(cnf) \n",
    "    with open(dimacs_filename, \"w\") as f:\n",
    "\n",
    "        f.write('c DIMACS file CNF '+str(n_sat)+'-SAT \\n')\n",
    "        f.write(\"p cnf {} {}\\n\".format(var_num, cnf_length))\n",
    "        \n",
    "        for i, clause in enumerate(cnf):\n",
    "            line = clause.tolist()\n",
    "            if i == cnf_length - 1:\n",
    "                s = ' '.join(str(x) for x in line)+' 0'\n",
    "                f.write(s)\n",
    "            else: \n",
    "                s = ' '.join(str(x) for x in line)+' 0 \\n'\n",
    "                f.write(s)\n",
    "\n",
    "class Verifier():\n",
    "    #verifier from Qiskit page, takes a bit string and checks if cnf is satisfied\n",
    "    def __init__(self, dimacs_file):\n",
    "        with open(dimacs_file, 'r') as f:\n",
    "            self.dimacs = f.read()\n",
    "\n",
    "    def is_correct(self, guess):\n",
    "        # Convert characters to bools & reverse\n",
    "        guess = [bool(int(x)) for x in guess][::-1]\n",
    "        for line in self.dimacs.split('\\n'):\n",
    "            line = line.strip(' 0')\n",
    "            clause_eval = False\n",
    "            for literal in line.split(' '):\n",
    "                if literal in ['p', 'c']:\n",
    "                    # line is not a clause\n",
    "                    clause_eval = True\n",
    "                    break\n",
    "                if '-' in literal:\n",
    "                    literal = literal.strip('-')\n",
    "                    lit_eval = not guess[int(literal)-1]\n",
    "                else:\n",
    "                    lit_eval = guess[int(literal)-1]\n",
    "                clause_eval |= lit_eval\n",
    "            if clause_eval is False:\n",
    "                return False\n",
    "        return True\n",
    "\n",
    "def generate_binary_strings(bit_count):\n",
    "    binary_strings = []\n",
    "    def genbin(n, bs=''):\n",
    "        if len(bs) == n:\n",
    "            binary_strings.append(bs)\n",
    "        else:\n",
    "            genbin(n, bs + '0')\n",
    "            genbin(n, bs + '1')\n",
    "\n",
    "    genbin(bit_count)\n",
    "    return binary_strings\n",
    "\n",
    "binary_strings = generate_binary_strings(nqubits)"
   ]
  },
  {
   "cell_type": "code",
   "execution_count": 84,
   "id": "cebf7ab8-d29a-4787-982e-082dc2bb7583",
   "metadata": {
    "tags": []
   },
   "outputs": [
    {
     "name": "stdout",
     "output_type": "stream",
     "text": [
      "001011\n",
      "011000\n",
      "011010\n"
     ]
    }
   ],
   "source": [
    "valid_keys = []\n",
    "dimacs_filename = \"random_cnf.dimacs\" \n",
    "\n",
    "while not valid_keys:\n",
    "    #only accepts satisfiable CNFs\n",
    "    inst = generate_instance(k, n_var)\n",
    "    dimacs_writer(dimacs_filename, inst)\n",
    "    v = Verifier('random_cnf.dimacs')\n",
    "    \n",
    "    for key in binary_strings:\n",
    "        if v.is_correct(key) == True:\n",
    "            print(key) \n",
    "            valid_keys.append(key)"
   ]
  },
  {
   "cell_type": "code",
   "execution_count": 85,
   "id": "aa14ba80-7d2f-48d8-afbc-1383108ca502",
   "metadata": {},
   "outputs": [],
   "source": [
    "with open('random_cnf.dimacs', 'r') as f:\n",
    "    dimacs_file = f.read()\n",
    "\n",
    "statement = []\n",
    "\n",
    "for line in dimacs_file.split('\\n'):\n",
    "    #make lists for each clause in the cnf file\n",
    "    \n",
    "    line = line.strip(' 0')\n",
    "    clause = []\n",
    "    for literal in line.split(' '):\n",
    "            if literal in ['p', 'c']:\n",
    "            # line is not a clause\n",
    "                break\n",
    "            else:\n",
    "                #print(literal)\n",
    "                clause.append(int(literal))\n",
    "    statement.append(clause)\n",
    "\n",
    "new_stat = [ele for ele in statement if ele != []]"
   ]
  },
  {
   "cell_type": "code",
   "execution_count": 86,
   "id": "419832bc-6b65-4d5e-8e0b-047af00dcf59",
   "metadata": {},
   "outputs": [],
   "source": [
    "#write all clauses symbollically, proceed with product and sum of Z terms\n",
    "\n",
    "Z = IndexedBase('Z')\n",
    "i= symbols('i', cls=Idx)\n",
    "\n",
    "all_clauses = []\n",
    "for i in range(len(new_stat)):\n",
    "    clauses_z = []\n",
    "    for literal in new_stat[i]:\n",
    "        #print(literal)\n",
    "        if literal < 0:\n",
    "            literal_exp = 1 - Z[abs(literal)]\n",
    "        else:\n",
    "            literal_exp = 1 + Z[abs(literal)]\n",
    "        clauses_z.append(literal_exp)\n",
    "    all_clauses.append(clauses_z)\n",
    "    \n",
    "clauses_list = []\n",
    "for clause in all_clauses:\n",
    "    clauses_list.append(expand(np.prod(clause)))\n",
    "    \n",
    "total_clause = np.sum(clauses_list)"
   ]
  },
  {
   "cell_type": "code",
   "execution_count": 87,
   "id": "b74bb04b-3331-449e-8d0b-bc7d90d0077a",
   "metadata": {},
   "outputs": [],
   "source": [
    "#an awkward way to get rid of powers of Z\n",
    "\n",
    "power_dict = {Z[1]**2 : 1, Z[2]**2 : 1, Z[3]**2 : 1, Z[4]**2 : 1, \n",
    "              Z[5]**2 : 1, Z[6]**2 : 1, Z[7]**2 : 1, Z[8]**2 : 1, Z[1]**3 : Z[1], \n",
    "              Z[2]**3 : Z[2], Z[3]**3 : Z[3], Z[4]**3 : Z[4], Z[5]**3 : Z[5], Z[6]**3 : Z[6], Z[7]**3 : Z[7]}"
   ]
  },
  {
   "cell_type": "code",
   "execution_count": 14,
   "id": "c07f68f0-715f-41ef-a681-5e5673935724",
   "metadata": {},
   "outputs": [],
   "source": [
    "total_clause = np.sum(clauses_list)\n",
    "total_clause = total_clause.subs(power_dict)"
   ]
  },
  {
   "cell_type": "code",
   "execution_count": 15,
   "id": "3aa6867c-11dd-4899-af5f-8002e7dbc05f",
   "metadata": {
    "tags": []
   },
   "outputs": [],
   "source": [
    "def clause_transformer(clause):\n",
    "    #critical element: takes a clause and maps it into a tuple containing the coeffcient and the \n",
    "    #indices for z operators which are going into the circuit and hamiltonian functions. It's not totally general, so needs to be checked\n",
    "    #for larger k and number of variables. So far seems to work ok\n",
    "    all_args = Add.make_args(clause)\n",
    "\n",
    "    crcs = []\n",
    "\n",
    "    for arg in all_args:\n",
    "        elem = str(arg)\n",
    "        if elem[0] == '-' and elem[1] == 'Z':\n",
    "            coef = -1\n",
    "            #print(coef)\n",
    "\n",
    "        if elem[0] == 'Z':\n",
    "            coef = 1\n",
    "            #print(coef)\n",
    "\n",
    "        if elem[0] == '-' and elem[1] != 'Z':\n",
    "            if elem[2].isdigit() == True:\n",
    "                coef = -int(str(elem[1])+str(elem[2]))\n",
    "            else:\n",
    "                coef = -int(elem[1])\n",
    "            #print(coef)\n",
    "\n",
    "        if elem[0].isdigit() == True:\n",
    "            if elem[1].isdigit() == True:\n",
    "                coef = int(str(elem[0])+str(elem[1]))\n",
    "                #print(coef)\n",
    "            else:\n",
    "                coef = int(str(elem[0]))\n",
    "                #print(coef)\n",
    "\n",
    "        zz_terms = re.findall(r\"\\[(\\d+)\\]\", elem)\n",
    "        zz_list = []\n",
    "        for elem in zz_terms:\n",
    "            zz_list.append(int(elem) - 1)\n",
    "        zz_list\n",
    "\n",
    "        if not zz_list:\n",
    "            crcs.append(coef)\n",
    "        else:\n",
    "            crcs.append((coef, zz_list))\n",
    "    \n",
    "    return crcs"
   ]
  },
  {
   "cell_type": "code",
   "execution_count": 16,
   "id": "61232e99-cdb9-4079-b02c-75d869a5daec",
   "metadata": {
    "tags": []
   },
   "outputs": [
    {
     "data": {
      "text/latex": [
       "$\\displaystyle 2 {Z}_{1} {Z}_{2} {Z}_{3} {Z}_{4} {Z}_{5} + 3 {Z}_{1} {Z}_{2} {Z}_{3} {Z}_{4} {Z}_{6} + 3 {Z}_{1} {Z}_{2} {Z}_{3} {Z}_{4} + 2 {Z}_{1} {Z}_{2} {Z}_{3} {Z}_{5} {Z}_{6} + 4 {Z}_{1} {Z}_{2} {Z}_{3} {Z}_{5} + 5 {Z}_{1} {Z}_{2} {Z}_{3} {Z}_{6} + {Z}_{1} {Z}_{2} {Z}_{3} - {Z}_{1} {Z}_{2} {Z}_{4} {Z}_{5} {Z}_{6} + {Z}_{1} {Z}_{2} {Z}_{4} {Z}_{5} - 4 {Z}_{1} {Z}_{2} {Z}_{4} {Z}_{6} - 4 {Z}_{1} {Z}_{2} {Z}_{4} + 5 {Z}_{1} {Z}_{2} {Z}_{5} {Z}_{6} + 3 {Z}_{1} {Z}_{2} {Z}_{5} + 22 {Z}_{1} {Z}_{2} {Z}_{6} - 18 {Z}_{1} {Z}_{2} - {Z}_{1} {Z}_{3} {Z}_{4} {Z}_{5} {Z}_{6} + 3 {Z}_{1} {Z}_{3} {Z}_{4} {Z}_{5} + 2 {Z}_{1} {Z}_{3} {Z}_{4} {Z}_{6} - 7 {Z}_{1} {Z}_{3} {Z}_{5} {Z}_{6} + 5 {Z}_{1} {Z}_{3} {Z}_{5} - 8 {Z}_{1} {Z}_{3} {Z}_{6} + 10 {Z}_{1} {Z}_{3} - 4 {Z}_{1} {Z}_{4} {Z}_{5} {Z}_{6} + 12 {Z}_{1} {Z}_{4} {Z}_{5} - 11 {Z}_{1} {Z}_{4} {Z}_{6} + 7 {Z}_{1} {Z}_{4} + 6 {Z}_{1} {Z}_{5} {Z}_{6} - 6 {Z}_{1} {Z}_{5} + 7 {Z}_{1} {Z}_{6} - 23 {Z}_{1} + {Z}_{2}^{5} - {Z}_{2} {Z}_{3} {Z}_{4} {Z}_{5} {Z}_{6} + {Z}_{2} {Z}_{3} {Z}_{4} {Z}_{5} + 2 {Z}_{2} {Z}_{3} {Z}_{4} {Z}_{6} - 6 {Z}_{2} {Z}_{3} {Z}_{4} + 5 {Z}_{2} {Z}_{3} {Z}_{5} {Z}_{6} - 17 {Z}_{2} {Z}_{3} {Z}_{5} - 4 {Z}_{2} {Z}_{3} {Z}_{6} - 8 {Z}_{2} {Z}_{3} - 4 {Z}_{2} {Z}_{4} {Z}_{5} {Z}_{6} + 14 {Z}_{2} {Z}_{4} {Z}_{5} + 21 {Z}_{2} {Z}_{4} {Z}_{6} + 13 {Z}_{2} {Z}_{4} - 6 {Z}_{2} {Z}_{5} {Z}_{6} + 16 {Z}_{2} {Z}_{5} - 5 {Z}_{2} {Z}_{6} + 34 {Z}_{2} + 2 {Z}_{3} {Z}_{4} {Z}_{5} {Z}_{6} - 6 {Z}_{3} {Z}_{4} {Z}_{5} - 11 {Z}_{3} {Z}_{4} {Z}_{6} - 33 {Z}_{3} {Z}_{4} - 12 {Z}_{3} {Z}_{5} {Z}_{6} + 4 {Z}_{3} {Z}_{5} + 7 {Z}_{3} {Z}_{6} - 43 {Z}_{3} - 7 {Z}_{4} {Z}_{5} {Z}_{6} - 3 {Z}_{4} {Z}_{5} - 18 {Z}_{4} {Z}_{6} - 20 {Z}_{4} - {Z}_{5} {Z}_{6} - 9 {Z}_{5} - 16 {Z}_{6} + 254$"
      ],
      "text/plain": [
       "2*Z[1]*Z[2]*Z[3]*Z[4]*Z[5] + 3*Z[1]*Z[2]*Z[3]*Z[4]*Z[6] + 3*Z[1]*Z[2]*Z[3]*Z[4] + 2*Z[1]*Z[2]*Z[3]*Z[5]*Z[6] + 4*Z[1]*Z[2]*Z[3]*Z[5] + 5*Z[1]*Z[2]*Z[3]*Z[6] + Z[1]*Z[2]*Z[3] - Z[1]*Z[2]*Z[4]*Z[5]*Z[6] + Z[1]*Z[2]*Z[4]*Z[5] - 4*Z[1]*Z[2]*Z[4]*Z[6] - 4*Z[1]*Z[2]*Z[4] + 5*Z[1]*Z[2]*Z[5]*Z[6] + 3*Z[1]*Z[2]*Z[5] + 22*Z[1]*Z[2]*Z[6] - 18*Z[1]*Z[2] - Z[1]*Z[3]*Z[4]*Z[5]*Z[6] + 3*Z[1]*Z[3]*Z[4]*Z[5] + 2*Z[1]*Z[3]*Z[4]*Z[6] - 7*Z[1]*Z[3]*Z[5]*Z[6] + 5*Z[1]*Z[3]*Z[5] - 8*Z[1]*Z[3]*Z[6] + 10*Z[1]*Z[3] - 4*Z[1]*Z[4]*Z[5]*Z[6] + 12*Z[1]*Z[4]*Z[5] - 11*Z[1]*Z[4]*Z[6] + 7*Z[1]*Z[4] + 6*Z[1]*Z[5]*Z[6] - 6*Z[1]*Z[5] + 7*Z[1]*Z[6] - 23*Z[1] + Z[2]**5 - Z[2]*Z[3]*Z[4]*Z[5]*Z[6] + Z[2]*Z[3]*Z[4]*Z[5] + 2*Z[2]*Z[3]*Z[4]*Z[6] - 6*Z[2]*Z[3]*Z[4] + 5*Z[2]*Z[3]*Z[5]*Z[6] - 17*Z[2]*Z[3]*Z[5] - 4*Z[2]*Z[3]*Z[6] - 8*Z[2]*Z[3] - 4*Z[2]*Z[4]*Z[5]*Z[6] + 14*Z[2]*Z[4]*Z[5] + 21*Z[2]*Z[4]*Z[6] + 13*Z[2]*Z[4] - 6*Z[2]*Z[5]*Z[6] + 16*Z[2]*Z[5] - 5*Z[2]*Z[6] + 34*Z[2] + 2*Z[3]*Z[4]*Z[5]*Z[6] - 6*Z[3]*Z[4]*Z[5] - 11*Z[3]*Z[4]*Z[6] - 33*Z[3]*Z[4] - 12*Z[3]*Z[5]*Z[6] + 4*Z[3]*Z[5] + 7*Z[3]*Z[6] - 43*Z[3] - 7*Z[4]*Z[5]*Z[6] - 3*Z[4]*Z[5] - 18*Z[4]*Z[6] - 20*Z[4] - Z[5]*Z[6] - 9*Z[5] - 16*Z[6] + 254"
      ]
     },
     "execution_count": 16,
     "metadata": {},
     "output_type": "execute_result"
    }
   ],
   "source": [
    "total_clause"
   ]
  },
  {
   "cell_type": "code",
   "execution_count": 17,
   "id": "7645ae7f-94b0-4350-9ceb-ec1657390624",
   "metadata": {},
   "outputs": [],
   "source": [
    "clause_to_circ = clause_transformer(total_clause)"
   ]
  },
  {
   "cell_type": "code",
   "execution_count": 18,
   "id": "2ae6ff2b-5c9f-43ed-a6cf-32041acc916e",
   "metadata": {},
   "outputs": [],
   "source": [
    "qubits = []\n",
    "\n",
    "for i in range(nqubits):\n",
    "    qubits.append(cirq.GridQubit(0,i))        \n",
    "    \n",
    "qubits = list(reversed(qubits)) #don't know why\n",
    "all_qubits = [i for i in range(nqubits)]"
   ]
  },
  {
   "cell_type": "code",
   "execution_count": 19,
   "id": "df9bf835-5a69-48b6-9411-c684a964ab09",
   "metadata": {
    "tags": []
   },
   "outputs": [],
   "source": [
    "def z_string_gates(z_inds, par):\n",
    "    #here we write z strings as a single parametrized z rotation and cnots\n",
    "    z_string = []\n",
    "    cnot_gates = []\n",
    "\n",
    "    pairs = list(zip([z_inds[0] for i in range(len(z_inds))], z_inds[1:]))\n",
    "\n",
    "    for pair in pairs:\n",
    "\n",
    "        cnot_gates.append(cirq.CNOT(qubits[pair[1]], qubits[pair[0]]))\n",
    "    z_string.append(cnot_gates)\n",
    "    z_string.append(cirq.rz(par).on(qubits[pair[0]]))\n",
    "    z_string.append(cnot_gates[len(cnot_gates) - 1::-1])\n",
    "    return z_string\n",
    "\n",
    "def hamiltonian_circuit(circuit, qubits, par, clauses): \n",
    "    for elem in clauses:  \n",
    "        if (type(elem) is tuple) == False:\n",
    "            pass # ignoring the constant term in the Hamiltonian\n",
    "        else:\n",
    "            coef = elem[0]\n",
    "            z_inds = elem[1]\n",
    "            if len(z_inds) == 1:\n",
    "                circuit.append(cirq.rz(coef*par).on(qubits[z_inds[0]]))\n",
    "            else:\n",
    "                circuit.append(z_string_gates(z_inds,coef*par))\n",
    "    return circuit\n",
    "\n",
    "def mixing_circuit(circuit, qubits, par):\n",
    "    for i in range(len(qubits)):\n",
    "        circuit.append(cirq.rx(par).on(qubits[i]))\n",
    "    return circuit\n",
    "\n",
    "def cost_hamiltonian(qubits, clauses):\n",
    "    h = 0\n",
    "    for elem in clauses:\n",
    "        res = type(elem) is tuple  \n",
    "        if res == False:\n",
    "            for qubit in qubits:\n",
    "                pass\n",
    "                #circuit.append(cirq.I(qubit))\n",
    "        else:\n",
    "            coef = elem[0]\n",
    "            z_inds = elem[1]\n",
    "            h += coef*math.prod([cirq.Z(qubits[i]) for i in z_inds])\n",
    "    return h"
   ]
  },
  {
   "cell_type": "code",
   "execution_count": 20,
   "id": "1b6cfd01-a62b-4a68-bb4f-b657f361875a",
   "metadata": {},
   "outputs": [],
   "source": [
    "qaoa_circuit = cirq.Circuit()\n",
    "p = 8 #number of layers. When in doubt, stay on the lower side\n",
    "\n",
    "num_param = 2 * p \n",
    "parameters = symbols(\"q0:%d\" % num_param)\n",
    "\n",
    "#setting up the layers\n",
    "for i in range(p):\n",
    "    qaoa_circuit = hamiltonian_circuit(qaoa_circuit, qubits, parameters[2 * i], clause_to_circ)\n",
    "    qaoa_circuit = mixing_circuit(qaoa_circuit, qubits, parameters[2 * i + 1])\n",
    "\n",
    "class MyLRSchedule(tf.keras.optimizers.schedules.LearningRateSchedule):\n",
    "\n",
    "    def __init__(self, initial_learning_rate):\n",
    "        self.initial_learning_rate = initial_learning_rate\n",
    "\n",
    "    def __call__(self, step):\n",
    "        return self.initial_learning_rate / (step+1)\n",
    "\n",
    "cost = cost_hamiltonian(qubits, clause_to_circ)\n",
    "\n",
    "initial = cirq.Circuit()\n",
    "\n",
    "for qubit in qubits:\n",
    "    initial.append(cirq.H(qubit)) #applying Hadamard to all qubits before running circuit\n",
    "\n",
    "#setting up the model\n",
    "lr = 1e-1\n",
    "\n",
    "inputs = tfq.convert_to_tensor([initial])\n",
    "ins = tf.keras.layers.Input(shape = (), dtype = tf.dtypes.string)\n",
    "outs = tfq.layers.PQC(qaoa_circuit, cost)(ins)\n",
    "ksat = tf.keras.models.Model(inputs = ins, outputs = outs)\n",
    "opt = tf.keras.optimizers.Adam(learning_rate=MyLRSchedule(lr))\n",
    "#ksat.trainable_variables[0].assign([1e-1*rd.random() for i in range(2*p)]) #initializing angles with some small noise"
   ]
  },
  {
   "cell_type": "code",
   "execution_count": 21,
   "id": "ce7399b0-e89e-49f0-a6f4-a42b9371b8e9",
   "metadata": {},
   "outputs": [],
   "source": [
    "#SVGCircuit(qaoa_circuit)"
   ]
  },
  {
   "cell_type": "code",
   "execution_count": 22,
   "id": "79d760e8-ae0f-4fc0-97a2-4a49f4ddddf3",
   "metadata": {
    "tags": []
   },
   "outputs": [
    {
     "name": "stdout",
     "output_type": "stream",
     "text": [
      "absolute value of (ground state energy - error) is 177.78624725341797\r"
     ]
    },
    {
     "ename": "KeyboardInterrupt",
     "evalue": "",
     "output_type": "error",
     "traceback": [
      "\u001b[0;31m---------------------------------------------------------------------------\u001b[0m",
      "\u001b[0;31mKeyboardInterrupt\u001b[0m                         Traceback (most recent call last)",
      "Cell \u001b[0;32mIn[22], line 12\u001b[0m\n\u001b[1;32m     10\u001b[0m previous_error \u001b[38;5;241m=\u001b[39m error   \n\u001b[1;32m     11\u001b[0m \u001b[38;5;28;01mwith\u001b[39;00m tf\u001b[38;5;241m.\u001b[39mGradientTape() \u001b[38;5;28;01mas\u001b[39;00m tape:\n\u001b[0;32m---> 12\u001b[0m     error \u001b[38;5;241m=\u001b[39m \u001b[43mksat\u001b[49m\u001b[43m(\u001b[49m\u001b[43minputs\u001b[49m\u001b[43m)\u001b[49m\n\u001b[1;32m     14\u001b[0m grads \u001b[38;5;241m=\u001b[39m tape\u001b[38;5;241m.\u001b[39mgradient(error, ksat\u001b[38;5;241m.\u001b[39mtrainable_variables)\n\u001b[1;32m     15\u001b[0m opt\u001b[38;5;241m.\u001b[39mapply_gradients(\u001b[38;5;28mzip\u001b[39m(grads, ksat\u001b[38;5;241m.\u001b[39mtrainable_variables))\n",
      "File \u001b[0;32m~/anaconda3/envs/ksat_env/lib/python3.9/site-packages/keras/utils/traceback_utils.py:64\u001b[0m, in \u001b[0;36mfilter_traceback.<locals>.error_handler\u001b[0;34m(*args, **kwargs)\u001b[0m\n\u001b[1;32m     62\u001b[0m filtered_tb \u001b[38;5;241m=\u001b[39m \u001b[38;5;28;01mNone\u001b[39;00m\n\u001b[1;32m     63\u001b[0m \u001b[38;5;28;01mtry\u001b[39;00m:\n\u001b[0;32m---> 64\u001b[0m   \u001b[38;5;28;01mreturn\u001b[39;00m \u001b[43mfn\u001b[49m\u001b[43m(\u001b[49m\u001b[38;5;241;43m*\u001b[39;49m\u001b[43margs\u001b[49m\u001b[43m,\u001b[49m\u001b[43m \u001b[49m\u001b[38;5;241;43m*\u001b[39;49m\u001b[38;5;241;43m*\u001b[39;49m\u001b[43mkwargs\u001b[49m\u001b[43m)\u001b[49m\n\u001b[1;32m     65\u001b[0m \u001b[38;5;28;01mexcept\u001b[39;00m \u001b[38;5;167;01mException\u001b[39;00m \u001b[38;5;28;01mas\u001b[39;00m e:  \u001b[38;5;66;03m# pylint: disable=broad-except\u001b[39;00m\n\u001b[1;32m     66\u001b[0m   filtered_tb \u001b[38;5;241m=\u001b[39m _process_traceback_frames(e\u001b[38;5;241m.\u001b[39m__traceback__)\n",
      "File \u001b[0;32m~/anaconda3/envs/ksat_env/lib/python3.9/site-packages/keras/engine/base_layer.py:1083\u001b[0m, in \u001b[0;36mLayer.__call__\u001b[0;34m(self, *args, **kwargs)\u001b[0m\n\u001b[1;32m   1079\u001b[0m   inputs \u001b[38;5;241m=\u001b[39m \u001b[38;5;28mself\u001b[39m\u001b[38;5;241m.\u001b[39m_maybe_cast_inputs(inputs, input_list)\n\u001b[1;32m   1081\u001b[0m \u001b[38;5;28;01mwith\u001b[39;00m autocast_variable\u001b[38;5;241m.\u001b[39menable_auto_cast_variables(\n\u001b[1;32m   1082\u001b[0m     \u001b[38;5;28mself\u001b[39m\u001b[38;5;241m.\u001b[39m_compute_dtype_object):\n\u001b[0;32m-> 1083\u001b[0m   outputs \u001b[38;5;241m=\u001b[39m \u001b[43mcall_fn\u001b[49m\u001b[43m(\u001b[49m\u001b[43minputs\u001b[49m\u001b[43m,\u001b[49m\u001b[43m \u001b[49m\u001b[38;5;241;43m*\u001b[39;49m\u001b[43margs\u001b[49m\u001b[43m,\u001b[49m\u001b[43m \u001b[49m\u001b[38;5;241;43m*\u001b[39;49m\u001b[38;5;241;43m*\u001b[39;49m\u001b[43mkwargs\u001b[49m\u001b[43m)\u001b[49m\n\u001b[1;32m   1085\u001b[0m \u001b[38;5;28;01mif\u001b[39;00m \u001b[38;5;28mself\u001b[39m\u001b[38;5;241m.\u001b[39m_activity_regularizer:\n\u001b[1;32m   1086\u001b[0m   \u001b[38;5;28mself\u001b[39m\u001b[38;5;241m.\u001b[39m_handle_activity_regularization(inputs, outputs)\n",
      "File \u001b[0;32m~/anaconda3/envs/ksat_env/lib/python3.9/site-packages/keras/utils/traceback_utils.py:92\u001b[0m, in \u001b[0;36minject_argument_info_in_traceback.<locals>.error_handler\u001b[0;34m(*args, **kwargs)\u001b[0m\n\u001b[1;32m     90\u001b[0m bound_signature \u001b[38;5;241m=\u001b[39m \u001b[38;5;28;01mNone\u001b[39;00m\n\u001b[1;32m     91\u001b[0m \u001b[38;5;28;01mtry\u001b[39;00m:\n\u001b[0;32m---> 92\u001b[0m   \u001b[38;5;28;01mreturn\u001b[39;00m \u001b[43mfn\u001b[49m\u001b[43m(\u001b[49m\u001b[38;5;241;43m*\u001b[39;49m\u001b[43margs\u001b[49m\u001b[43m,\u001b[49m\u001b[43m \u001b[49m\u001b[38;5;241;43m*\u001b[39;49m\u001b[38;5;241;43m*\u001b[39;49m\u001b[43mkwargs\u001b[49m\u001b[43m)\u001b[49m\n\u001b[1;32m     93\u001b[0m \u001b[38;5;28;01mexcept\u001b[39;00m \u001b[38;5;167;01mException\u001b[39;00m \u001b[38;5;28;01mas\u001b[39;00m e:  \u001b[38;5;66;03m# pylint: disable=broad-except\u001b[39;00m\n\u001b[1;32m     94\u001b[0m   \u001b[38;5;28;01mif\u001b[39;00m \u001b[38;5;28mhasattr\u001b[39m(e, \u001b[38;5;124m'\u001b[39m\u001b[38;5;124m_keras_call_info_injected\u001b[39m\u001b[38;5;124m'\u001b[39m):\n\u001b[1;32m     95\u001b[0m     \u001b[38;5;66;03m# Only inject info for the innermost failing call\u001b[39;00m\n",
      "File \u001b[0;32m~/anaconda3/envs/ksat_env/lib/python3.9/site-packages/keras/engine/functional.py:451\u001b[0m, in \u001b[0;36mFunctional.call\u001b[0;34m(self, inputs, training, mask)\u001b[0m\n\u001b[1;32m    432\u001b[0m \u001b[38;5;129m@doc_controls\u001b[39m\u001b[38;5;241m.\u001b[39mdo_not_doc_inheritable\n\u001b[1;32m    433\u001b[0m \u001b[38;5;28;01mdef\u001b[39;00m \u001b[38;5;21mcall\u001b[39m(\u001b[38;5;28mself\u001b[39m, inputs, training\u001b[38;5;241m=\u001b[39m\u001b[38;5;28;01mNone\u001b[39;00m, mask\u001b[38;5;241m=\u001b[39m\u001b[38;5;28;01mNone\u001b[39;00m):\n\u001b[1;32m    434\u001b[0m \u001b[38;5;250m  \u001b[39m\u001b[38;5;124;03m\"\"\"Calls the model on new inputs.\u001b[39;00m\n\u001b[1;32m    435\u001b[0m \n\u001b[1;32m    436\u001b[0m \u001b[38;5;124;03m  In this case `call` just reapplies\u001b[39;00m\n\u001b[0;32m   (...)\u001b[0m\n\u001b[1;32m    449\u001b[0m \u001b[38;5;124;03m      a list of tensors if there are more than one outputs.\u001b[39;00m\n\u001b[1;32m    450\u001b[0m \u001b[38;5;124;03m  \"\"\"\u001b[39;00m\n\u001b[0;32m--> 451\u001b[0m   \u001b[38;5;28;01mreturn\u001b[39;00m \u001b[38;5;28;43mself\u001b[39;49m\u001b[38;5;241;43m.\u001b[39;49m\u001b[43m_run_internal_graph\u001b[49m\u001b[43m(\u001b[49m\n\u001b[1;32m    452\u001b[0m \u001b[43m      \u001b[49m\u001b[43minputs\u001b[49m\u001b[43m,\u001b[49m\u001b[43m \u001b[49m\u001b[43mtraining\u001b[49m\u001b[38;5;241;43m=\u001b[39;49m\u001b[43mtraining\u001b[49m\u001b[43m,\u001b[49m\u001b[43m \u001b[49m\u001b[43mmask\u001b[49m\u001b[38;5;241;43m=\u001b[39;49m\u001b[43mmask\u001b[49m\u001b[43m)\u001b[49m\n",
      "File \u001b[0;32m~/anaconda3/envs/ksat_env/lib/python3.9/site-packages/keras/engine/functional.py:589\u001b[0m, in \u001b[0;36mFunctional._run_internal_graph\u001b[0;34m(self, inputs, training, mask)\u001b[0m\n\u001b[1;32m    586\u001b[0m   \u001b[38;5;28;01mcontinue\u001b[39;00m  \u001b[38;5;66;03m# Node is not computable, try skipping.\u001b[39;00m\n\u001b[1;32m    588\u001b[0m args, kwargs \u001b[38;5;241m=\u001b[39m node\u001b[38;5;241m.\u001b[39mmap_arguments(tensor_dict)\n\u001b[0;32m--> 589\u001b[0m outputs \u001b[38;5;241m=\u001b[39m \u001b[43mnode\u001b[49m\u001b[38;5;241;43m.\u001b[39;49m\u001b[43mlayer\u001b[49m\u001b[43m(\u001b[49m\u001b[38;5;241;43m*\u001b[39;49m\u001b[43margs\u001b[49m\u001b[43m,\u001b[49m\u001b[43m \u001b[49m\u001b[38;5;241;43m*\u001b[39;49m\u001b[38;5;241;43m*\u001b[39;49m\u001b[43mkwargs\u001b[49m\u001b[43m)\u001b[49m\n\u001b[1;32m    591\u001b[0m \u001b[38;5;66;03m# Update tensor_dict.\u001b[39;00m\n\u001b[1;32m    592\u001b[0m \u001b[38;5;28;01mfor\u001b[39;00m x_id, y \u001b[38;5;129;01min\u001b[39;00m \u001b[38;5;28mzip\u001b[39m(node\u001b[38;5;241m.\u001b[39mflat_output_ids, tf\u001b[38;5;241m.\u001b[39mnest\u001b[38;5;241m.\u001b[39mflatten(outputs)):\n",
      "File \u001b[0;32m~/anaconda3/envs/ksat_env/lib/python3.9/site-packages/keras/utils/traceback_utils.py:64\u001b[0m, in \u001b[0;36mfilter_traceback.<locals>.error_handler\u001b[0;34m(*args, **kwargs)\u001b[0m\n\u001b[1;32m     62\u001b[0m filtered_tb \u001b[38;5;241m=\u001b[39m \u001b[38;5;28;01mNone\u001b[39;00m\n\u001b[1;32m     63\u001b[0m \u001b[38;5;28;01mtry\u001b[39;00m:\n\u001b[0;32m---> 64\u001b[0m   \u001b[38;5;28;01mreturn\u001b[39;00m \u001b[43mfn\u001b[49m\u001b[43m(\u001b[49m\u001b[38;5;241;43m*\u001b[39;49m\u001b[43margs\u001b[49m\u001b[43m,\u001b[49m\u001b[43m \u001b[49m\u001b[38;5;241;43m*\u001b[39;49m\u001b[38;5;241;43m*\u001b[39;49m\u001b[43mkwargs\u001b[49m\u001b[43m)\u001b[49m\n\u001b[1;32m     65\u001b[0m \u001b[38;5;28;01mexcept\u001b[39;00m \u001b[38;5;167;01mException\u001b[39;00m \u001b[38;5;28;01mas\u001b[39;00m e:  \u001b[38;5;66;03m# pylint: disable=broad-except\u001b[39;00m\n\u001b[1;32m     66\u001b[0m   filtered_tb \u001b[38;5;241m=\u001b[39m _process_traceback_frames(e\u001b[38;5;241m.\u001b[39m__traceback__)\n",
      "File \u001b[0;32m~/anaconda3/envs/ksat_env/lib/python3.9/site-packages/keras/engine/base_layer.py:1083\u001b[0m, in \u001b[0;36mLayer.__call__\u001b[0;34m(self, *args, **kwargs)\u001b[0m\n\u001b[1;32m   1079\u001b[0m   inputs \u001b[38;5;241m=\u001b[39m \u001b[38;5;28mself\u001b[39m\u001b[38;5;241m.\u001b[39m_maybe_cast_inputs(inputs, input_list)\n\u001b[1;32m   1081\u001b[0m \u001b[38;5;28;01mwith\u001b[39;00m autocast_variable\u001b[38;5;241m.\u001b[39menable_auto_cast_variables(\n\u001b[1;32m   1082\u001b[0m     \u001b[38;5;28mself\u001b[39m\u001b[38;5;241m.\u001b[39m_compute_dtype_object):\n\u001b[0;32m-> 1083\u001b[0m   outputs \u001b[38;5;241m=\u001b[39m \u001b[43mcall_fn\u001b[49m\u001b[43m(\u001b[49m\u001b[43minputs\u001b[49m\u001b[43m,\u001b[49m\u001b[43m \u001b[49m\u001b[38;5;241;43m*\u001b[39;49m\u001b[43margs\u001b[49m\u001b[43m,\u001b[49m\u001b[43m \u001b[49m\u001b[38;5;241;43m*\u001b[39;49m\u001b[38;5;241;43m*\u001b[39;49m\u001b[43mkwargs\u001b[49m\u001b[43m)\u001b[49m\n\u001b[1;32m   1085\u001b[0m \u001b[38;5;28;01mif\u001b[39;00m \u001b[38;5;28mself\u001b[39m\u001b[38;5;241m.\u001b[39m_activity_regularizer:\n\u001b[1;32m   1086\u001b[0m   \u001b[38;5;28mself\u001b[39m\u001b[38;5;241m.\u001b[39m_handle_activity_regularization(inputs, outputs)\n",
      "File \u001b[0;32m~/anaconda3/envs/ksat_env/lib/python3.9/site-packages/keras/utils/traceback_utils.py:92\u001b[0m, in \u001b[0;36minject_argument_info_in_traceback.<locals>.error_handler\u001b[0;34m(*args, **kwargs)\u001b[0m\n\u001b[1;32m     90\u001b[0m bound_signature \u001b[38;5;241m=\u001b[39m \u001b[38;5;28;01mNone\u001b[39;00m\n\u001b[1;32m     91\u001b[0m \u001b[38;5;28;01mtry\u001b[39;00m:\n\u001b[0;32m---> 92\u001b[0m   \u001b[38;5;28;01mreturn\u001b[39;00m \u001b[43mfn\u001b[49m\u001b[43m(\u001b[49m\u001b[38;5;241;43m*\u001b[39;49m\u001b[43margs\u001b[49m\u001b[43m,\u001b[49m\u001b[43m \u001b[49m\u001b[38;5;241;43m*\u001b[39;49m\u001b[38;5;241;43m*\u001b[39;49m\u001b[43mkwargs\u001b[49m\u001b[43m)\u001b[49m\n\u001b[1;32m     93\u001b[0m \u001b[38;5;28;01mexcept\u001b[39;00m \u001b[38;5;167;01mException\u001b[39;00m \u001b[38;5;28;01mas\u001b[39;00m e:  \u001b[38;5;66;03m# pylint: disable=broad-except\u001b[39;00m\n\u001b[1;32m     94\u001b[0m   \u001b[38;5;28;01mif\u001b[39;00m \u001b[38;5;28mhasattr\u001b[39m(e, \u001b[38;5;124m'\u001b[39m\u001b[38;5;124m_keras_call_info_injected\u001b[39m\u001b[38;5;124m'\u001b[39m):\n\u001b[1;32m     95\u001b[0m     \u001b[38;5;66;03m# Only inject info for the innermost failing call\u001b[39;00m\n",
      "File \u001b[0;32m~/anaconda3/envs/ksat_env/lib/python3.9/site-packages/tensorflow_quantum/python/layers/high_level/pqc.py:306\u001b[0m, in \u001b[0;36mPQC.call\u001b[0;34m(self, inputs)\u001b[0m\n\u001b[1;32m    303\u001b[0m \u001b[38;5;66;03m# this is disabled to make autograph compilation easier.\u001b[39;00m\n\u001b[1;32m    304\u001b[0m \u001b[38;5;66;03m# pylint: disable=no-else-return\u001b[39;00m\n\u001b[1;32m    305\u001b[0m \u001b[38;5;28;01mif\u001b[39;00m \u001b[38;5;28mself\u001b[39m\u001b[38;5;241m.\u001b[39m_analytic:\n\u001b[0;32m--> 306\u001b[0m     \u001b[38;5;28;01mreturn\u001b[39;00m \u001b[38;5;28;43mself\u001b[39;49m\u001b[38;5;241;43m.\u001b[39;49m\u001b[43m_executor\u001b[49m\u001b[43m(\u001b[49m\u001b[43mmodel_appended\u001b[49m\u001b[43m,\u001b[49m\n\u001b[1;32m    307\u001b[0m \u001b[43m                          \u001b[49m\u001b[43msymbol_names\u001b[49m\u001b[38;5;241;43m=\u001b[39;49m\u001b[38;5;28;43mself\u001b[39;49m\u001b[38;5;241;43m.\u001b[39;49m\u001b[43m_symbols\u001b[49m\u001b[43m,\u001b[49m\n\u001b[1;32m    308\u001b[0m \u001b[43m                          \u001b[49m\u001b[43msymbol_values\u001b[49m\u001b[38;5;241;43m=\u001b[39;49m\u001b[43mtiled_up_parameters\u001b[49m\u001b[43m,\u001b[49m\n\u001b[1;32m    309\u001b[0m \u001b[43m                          \u001b[49m\u001b[43moperators\u001b[49m\u001b[38;5;241;43m=\u001b[39;49m\u001b[43mtiled_up_operators\u001b[49m\u001b[43m)\u001b[49m\n\u001b[1;32m    310\u001b[0m \u001b[38;5;28;01melse\u001b[39;00m:\n\u001b[1;32m    311\u001b[0m     tiled_up_repetitions \u001b[38;5;241m=\u001b[39m tf\u001b[38;5;241m.\u001b[39mtile(\u001b[38;5;28mself\u001b[39m\u001b[38;5;241m.\u001b[39m_repetitions,\n\u001b[1;32m    312\u001b[0m                                    [circuit_batch_dim, \u001b[38;5;241m1\u001b[39m])\n",
      "File \u001b[0;32m~/anaconda3/envs/ksat_env/lib/python3.9/site-packages/keras/utils/traceback_utils.py:64\u001b[0m, in \u001b[0;36mfilter_traceback.<locals>.error_handler\u001b[0;34m(*args, **kwargs)\u001b[0m\n\u001b[1;32m     62\u001b[0m filtered_tb \u001b[38;5;241m=\u001b[39m \u001b[38;5;28;01mNone\u001b[39;00m\n\u001b[1;32m     63\u001b[0m \u001b[38;5;28;01mtry\u001b[39;00m:\n\u001b[0;32m---> 64\u001b[0m   \u001b[38;5;28;01mreturn\u001b[39;00m \u001b[43mfn\u001b[49m\u001b[43m(\u001b[49m\u001b[38;5;241;43m*\u001b[39;49m\u001b[43margs\u001b[49m\u001b[43m,\u001b[49m\u001b[43m \u001b[49m\u001b[38;5;241;43m*\u001b[39;49m\u001b[38;5;241;43m*\u001b[39;49m\u001b[43mkwargs\u001b[49m\u001b[43m)\u001b[49m\n\u001b[1;32m     65\u001b[0m \u001b[38;5;28;01mexcept\u001b[39;00m \u001b[38;5;167;01mException\u001b[39;00m \u001b[38;5;28;01mas\u001b[39;00m e:  \u001b[38;5;66;03m# pylint: disable=broad-except\u001b[39;00m\n\u001b[1;32m     66\u001b[0m   filtered_tb \u001b[38;5;241m=\u001b[39m _process_traceback_frames(e\u001b[38;5;241m.\u001b[39m__traceback__)\n",
      "File \u001b[0;32m~/anaconda3/envs/ksat_env/lib/python3.9/site-packages/keras/engine/base_layer.py:1083\u001b[0m, in \u001b[0;36mLayer.__call__\u001b[0;34m(self, *args, **kwargs)\u001b[0m\n\u001b[1;32m   1079\u001b[0m   inputs \u001b[38;5;241m=\u001b[39m \u001b[38;5;28mself\u001b[39m\u001b[38;5;241m.\u001b[39m_maybe_cast_inputs(inputs, input_list)\n\u001b[1;32m   1081\u001b[0m \u001b[38;5;28;01mwith\u001b[39;00m autocast_variable\u001b[38;5;241m.\u001b[39menable_auto_cast_variables(\n\u001b[1;32m   1082\u001b[0m     \u001b[38;5;28mself\u001b[39m\u001b[38;5;241m.\u001b[39m_compute_dtype_object):\n\u001b[0;32m-> 1083\u001b[0m   outputs \u001b[38;5;241m=\u001b[39m \u001b[43mcall_fn\u001b[49m\u001b[43m(\u001b[49m\u001b[43minputs\u001b[49m\u001b[43m,\u001b[49m\u001b[43m \u001b[49m\u001b[38;5;241;43m*\u001b[39;49m\u001b[43margs\u001b[49m\u001b[43m,\u001b[49m\u001b[43m \u001b[49m\u001b[38;5;241;43m*\u001b[39;49m\u001b[38;5;241;43m*\u001b[39;49m\u001b[43mkwargs\u001b[49m\u001b[43m)\u001b[49m\n\u001b[1;32m   1085\u001b[0m \u001b[38;5;28;01mif\u001b[39;00m \u001b[38;5;28mself\u001b[39m\u001b[38;5;241m.\u001b[39m_activity_regularizer:\n\u001b[1;32m   1086\u001b[0m   \u001b[38;5;28mself\u001b[39m\u001b[38;5;241m.\u001b[39m_handle_activity_regularization(inputs, outputs)\n",
      "File \u001b[0;32m~/anaconda3/envs/ksat_env/lib/python3.9/site-packages/keras/utils/traceback_utils.py:92\u001b[0m, in \u001b[0;36minject_argument_info_in_traceback.<locals>.error_handler\u001b[0;34m(*args, **kwargs)\u001b[0m\n\u001b[1;32m     90\u001b[0m bound_signature \u001b[38;5;241m=\u001b[39m \u001b[38;5;28;01mNone\u001b[39;00m\n\u001b[1;32m     91\u001b[0m \u001b[38;5;28;01mtry\u001b[39;00m:\n\u001b[0;32m---> 92\u001b[0m   \u001b[38;5;28;01mreturn\u001b[39;00m \u001b[43mfn\u001b[49m\u001b[43m(\u001b[49m\u001b[38;5;241;43m*\u001b[39;49m\u001b[43margs\u001b[49m\u001b[43m,\u001b[49m\u001b[43m \u001b[49m\u001b[38;5;241;43m*\u001b[39;49m\u001b[38;5;241;43m*\u001b[39;49m\u001b[43mkwargs\u001b[49m\u001b[43m)\u001b[49m\n\u001b[1;32m     93\u001b[0m \u001b[38;5;28;01mexcept\u001b[39;00m \u001b[38;5;167;01mException\u001b[39;00m \u001b[38;5;28;01mas\u001b[39;00m e:  \u001b[38;5;66;03m# pylint: disable=broad-except\u001b[39;00m\n\u001b[1;32m     94\u001b[0m   \u001b[38;5;28;01mif\u001b[39;00m \u001b[38;5;28mhasattr\u001b[39m(e, \u001b[38;5;124m'\u001b[39m\u001b[38;5;124m_keras_call_info_injected\u001b[39m\u001b[38;5;124m'\u001b[39m):\n\u001b[1;32m     95\u001b[0m     \u001b[38;5;66;03m# Only inject info for the innermost failing call\u001b[39;00m\n",
      "File \u001b[0;32m~/anaconda3/envs/ksat_env/lib/python3.9/site-packages/tensorflow_quantum/python/layers/circuit_executors/expectation.py:356\u001b[0m, in \u001b[0;36mExpectation.call\u001b[0;34m(self, inputs, symbol_names, symbol_values, operators, repetitions, initializer)\u001b[0m\n\u001b[1;32m    353\u001b[0m     \u001b[38;5;28;01mreturn\u001b[39;00m \u001b[38;5;28mself\u001b[39m\u001b[38;5;241m.\u001b[39m_expectation_op(inputs, symbol_names, symbol_values,\n\u001b[1;32m    354\u001b[0m                                 operators, num_samples)\n\u001b[1;32m    355\u001b[0m \u001b[38;5;28;01melse\u001b[39;00m:\n\u001b[0;32m--> 356\u001b[0m     \u001b[38;5;28;01mreturn\u001b[39;00m \u001b[38;5;28;43mself\u001b[39;49m\u001b[38;5;241;43m.\u001b[39;49m\u001b[43m_expectation_op\u001b[49m\u001b[43m(\u001b[49m\u001b[43minputs\u001b[49m\u001b[43m,\u001b[49m\u001b[43m \u001b[49m\u001b[43msymbol_names\u001b[49m\u001b[43m,\u001b[49m\u001b[43m \u001b[49m\u001b[43msymbol_values\u001b[49m\u001b[43m,\u001b[49m\n\u001b[1;32m    357\u001b[0m \u001b[43m                                \u001b[49m\u001b[43moperators\u001b[49m\u001b[43m)\u001b[49m\n",
      "File \u001b[0;32m~/anaconda3/envs/ksat_env/lib/python3.9/site-packages/tensorflow/python/ops/custom_gradient.py:342\u001b[0m, in \u001b[0;36mBind.__call__\u001b[0;34m(self, *a, **k)\u001b[0m\n\u001b[1;32m    341\u001b[0m \u001b[38;5;28;01mdef\u001b[39;00m \u001b[38;5;21m__call__\u001b[39m(\u001b[38;5;28mself\u001b[39m, \u001b[38;5;241m*\u001b[39ma, \u001b[38;5;241m*\u001b[39m\u001b[38;5;241m*\u001b[39mk):\n\u001b[0;32m--> 342\u001b[0m   \u001b[38;5;28;01mreturn\u001b[39;00m \u001b[38;5;28;43mself\u001b[39;49m\u001b[38;5;241;43m.\u001b[39;49m\u001b[43m_d\u001b[49m\u001b[43m(\u001b[49m\u001b[38;5;28;43mself\u001b[39;49m\u001b[38;5;241;43m.\u001b[39;49m\u001b[43m_f\u001b[49m\u001b[43m,\u001b[49m\u001b[43m \u001b[49m\u001b[43ma\u001b[49m\u001b[43m,\u001b[49m\u001b[43m \u001b[49m\u001b[43mk\u001b[49m\u001b[43m)\u001b[49m\n",
      "File \u001b[0;32m~/anaconda3/envs/ksat_env/lib/python3.9/site-packages/tensorflow/python/ops/custom_gradient.py:296\u001b[0m, in \u001b[0;36mcustom_gradient.<locals>.decorated\u001b[0;34m(wrapped, args, kwargs)\u001b[0m\n\u001b[1;32m    294\u001b[0m \u001b[38;5;250m\u001b[39m\u001b[38;5;124;03m\"\"\"Decorated function with custom gradient.\"\"\"\u001b[39;00m\n\u001b[1;32m    295\u001b[0m \u001b[38;5;28;01mif\u001b[39;00m context\u001b[38;5;241m.\u001b[39mexecuting_eagerly():\n\u001b[0;32m--> 296\u001b[0m   \u001b[38;5;28;01mreturn\u001b[39;00m \u001b[43m_eager_mode_decorator\u001b[49m\u001b[43m(\u001b[49m\u001b[43mwrapped\u001b[49m\u001b[43m,\u001b[49m\u001b[43m \u001b[49m\u001b[43margs\u001b[49m\u001b[43m,\u001b[49m\u001b[43m \u001b[49m\u001b[43mkwargs\u001b[49m\u001b[43m)\u001b[49m\n\u001b[1;32m    297\u001b[0m \u001b[38;5;28;01melse\u001b[39;00m:\n\u001b[1;32m    298\u001b[0m   \u001b[38;5;28;01mreturn\u001b[39;00m _graph_mode_decorator(wrapped, args, kwargs)\n",
      "File \u001b[0;32m~/anaconda3/envs/ksat_env/lib/python3.9/site-packages/tensorflow/python/ops/custom_gradient.py:533\u001b[0m, in \u001b[0;36m_eager_mode_decorator\u001b[0;34m(f, args, kwargs)\u001b[0m\n\u001b[1;32m    531\u001b[0m \u001b[38;5;250m\u001b[39m\u001b[38;5;124;03m\"\"\"Implement custom gradient decorator for eager mode.\"\"\"\u001b[39;00m\n\u001b[1;32m    532\u001b[0m \u001b[38;5;28;01mwith\u001b[39;00m tape_lib\u001b[38;5;241m.\u001b[39mVariableWatcher() \u001b[38;5;28;01mas\u001b[39;00m variable_watcher:\n\u001b[0;32m--> 533\u001b[0m   result, grad_fn \u001b[38;5;241m=\u001b[39m \u001b[43mf\u001b[49m\u001b[43m(\u001b[49m\u001b[38;5;241;43m*\u001b[39;49m\u001b[43margs\u001b[49m\u001b[43m,\u001b[49m\u001b[43m \u001b[49m\u001b[38;5;241;43m*\u001b[39;49m\u001b[38;5;241;43m*\u001b[39;49m\u001b[43mkwargs\u001b[49m\u001b[43m)\u001b[49m\n\u001b[1;32m    534\u001b[0m args \u001b[38;5;241m=\u001b[39m nest\u001b[38;5;241m.\u001b[39mflatten(args)\n\u001b[1;32m    535\u001b[0m all_inputs \u001b[38;5;241m=\u001b[39m \u001b[38;5;28mlist\u001b[39m(args) \u001b[38;5;241m+\u001b[39m \u001b[38;5;28mlist\u001b[39m(kwargs\u001b[38;5;241m.\u001b[39mvalues())\n",
      "File \u001b[0;32m~/anaconda3/envs/ksat_env/lib/python3.9/site-packages/tensorflow_quantum/python/differentiators/differentiator.py:156\u001b[0m, in \u001b[0;36mDifferentiator.generate_differentiable_op.<locals>.op_wrapper_analytic\u001b[0;34m(programs, symbol_names, symbol_values, pauli_sums)\u001b[0m\n\u001b[1;32m    153\u001b[0m \u001b[38;5;129m@tf\u001b[39m\u001b[38;5;241m.\u001b[39mcustom_gradient\n\u001b[1;32m    154\u001b[0m \u001b[38;5;28;01mdef\u001b[39;00m \u001b[38;5;21mop_wrapper_analytic\u001b[39m(programs, symbol_names, symbol_values,\n\u001b[1;32m    155\u001b[0m                         pauli_sums):\n\u001b[0;32m--> 156\u001b[0m     forward_pass_vals \u001b[38;5;241m=\u001b[39m \u001b[43manalytic_op\u001b[49m\u001b[43m(\u001b[49m\u001b[43mprograms\u001b[49m\u001b[43m,\u001b[49m\u001b[43m \u001b[49m\u001b[43msymbol_names\u001b[49m\u001b[43m,\u001b[49m\n\u001b[1;32m    157\u001b[0m \u001b[43m                                    \u001b[49m\u001b[43msymbol_values\u001b[49m\u001b[43m,\u001b[49m\u001b[43m \u001b[49m\u001b[43mpauli_sums\u001b[49m\u001b[43m)\u001b[49m\n\u001b[1;32m    159\u001b[0m     \u001b[38;5;28;01mdef\u001b[39;00m \u001b[38;5;21mgradient\u001b[39m(grad):\n\u001b[1;32m    160\u001b[0m         \u001b[38;5;28;01mreturn\u001b[39;00m \u001b[38;5;28mself\u001b[39m\u001b[38;5;241m.\u001b[39m_differentiate_ana(programs, symbol_names,\n\u001b[1;32m    161\u001b[0m                                        symbol_values, pauli_sums,\n\u001b[1;32m    162\u001b[0m                                        forward_pass_vals, grad)\n",
      "File \u001b[0;32m~/anaconda3/envs/ksat_env/lib/python3.9/site-packages/tensorflow_quantum/core/ops/circuit_execution_ops.py:135\u001b[0m, in \u001b[0;36mget_expectation_op.<locals>.<lambda>\u001b[0;34m(programs, symbol_names, symbol_values, pauli_sums)\u001b[0m\n\u001b[1;32m    131\u001b[0m \u001b[38;5;28;01mif\u001b[39;00m op \u001b[38;5;129;01mis\u001b[39;00m \u001b[38;5;129;01mnot\u001b[39;00m \u001b[38;5;28;01mNone\u001b[39;00m:\n\u001b[1;32m    132\u001b[0m     \u001b[38;5;28;01mif\u001b[39;00m quantum_concurrent \u001b[38;5;129;01mis\u001b[39;00m \u001b[38;5;28;01mTrue\u001b[39;00m:\n\u001b[1;32m    133\u001b[0m         \u001b[38;5;66;03m# Return an op that does not block graph level parallelism.\u001b[39;00m\n\u001b[1;32m    134\u001b[0m         \u001b[38;5;28;01mreturn\u001b[39;00m \u001b[38;5;28;01mlambda\u001b[39;00m programs, symbol_names, symbol_values, pauli_sums: \\\n\u001b[0;32m--> 135\u001b[0m             \u001b[43mop\u001b[49m\u001b[43m(\u001b[49m\u001b[43mprograms\u001b[49m\u001b[43m,\u001b[49m\u001b[43m \u001b[49m\u001b[43msymbol_names\u001b[49m\u001b[43m,\u001b[49m\u001b[43m \u001b[49m\u001b[43msymbol_values\u001b[49m\u001b[43m,\u001b[49m\u001b[43m \u001b[49m\u001b[43mpauli_sums\u001b[49m\u001b[43m)\u001b[49m\n\u001b[1;32m    137\u001b[0m     \u001b[38;5;66;03m# Return an op that does block graph level parallelism.\u001b[39;00m\n\u001b[1;32m    138\u001b[0m     \u001b[38;5;28;01mreturn\u001b[39;00m \u001b[38;5;28;01mlambda\u001b[39;00m programs, symbol_names, symbol_values, pauli_sums: \\\n\u001b[1;32m    139\u001b[0m         quantum_context\u001b[38;5;241m.\u001b[39m_GLOBAL_OP_LOCK\u001b[38;5;241m.\u001b[39mexecute(\u001b[38;5;28;01mlambda\u001b[39;00m: op(\n\u001b[1;32m    140\u001b[0m             programs, symbol_names, symbol_values, pauli_sums))\n",
      "File \u001b[0;32m~/anaconda3/envs/ksat_env/lib/python3.9/site-packages/tensorflow_quantum/core/ops/tfq_simulate_ops.py:44\u001b[0m, in \u001b[0;36mtfq_simulate_expectation\u001b[0;34m(programs, symbol_names, symbol_values, pauli_sums)\u001b[0m\n\u001b[1;32m     22\u001b[0m \u001b[38;5;28;01mdef\u001b[39;00m \u001b[38;5;21mtfq_simulate_expectation\u001b[39m(programs, symbol_names, symbol_values, pauli_sums):\n\u001b[1;32m     23\u001b[0m \u001b[38;5;250m    \u001b[39m\u001b[38;5;124;03m\"\"\"Calculate the expectation value of circuits wrt some operator(s)\u001b[39;00m\n\u001b[1;32m     24\u001b[0m \n\u001b[1;32m     25\u001b[0m \u001b[38;5;124;03m    Args:\u001b[39;00m\n\u001b[0;32m   (...)\u001b[0m\n\u001b[1;32m     42\u001b[0m \u001b[38;5;124;03m            (after resolving the corresponding parameters in).\u001b[39;00m\n\u001b[1;32m     43\u001b[0m \u001b[38;5;124;03m    \"\"\"\u001b[39;00m\n\u001b[0;32m---> 44\u001b[0m     \u001b[38;5;28;01mreturn\u001b[39;00m \u001b[43mSIM_OP_MODULE\u001b[49m\u001b[38;5;241;43m.\u001b[39;49m\u001b[43mtfq_simulate_expectation\u001b[49m\u001b[43m(\u001b[49m\n\u001b[1;32m     45\u001b[0m \u001b[43m        \u001b[49m\u001b[43mprograms\u001b[49m\u001b[43m,\u001b[49m\u001b[43m \u001b[49m\u001b[43msymbol_names\u001b[49m\u001b[43m,\u001b[49m\u001b[43m \u001b[49m\u001b[43mtf\u001b[49m\u001b[38;5;241;43m.\u001b[39;49m\u001b[43mcast\u001b[49m\u001b[43m(\u001b[49m\u001b[43msymbol_values\u001b[49m\u001b[43m,\u001b[49m\u001b[43m \u001b[49m\u001b[43mtf\u001b[49m\u001b[38;5;241;43m.\u001b[39;49m\u001b[43mfloat32\u001b[49m\u001b[43m)\u001b[49m\u001b[43m,\u001b[49m\u001b[43m \u001b[49m\u001b[43mpauli_sums\u001b[49m\u001b[43m)\u001b[49m\n",
      "File \u001b[0;32m<string>:43\u001b[0m, in \u001b[0;36mtfq_simulate_expectation\u001b[0;34m(programs, symbol_names, symbol_values, pauli_sums, name)\u001b[0m\n",
      "\u001b[0;31mKeyboardInterrupt\u001b[0m: "
     ]
    }
   ],
   "source": [
    "cost_m = cost.matrix()\n",
    "gs_energy = np.real(min(LA.eig(cost_m)[0]))\n",
    "\n",
    "losses = []\n",
    "error = 1e2*rd.random()\n",
    "tol = 1e-2\n",
    "\n",
    "while abs(gs_energy - error) > tol:\n",
    "\n",
    "    previous_error = error   \n",
    "    with tf.GradientTape() as tape:\n",
    "        error = ksat(inputs)\n",
    "    \n",
    "    grads = tape.gradient(error, ksat.trainable_variables)\n",
    "    opt.apply_gradients(zip(grads, ksat.trainable_variables))\n",
    "    error = error.numpy()[0,0]\n",
    "    losses.append(error)\n",
    "\n",
    "    print('absolute value of (ground state energy - error) is ' + str(abs(gs_energy - error)), end = '\\r')\n",
    "    if abs(error - previous_error) < 1e-10:\n",
    "        print('\\n got stuck!')\n",
    "        break"
   ]
  },
  {
   "cell_type": "code",
   "execution_count": 62,
   "id": "5d5fdf24-90f4-48fb-9327-c07aad59483d",
   "metadata": {},
   "outputs": [
    {
     "data": {
      "image/png": "[encoded data removed]",
      "text/plain": [
       "<Figure size 600x200 with 1 Axes>"
      ]
     },
     "metadata": {},
     "output_type": "display_data"
    }
   ],
   "source": [
    "plt.figure(figsize=(6,2))\n",
    "plt.plot(losses, color = \"green\")\n",
    "plt.axhline(y = gs_energy, color = 'black', linestyle = 'dashed')\n",
    "plt.title(str(k)+'-SAT QAOA with '+str(n_var)+' variables')\n",
    "plt.xlabel(\"Epoch\")\n",
    "plt.ylabel(\"Loss\")\n",
    "plt.show()\n",
    "#plt.savefig(\"TSP_losses\")"
   ]
  },
  {
   "cell_type": "code",
   "execution_count": 54,
   "id": "e9876579-4d9d-4b21-ae29-884ac3919522",
   "metadata": {},
   "outputs": [],
   "source": [
    "def to_dec(x):\n",
    "    return int(\"\".join(str(i) for i in x), 2) "
   ]
  },
  {
   "cell_type": "code",
   "execution_count": 55,
   "id": "2c4821d4-aac7-4f1b-8a18-90f59297feaa",
   "metadata": {},
   "outputs": [
    {
     "name": "stdout",
     "output_type": "stream",
     "text": [
      "[<tf.Variable 'parameters:0' shape=(24,) dtype=float32, numpy=\n",
      "array([4.6535335 , 1.6984671 , 0.57018197, 4.286151  , 3.9165142 ,\n",
      "       5.1408844 , 2.4138875 , 0.6507367 , 3.0120199 , 6.119428  ,\n",
      "       6.146326  , 0.2849235 , 2.553094  , 2.6459692 , 3.7259512 ,\n",
      "       3.3901267 , 3.5047452 , 2.047402  , 5.648064  , 3.2197392 ,\n",
      "       3.26073   , 2.543761  , 3.656077  , 4.7970495 ], dtype=float32)>]\n"
     ]
    }
   ],
   "source": [
    "params = ksat.trainable_variables\n",
    "print(params)\n",
    "\n",
    "sample_circuit = tfq.layers.AddCircuit()(inputs, append=qaoa_circuit)\n",
    "output = tfq.layers.Sample()(sample_circuit, symbol_names=parameters, symbol_values=params, repetitions = 2048)\n",
    "\n",
    "quantum_preds = []\n",
    "data = []\n",
    "for bits in output.values:\n",
    "    temp = []\n",
    "    data.append(to_dec(bits.numpy()))\n",
    "    for pos, bit in enumerate(bits):\n",
    "        if bit == 1:\n",
    "            temp.append(pos)\n",
    "    quantum_preds.append(temp)"
   ]
  },
  {
   "cell_type": "code",
   "execution_count": 56,
   "id": "686580d0-9cd8-4f14-b116-58ac1a2ae4bd",
   "metadata": {},
   "outputs": [
    {
     "data": {
      "text/plain": [
       "['110100']"
      ]
     },
     "execution_count": 56,
     "metadata": {},
     "output_type": "execute_result"
    }
   ],
   "source": [
    "valid_keys"
   ]
  },
  {
   "cell_type": "code",
   "execution_count": 57,
   "id": "785330f6-df58-49d7-8abf-9dd0b646868b",
   "metadata": {
    "lines_to_next_cell": 0,
    "tags": []
   },
   "outputs": [
    {
     "data": {
      "image/png": "[encoded data removed]",
      "text/plain": [
       "<Figure size 1000x200 with 1 Axes>"
      ]
     },
     "metadata": {},
     "output_type": "display_data"
    }
   ],
   "source": [
    "xticks = range(0, 2**nqubits)\n",
    "xtick_labels = list(map(lambda x: format(x, \"0\"+str(nqubits)+\"b\"), xticks))\n",
    "bins = np.arange(0, 2**nqubits + 1) - 0.5\n",
    "\n",
    "plt.figure(figsize=(10,2))\n",
    "plt.xticks(xticks, xtick_labels, rotation=\"vertical\")\n",
    "plt.hist(data, bins=bins, color = \"chartreuse\", lw=0)\n",
    "#plt.savefig('hist_custom_sat.pdf')\n",
    "plt.show()"
   ]
  },
  {
   "cell_type": "code",
   "execution_count": null,
   "id": "0066f3b1-b739-4819-8661-ad8d1febaf90",
   "metadata": {},
   "outputs": [],
   "source": []
  }
 ],
 "metadata": {
  "jupytext": {
   "formats": "ipynb,py:light"
  },
  "kernelspec": {
   "display_name": "Python 3 (ipykernel)",
   "language": "python",
   "name": "python3"
  },
  "language_info": {
   "codemirror_mode": {
    "name": "ipython",
    "version": 3
   },
   "file_extension": ".py",
   "mimetype": "text/x-python",
   "name": "python",
   "nbconvert_exporter": "python",
   "pygments_lexer": "ipython3",
   "version": "3.9.0"
  }
 },
 "nbformat": 4,
 "nbformat_minor": 5
}
