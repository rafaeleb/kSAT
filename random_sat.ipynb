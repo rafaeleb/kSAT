{
 "cells": [
  {
   "cell_type": "code",
   "execution_count": 246,
   "id": "87ce0eda-7328-4fa8-b0c4-1170611f5b07",
   "metadata": {
    "tags": []
   },
   "outputs": [],
   "source": [
    "import numpy as np\n",
    "import math\n",
    "import random as rd\n",
    "from sympy.parsing.sympy_parser import parse_expr\n",
    "from sympy import Symbol, IndexedBase\n",
    "from sympy import *\n",
    "import re\n",
    "from scipy.stats import poisson\n",
    "from typing import Sequence, Tuple\n",
    "import matplotlib.pyplot as plt\n",
    "import tensorflow as tf\n",
    "import tensorflow_quantum as tfq\n",
    "import cirq\n",
    "from cirq.contrib.svg import SVGCircuit\n",
    "from tensorflow.keras import initializers"
   ]
  },
  {
   "cell_type": "markdown",
   "id": "ace61fd0-9b36-4a3b-868d-5ff4d674cea2",
   "metadata": {},
   "source": [
    "## k-SAT QAOA"
   ]
  },
  {
   "cell_type": "code",
   "execution_count": 275,
   "id": "1f571f77-42b4-4b75-b37e-9b103b84570c",
   "metadata": {},
   "outputs": [],
   "source": [
    "k = 3 #length of clauses\n",
    "n_var = 6 #number of variables\n",
    "nqubits = n_var #number fo qubits in the circuit"
   ]
  },
  {
   "cell_type": "code",
   "execution_count": 276,
   "id": "14beb512-64c4-44c4-908f-a392321d640f",
   "metadata": {},
   "outputs": [],
   "source": [
    "all_vars = [i for i in range(-n_var,n_var+1)]\n",
    "all_vars = [i for i in all_vars if i != 0]"
   ]
  },
  {
   "cell_type": "code",
   "execution_count": 277,
   "id": "6609ccf2-4bba-45de-a6e6-de48dffa9151",
   "metadata": {},
   "outputs": [],
   "source": [
    "r_by_k = {2 : 1, 3: 6.43, 4: 20.43, 6: 70.21, 8: 176.54, 10: 708.92, 16: 45425.2}\n",
    "\n",
    "def generate_instance(k: int, n: int) -> np.ndarray:\n",
    "    #generate an instance of random k-SAT with n variables in the satisfiability threshold\n",
    "    if not (r := r_by_k.get(k)):\n",
    "        raise ValueError(f\"k must be in {list(r_by_k)} (got {k})\")\n",
    "    m = poisson(r*n).rvs()\n",
    "    return np.random.choice(all_vars, size=(m, k))"
   ]
  },
  {
   "cell_type": "code",
   "execution_count": 278,
   "id": "36d18f9e-ec40-4737-a492-0c5818b7cb7d",
   "metadata": {},
   "outputs": [],
   "source": [
    "def dimacs_writer(dimacs_filename, cnf_array):\n",
    "    #writes the dimacs file with the CNF\n",
    "    cnf = cnf_array\n",
    "    cnf_length = len(cnf)\n",
    "    n_sat = len(cnf[0])\n",
    "    var_num = np.max(cnf) \n",
    "    with open(dimacs_filename, \"w\") as f:\n",
    "\n",
    "        f.write('c DIMACS file CNF '+str(n_sat)+'-SAT \\n')\n",
    "        f.write(\"p cnf {} {}\\n\".format(var_num, cnf_length))\n",
    "        \n",
    "        for i, clause in enumerate(cnf):\n",
    "            line = clause.tolist()\n",
    "            if i == cnf_length - 1:\n",
    "                s = ' '.join(str(x) for x in line)+' 0'\n",
    "                f.write(s)\n",
    "            else: \n",
    "                s = ' '.join(str(x) for x in line)+' 0 \\n'\n",
    "                f.write(s)"
   ]
  },
  {
   "cell_type": "code",
   "execution_count": 279,
   "id": "c32dd00f-f435-4ab6-85e3-7d11f6947cb1",
   "metadata": {},
   "outputs": [],
   "source": [
    "class Verifier():\n",
    "    #verifier from Qiskit page, takes a bit string and checks if cnf is satisfied\n",
    "    def __init__(self, dimacs_file):\n",
    "        with open(dimacs_file, 'r') as f:\n",
    "            self.dimacs = f.read()\n",
    "\n",
    "    def is_correct(self, guess):\n",
    "        # Convert characters to bools & reverse\n",
    "        guess = [bool(int(x)) for x in guess][::-1]\n",
    "        for line in self.dimacs.split('\\n'):\n",
    "            line = line.strip(' 0')\n",
    "            clause_eval = False\n",
    "            for literal in line.split(' '):\n",
    "                if literal in ['p', 'c']:\n",
    "                    # line is not a clause\n",
    "                    clause_eval = True\n",
    "                    break\n",
    "                if '-' in literal:\n",
    "                    literal = literal.strip('-')\n",
    "                    lit_eval = not guess[int(literal)-1]\n",
    "                else:\n",
    "                    lit_eval = guess[int(literal)-1]\n",
    "                clause_eval |= lit_eval\n",
    "            if clause_eval is False:\n",
    "                return False\n",
    "        return True"
   ]
  },
  {
   "cell_type": "code",
   "execution_count": 280,
   "id": "8f62a90b-f9d2-48f2-bee8-3853c3e862ef",
   "metadata": {},
   "outputs": [],
   "source": [
    "def generate_binary_strings(bit_count):\n",
    "    binary_strings = []\n",
    "    def genbin(n, bs=''):\n",
    "        if len(bs) == n:\n",
    "            binary_strings.append(bs)\n",
    "        else:\n",
    "            genbin(n, bs + '0')\n",
    "            genbin(n, bs + '1')\n",
    "\n",
    "    genbin(bit_count)\n",
    "    return binary_strings\n",
    "\n",
    "binary_strings = generate_binary_strings(nqubits)"
   ]
  },
  {
   "cell_type": "code",
   "execution_count": 281,
   "id": "cebf7ab8-d29a-4787-982e-082dc2bb7583",
   "metadata": {
    "tags": []
   },
   "outputs": [
    {
     "name": "stdout",
     "output_type": "stream",
     "text": [
      "000111\n",
      "100111\n"
     ]
    }
   ],
   "source": [
    "valid_keys = []\n",
    "dimacs_filename = \"random_cnf.dimacs\" \n",
    "\n",
    "while not valid_keys:\n",
    "    #only accepts satisfiable CNFs\n",
    "    inst = generate_instance(k, n_var)\n",
    "    dimacs_writer(dimacs_filename, inst)\n",
    "    v = Verifier('random_cnf.dimacs')\n",
    "    \n",
    "    for key in binary_strings:\n",
    "        if v.is_correct(key) == True:\n",
    "            print(key) \n",
    "            valid_keys.append(key)"
   ]
  },
  {
   "cell_type": "code",
   "execution_count": 282,
   "id": "aa14ba80-7d2f-48d8-afbc-1383108ca502",
   "metadata": {},
   "outputs": [],
   "source": [
    "with open('random_cnf.dimacs', 'r') as f:\n",
    "    dimacs_file = f.read()\n",
    "\n",
    "statement = []\n",
    "\n",
    "for line in dimacs_file.split('\\n'):\n",
    "    #make lists for each clause in the cnf file\n",
    "    \n",
    "    line = line.strip(' 0')\n",
    "    clause = []\n",
    "    for literal in line.split(' '):\n",
    "            if literal in ['p', 'c']:\n",
    "            # line is not a clause\n",
    "                break\n",
    "            else:\n",
    "                #print(literal)\n",
    "                clause.append(int(literal))\n",
    "    statement.append(clause)\n",
    "\n",
    "new_stat = [ele for ele in statement if ele != []]"
   ]
  },
  {
   "cell_type": "code",
   "execution_count": 283,
   "id": "419832bc-6b65-4d5e-8e0b-047af00dcf59",
   "metadata": {},
   "outputs": [],
   "source": [
    "#write all clauses symbollically, proceed with product and sum of Z terms\n",
    "\n",
    "Z = IndexedBase('Z')\n",
    "i= symbols('i', cls=Idx)\n",
    "\n",
    "all_clauses = []\n",
    "for i in range(len(new_stat)):\n",
    "    clauses_z = []\n",
    "    for literal in new_stat[i]:\n",
    "        #print(literal)\n",
    "        if literal < 0:\n",
    "            literal_exp = 1 - Z[abs(literal)]\n",
    "        else:\n",
    "            literal_exp = 1 + Z[abs(literal)]\n",
    "        clauses_z.append(literal_exp)\n",
    "    all_clauses.append(clauses_z)\n",
    "    \n",
    "clauses_list = []\n",
    "for clause in all_clauses:\n",
    "    clauses_list.append(expand(np.prod(clause)))\n",
    "    \n",
    "total_clause = np.sum(clauses_list)"
   ]
  },
  {
   "cell_type": "code",
   "execution_count": 284,
   "id": "b74bb04b-3331-449e-8d0b-bc7d90d0077a",
   "metadata": {},
   "outputs": [],
   "source": [
    "#an awkward way to get rid of powers of Z\n",
    "\n",
    "power_dict = {Z[1]**2 : 1, Z[2]**2 : 1, Z[3]**2 : 1, Z[4]**2 : 1, \n",
    "              Z[5]**2 : 1, Z[6]**2 : 1, Z[7]**2 : 1, Z[8]**2 : 1, Z[1]**3 : Z[1], \n",
    "              Z[2]**3 : Z[2], Z[3]**3 : Z[3], Z[4]**3 : Z[4], Z[5]**3 : Z[5], Z[6]**3 : Z[6], Z[7]**3 : Z[7]}"
   ]
  },
  {
   "cell_type": "code",
   "execution_count": 285,
   "id": "c07f68f0-715f-41ef-a681-5e5673935724",
   "metadata": {},
   "outputs": [],
   "source": [
    "total_clause = np.sum(clauses_list)\n",
    "total_clause = total_clause.subs(power_dict)"
   ]
  },
  {
   "cell_type": "code",
   "execution_count": 286,
   "id": "3aa6867c-11dd-4899-af5f-8002e7dbc05f",
   "metadata": {
    "tags": []
   },
   "outputs": [],
   "source": [
    "def clause_transformer(clause):\n",
    "    #critical element: takes a clause and maps it into a tuple containing the coeffcient and the \n",
    "    #indices for z operators which are going into the circuit and hamiltonian functions. It's not totally general, so needs to be checked\n",
    "    #for larger k and number of variables. So far seems to work ok\n",
    "    all_args = Add.make_args(clause)\n",
    "\n",
    "    crcs = []\n",
    "\n",
    "    for arg in all_args:\n",
    "        elem = str(arg)\n",
    "        if elem[0] == '-' and elem[1] == 'Z':\n",
    "            coef = -1\n",
    "            #print(coef)\n",
    "\n",
    "        if elem[0] == 'Z':\n",
    "            coef = 1\n",
    "            #print(coef)\n",
    "\n",
    "        if elem[0] == '-' and elem[1] != 'Z':\n",
    "            if elem[2].isdigit() == True:\n",
    "                coef = -int(str(elem[1])+str(elem[2]))\n",
    "            else:\n",
    "                coef = -int(elem[1])\n",
    "            #print(coef)\n",
    "\n",
    "        if elem[0].isdigit() == True:\n",
    "            if elem[1].isdigit() == True:\n",
    "                coef = int(str(elem[0])+str(elem[1]))\n",
    "                #print(coef)\n",
    "            else:\n",
    "                coef = int(str(elem[0]))\n",
    "                #print(coef)\n",
    "\n",
    "        zz_terms = re.findall(r\"\\[(\\d+)\\]\", elem)\n",
    "        zz_list = []\n",
    "        for elem in zz_terms:\n",
    "            zz_list.append(int(elem) - 1)\n",
    "        zz_list\n",
    "\n",
    "        if not zz_list:\n",
    "            crcs.append(coef)\n",
    "        else:\n",
    "            crcs.append((coef, zz_list))\n",
    "    \n",
    "    return crcs"
   ]
  },
  {
   "cell_type": "code",
   "execution_count": 287,
   "id": "61232e99-cdb9-4079-b02c-75d869a5daec",
   "metadata": {
    "tags": []
   },
   "outputs": [
    {
     "data": {
      "text/latex": [
       "$\\displaystyle - 2 {Z}_{1} {Z}_{2} {Z}_{4} - {Z}_{1} {Z}_{2} {Z}_{6} + {Z}_{1} {Z}_{2} - 2 {Z}_{1} {Z}_{3} + {Z}_{1} {Z}_{4} {Z}_{6} - 3 {Z}_{1} {Z}_{4} - 2 {Z}_{1} {Z}_{5} + 8 {Z}_{1} - 2 {Z}_{2} {Z}_{3} {Z}_{5} + {Z}_{2} {Z}_{4} {Z}_{5} - {Z}_{2} {Z}_{4} {Z}_{6} - {Z}_{2} {Z}_{5} - 2 {Z}_{2} {Z}_{6} + 3 {Z}_{2} - 2 {Z}_{3} {Z}_{6} + 2 {Z}_{3} - {Z}_{4} {Z}_{5} {Z}_{6} - 2 {Z}_{4} {Z}_{5} + {Z}_{4} {Z}_{6} - 2 {Z}_{4} - {Z}_{5} {Z}_{6} - 8 {Z}_{5} - 2 {Z}_{6} + 25$"
      ],
      "text/plain": [
       "-2*Z[1]*Z[2]*Z[4] - Z[1]*Z[2]*Z[6] + Z[1]*Z[2] - 2*Z[1]*Z[3] + Z[1]*Z[4]*Z[6] - 3*Z[1]*Z[4] - 2*Z[1]*Z[5] + 8*Z[1] - 2*Z[2]*Z[3]*Z[5] + Z[2]*Z[4]*Z[5] - Z[2]*Z[4]*Z[6] - Z[2]*Z[5] - 2*Z[2]*Z[6] + 3*Z[2] - 2*Z[3]*Z[6] + 2*Z[3] - Z[4]*Z[5]*Z[6] - 2*Z[4]*Z[5] + Z[4]*Z[6] - 2*Z[4] - Z[5]*Z[6] - 8*Z[5] - 2*Z[6] + 25"
      ]
     },
     "execution_count": 287,
     "metadata": {},
     "output_type": "execute_result"
    }
   ],
   "source": [
    "total_clause"
   ]
  },
  {
   "cell_type": "code",
   "execution_count": 288,
   "id": "7645ae7f-94b0-4350-9ceb-ec1657390624",
   "metadata": {},
   "outputs": [
    {
     "data": {
      "text/plain": [
       "[25,\n",
       " (-8, [4]),\n",
       " (-2, [3]),\n",
       " (-2, [5]),\n",
       " (2, [2]),\n",
       " (3, [1]),\n",
       " (8, [0]),\n",
       " (1, [0, 1]),\n",
       " (1, [3, 5]),\n",
       " (-1, [1, 4]),\n",
       " (-1, [4, 5]),\n",
       " (-3, [0, 3]),\n",
       " (-2, [0, 2]),\n",
       " (-2, [0, 4]),\n",
       " (-2, [1, 5]),\n",
       " (-2, [2, 5]),\n",
       " (-2, [3, 4]),\n",
       " (1, [0, 3, 5]),\n",
       " (1, [1, 3, 4]),\n",
       " (-1, [0, 1, 5]),\n",
       " (-1, [1, 3, 5]),\n",
       " (-1, [3, 4, 5]),\n",
       " (-2, [0, 1, 3]),\n",
       " (-2, [1, 2, 4])]"
      ]
     },
     "execution_count": 288,
     "metadata": {},
     "output_type": "execute_result"
    }
   ],
   "source": [
    "clause_to_circ = clause_transformer(total_clause)\n",
    "clause_to_circ"
   ]
  },
  {
   "cell_type": "code",
   "execution_count": 289,
   "id": "2ae6ff2b-5c9f-43ed-a6cf-32041acc916e",
   "metadata": {},
   "outputs": [],
   "source": [
    "qubits = []\n",
    "\n",
    "for i in range(nqubits):\n",
    "    qubits.append(cirq.GridQubit(0,i))        \n",
    "    \n",
    "qubits = list(reversed(qubits)) #don't know why\n",
    "all_qubits = [i for i in range(nqubits)]"
   ]
  },
  {
   "cell_type": "code",
   "execution_count": 290,
   "id": "5f23b343-7c59-4d6a-8f53-9e21414da97c",
   "metadata": {},
   "outputs": [],
   "source": [
    "def z_string_gates(z_inds, par):\n",
    "    #here we write z strings as a single parametrized z rotation and cnots\n",
    "    z_string = []\n",
    "    cnot_gates = []\n",
    "\n",
    "    pairs = list(zip([z_inds[0] for i in range(len(z_inds))], z_inds[1:]))\n",
    "\n",
    "    for pair in pairs:\n",
    "\n",
    "        cnot_gates.append(cirq.CNOT(qubits[pair[1]], qubits[pair[0]]))\n",
    "    z_string.append(cnot_gates)\n",
    "    z_string.append(cirq.rz(par).on(qubits[pair[0]]))\n",
    "    z_string.append(cnot_gates[len(cnot_gates) - 1::-1])\n",
    "    return z_string"
   ]
  },
  {
   "cell_type": "code",
   "execution_count": 291,
   "id": "42023def-6a7a-470f-9d9d-8a71989ad1f8",
   "metadata": {},
   "outputs": [],
   "source": [
    "def hamiltonian_circuit(circuit, qubits, par, clauses): \n",
    "    for elem in clauses:  \n",
    "        if (type(elem) is tuple) == False:\n",
    "            pass # ignoring the constant term in the Hamiltonian\n",
    "\n",
    "        else:\n",
    "            coef = elem[0]\n",
    "            z_inds = elem[1]\n",
    "            if len(z_inds) == 1:\n",
    "\n",
    "                circuit.append(cirq.rz(coef*par).on(qubits[z_inds[0]]))\n",
    "            else:\n",
    "\n",
    "                circuit.append(z_string_gates(z_inds,coef*par))\n",
    "    return circuit"
   ]
  },
  {
   "cell_type": "code",
   "execution_count": 292,
   "id": "b63f9ad5-1e67-44ca-a190-73fcdb06a18d",
   "metadata": {},
   "outputs": [],
   "source": [
    "def mixing_circuit(circuit, qubits, par):\n",
    "    for i in range(len(qubits)):\n",
    "        circuit.append(cirq.rx(par).on(qubits[i]))\n",
    "    return circuit"
   ]
  },
  {
   "cell_type": "code",
   "execution_count": 293,
   "id": "c03e75a3-65e3-42c6-b712-6921271c9da2",
   "metadata": {
    "tags": []
   },
   "outputs": [],
   "source": [
    "def cost_hamiltonian(qubits, clauses):\n",
    "    h = 0\n",
    "    for elem in clauses:\n",
    "        res = type(elem) is tuple  \n",
    "        if res == False:\n",
    "            for qubit in qubits:\n",
    "                pass\n",
    "                #circuit.append(cirq.I(qubit))\n",
    "        else:\n",
    "            coef = elem[0]\n",
    "            z_inds = elem[1]\n",
    "            h += coef*math.prod([cirq.Z(qubits[i]) for i in z_inds])\n",
    "    return h"
   ]
  },
  {
   "cell_type": "code",
   "execution_count": 294,
   "id": "dc630ee3-3036-42de-a4cf-8345c7830e97",
   "metadata": {},
   "outputs": [],
   "source": [
    "qaoa_circuit = cirq.Circuit()\n",
    "p = 4 #number of layers. When in doubt, stay on the lower side\n",
    "\n",
    "num_param = 2 * p \n",
    "parameters = symbols(\"q0:%d\" % num_param)\n",
    "\n",
    "#setting up the layers\n",
    "for i in range(p):\n",
    "    qaoa_circuit = hamiltonian_circuit(qaoa_circuit, qubits, parameters[2 * i], clause_to_circ)\n",
    "    qaoa_circuit = mixing_circuit(qaoa_circuit, qubits, parameters[2 * i + 1])"
   ]
  },
  {
   "cell_type": "code",
   "execution_count": 295,
   "id": "ce7399b0-e89e-49f0-a6f4-a42b9371b8e9",
   "metadata": {},
   "outputs": [],
   "source": [
    "#SVGCircuit(qaoa_circuit)"
   ]
  },
  {
   "cell_type": "code",
   "execution_count": 296,
   "id": "617f993b-b1db-4dbd-adcb-dcf936cd46e9",
   "metadata": {},
   "outputs": [
    {
     "data": {
      "text/plain": [
       "<tf.Variable 'UnreadVariable' shape=(8,) dtype=float32, numpy=\n",
       "array([0.00027239, 0.00089797, 0.0006687 , 0.0005635 , 0.00010019,\n",
       "       0.00092488, 0.00040429, 0.00062318], dtype=float32)>"
      ]
     },
     "execution_count": 296,
     "metadata": {},
     "output_type": "execute_result"
    }
   ],
   "source": [
    "cost = cost_hamiltonian(qubits, clause_to_circ)\n",
    "\n",
    "initial = cirq.Circuit()\n",
    "\n",
    "for qubit in qubits:\n",
    "    initial.append(cirq.H(qubit)) #applying Hadamard to all qubits before running circuit\n",
    "\n",
    "#setting up the model\n",
    "inputs = tfq.convert_to_tensor([initial])\n",
    "ins = tf.keras.layers.Input(shape = (), dtype = tf.dtypes.string)\n",
    "outs = tfq.layers.PQC(qaoa_circuit, cost)(ins)\n",
    "ksat = tf.keras.models.Model(inputs = ins, outputs = outs)\n",
    "opt = tf.keras.optimizers.Adam(learning_rate = 0.01)\n",
    "\n",
    "ksat.trainable_variables[0].assign([0.001 * rd.random() for i in range(2*p)]) #initializing angles with some small noise"
   ]
  },
  {
   "cell_type": "code",
   "execution_count": 297,
   "id": "6279ab6a-a456-43ba-bdf9-6a80516f143c",
   "metadata": {},
   "outputs": [
    {
     "name": "stdout",
     "output_type": "stream",
     "text": [
      "absolute value of (error_goal - error) is 0.086902e-0556489\r"
     ]
    }
   ],
   "source": [
    "losses = []\n",
    "error = 100\n",
    "error_goal = 0\n",
    "tol = 1e-6\n",
    "while abs(error_goal - error) > tol:\n",
    "    \n",
    "    error_goal = error    \n",
    "    \n",
    "    with tf.GradientTape() as tape:\n",
    "        error = ksat(inputs)\n",
    "    \n",
    "    grads = tape.gradient(error, ksat.trainable_variables)\n",
    "    opt.apply_gradients(zip(grads, ksat.trainable_variables))\n",
    "    error = error.numpy()[0,0]\n",
    "    losses.append(error)\n",
    "\n",
    "    print('absolute value of (error_goal - error) is ' + str(abs(error_goal - error)), end = '\\r')"
   ]
  },
  {
   "cell_type": "code",
   "execution_count": 298,
   "id": "5d5fdf24-90f4-48fb-9327-c07aad59483d",
   "metadata": {},
   "outputs": [
    {
     "data": {
      "image/png": "[encoded data removed]",
      "text/plain": [
       "<Figure size 600x200 with 1 Axes>"
      ]
     },
     "metadata": {},
     "output_type": "display_data"
    }
   ],
   "source": [
    "plt.figure(figsize=(6,2))\n",
    "plt.plot(losses, color = \"green\")\n",
    "plt.title(str(k)+'-SAT QAOA with '+str(n_var)+' variables')\n",
    "plt.xlabel(\"Epoch\")\n",
    "plt.ylabel(\"Loss\")\n",
    "plt.show()\n",
    "#plt.savefig(\"TSP_losses\")"
   ]
  },
  {
   "cell_type": "code",
   "execution_count": 299,
   "id": "e9876579-4d9d-4b21-ae29-884ac3919522",
   "metadata": {},
   "outputs": [],
   "source": [
    "def to_dec(x):\n",
    "    return int(\"\".join(str(i) for i in x), 2) "
   ]
  },
  {
   "cell_type": "code",
   "execution_count": 300,
   "id": "2c4821d4-aac7-4f1b-8a18-90f59297feaa",
   "metadata": {},
   "outputs": [
    {
     "name": "stdout",
     "output_type": "stream",
     "text": [
      "[<tf.Variable 'parameters:0' shape=(8,) dtype=float32, numpy=\n",
      "array([-0.07578827,  1.2814881 , -0.14793085,  1.0216005 , -0.23988032,\n",
      "        0.6630856 , -0.29822218,  0.3316801 ], dtype=float32)>]\n"
     ]
    }
   ],
   "source": [
    "params = ksat.trainable_variables\n",
    "print(params)\n",
    "\n",
    "sample_circuit = tfq.layers.AddCircuit()(inputs, append=qaoa_circuit)\n",
    "output = tfq.layers.Sample()(sample_circuit, symbol_names=parameters, symbol_values=params, repetitions = 1000)\n",
    "\n",
    "quantum_preds = []\n",
    "data = []\n",
    "for bits in output.values:\n",
    "    temp = []\n",
    "    data.append(to_dec(bits.numpy()))\n",
    "    for pos, bit in enumerate(bits):\n",
    "        if bit == 1:\n",
    "            temp.append(pos)\n",
    "    quantum_preds.append(temp)"
   ]
  },
  {
   "cell_type": "code",
   "execution_count": 301,
   "id": "686580d0-9cd8-4f14-b116-58ac1a2ae4bd",
   "metadata": {},
   "outputs": [
    {
     "data": {
      "text/plain": [
       "['000111', '100111']"
      ]
     },
     "execution_count": 301,
     "metadata": {},
     "output_type": "execute_result"
    }
   ],
   "source": [
    "valid_keys"
   ]
  },
  {
   "cell_type": "code",
   "execution_count": 302,
   "id": "fba32eb9-c332-4664-905c-be752b2ea5a2",
   "metadata": {},
   "outputs": [
    {
     "data": {
      "image/png": "[encoded data removed]",
      "text/plain": [
       "<Figure size 1500x200 with 1 Axes>"
      ]
     },
     "metadata": {},
     "output_type": "display_data"
    }
   ],
   "source": [
    "xticks = range(0, 2**nqubits)\n",
    "xtick_labels = list(map(lambda x: format(x, \"0\"+str(nqubits)+\"b\"), xticks))\n",
    "bins = np.arange(0, 2**nqubits + 1) - 0.5\n",
    "\n",
    "plt.figure(figsize=(15,2))\n",
    "plt.xticks(xticks, xtick_labels, rotation=\"vertical\")\n",
    "plt.hist(data, bins=bins, color = \"chartreuse\", lw=0)\n",
    "plt.savefig('hist_custom_sat.pdf')\n",
    "plt.show()\n"
   ]
  },
  {
   "cell_type": "code",
   "execution_count": null,
   "id": "e9391106-a648-4840-b981-78727beaa09b",
   "metadata": {},
   "outputs": [],
   "source": []
  }
 ],
 "metadata": {
  "jupytext": {
   "formats": "ipynb,py:light"
  },
  "kernelspec": {
   "display_name": "Python 3 (ipykernel)",
   "language": "python",
   "name": "python3"
  },
  "language_info": {
   "codemirror_mode": {
    "name": "ipython",
    "version": 3
   },
   "file_extension": ".py",
   "mimetype": "text/x-python",
   "name": "python",
   "nbconvert_exporter": "python",
   "pygments_lexer": "ipython3",
   "version": "3.9.0"
  }
 },
 "nbformat": 4,
 "nbformat_minor": 5
}
