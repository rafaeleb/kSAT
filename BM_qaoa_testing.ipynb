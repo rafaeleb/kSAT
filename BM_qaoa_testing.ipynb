{
 "cells": [
  {
   "cell_type": "code",
   "execution_count": 1,
   "id": "2a9a8d24-463b-4db6-b4b5-ff647465bf88",
   "metadata": {
    "tags": []
   },
   "outputs": [
    {
     "name": "stderr",
     "output_type": "stream",
     "text": [
      "2023-05-09 14:45:29.343667: W tensorflow/stream_executor/platform/default/dso_loader.cc:64] Could not load dynamic library 'libcudart.so.11.0'; dlerror: libcudart.so.11.0: cannot open shared object file: No such file or directory\n",
      "2023-05-09 14:45:29.343680: I tensorflow/stream_executor/cuda/cudart_stub.cc:29] Ignore above cudart dlerror if you do not have a GPU set up on your machine.\n",
      "2023-05-09 14:45:29.982627: W tensorflow/stream_executor/platform/default/dso_loader.cc:64] Could not load dynamic library 'libcuda.so.1'; dlerror: libcuda.so.1: cannot open shared object file: No such file or directory\n",
      "2023-05-09 14:45:29.982640: W tensorflow/stream_executor/cuda/cuda_driver.cc:269] failed call to cuInit: UNKNOWN ERROR (303)\n",
      "2023-05-09 14:45:29.982650: I tensorflow/stream_executor/cuda/cuda_diagnostics.cc:156] kernel driver does not appear to be running on this host (rafael-ThinkPad): /proc/driver/nvidia/version does not exist\n",
      "2023-05-09 14:45:29.982796: I tensorflow/core/platform/cpu_feature_guard.cc:151] This TensorFlow binary is optimized with oneAPI Deep Neural Network Library (oneDNN) to use the following CPU instructions in performance-critical operations:  AVX2 FMA\n",
      "To enable them in other operations, rebuild TensorFlow with the appropriate compiler flags.\n"
     ]
    }
   ],
   "source": [
    "import matplotlib.pyplot as plt\n",
    "import numpy as np\n",
    "import cirq\n",
    "from cirq.contrib.svg import SVGCircuit\n",
    "import random as rd\n",
    "from sympy import *\n",
    "import tensorflow as tf\n",
    "import tensorflow_quantum as tfq\n",
    "import math\n",
    "import re\n",
    "import itertools\n",
    "from numpy import linalg as LA\n",
    "from scipy.stats import poisson\n",
    "import time\n",
    "from random import choices\n",
    "from random import uniform\n",
    "import pandas as pd"
   ]
  },
  {
   "cell_type": "code",
   "execution_count": 17,
   "id": "1663f844-4367-424c-8010-2f80de323470",
   "metadata": {},
   "outputs": [],
   "source": [
    "k = 5 #length of clauses\n",
    "n_var = 5 #number of variables\n",
    "nqubits = n_var #number of qubits in the circuit\n",
    "all_vars = [i for i in range(-n_var,n_var+1)]\n",
    "all_vars = [i for i in all_vars if i != 0]"
   ]
  },
  {
   "cell_type": "markdown",
   "id": "4c117628-3791-4d80-8e2e-852952374e0f",
   "metadata": {},
   "source": [
    "## Definitions"
   ]
  },
  {
   "cell_type": "code",
   "execution_count": 18,
   "id": "6494b8b5-847b-4573-9232-ef1af5704fce",
   "metadata": {},
   "outputs": [],
   "source": [
    "r_by_k = {2 : 1, 3: 6.43, 4: 20.43, 5 : 45.7, 6: 70.21, 7: 123.2, 8: 176.54, 10: 708.92, 16: 45425.2}\n",
    "\n",
    "def generate_instance(k: int, n: int) -> np.ndarray:\n",
    "    #generate an instance of random k-SAT with n variables in the satisfiability threshold\n",
    "    if not (r := r_by_k.get(k)):\n",
    "        raise ValueError(f\"k must be in {list(r_by_k)} (got {k})\")\n",
    "    \n",
    "    m = poisson(r*n).rvs()\n",
    "    #return np.random.choice(all_vars, size=(m, k))\n",
    "    all_variables = []\n",
    "    all_signs = []\n",
    "    for i in range(m):\n",
    "        #all_signs.append([rd.choice(l) for i in range(k)])\n",
    "        all_variables.append(choices(all_vars, k = k))\n",
    "\n",
    "    all_variables = np.array(all_variables)\n",
    "    #all_signs = np.array(all_signs)\n",
    "    return all_variables"
   ]
  },
  {
   "cell_type": "code",
   "execution_count": 19,
   "id": "14037925-4136-47cd-801e-3fbe905773e8",
   "metadata": {
    "tags": []
   },
   "outputs": [],
   "source": [
    "def generate_binary_strings(bit_count):\n",
    "    binary_strings = []\n",
    "    \n",
    "    def genbin(n, bs=''):\n",
    "        if len(bs) == n:\n",
    "            binary_strings.append(bs)\n",
    "        else:\n",
    "            genbin(n, bs + '0')\n",
    "            genbin(n, bs + '1')\n",
    "\n",
    "    genbin(bit_count)\n",
    "    return binary_strings"
   ]
  },
  {
   "cell_type": "code",
   "execution_count": 20,
   "id": "c34cc462-5752-4f6f-8ae2-d454092736ce",
   "metadata": {
    "tags": []
   },
   "outputs": [],
   "source": [
    "def dimacs_writer(dimacs_filename, cnf_array):\n",
    "    #writes the dimacs file with the CNF\n",
    "    cnf = cnf_array\n",
    "    cnf_length = len(cnf)\n",
    "    n_sat = len(cnf[0])\n",
    "    var_num = np.max(cnf) \n",
    "    with open(dimacs_filename, \"w\") as f:\n",
    "\n",
    "        f.write('c DIMACS file CNF '+str(n_sat)+'-SAT \\n')\n",
    "        f.write(\"p cnf {} {}\\n\".format(var_num, cnf_length))\n",
    "        \n",
    "        for i, clause in enumerate(cnf):\n",
    "            line = clause.tolist()\n",
    "            if i == cnf_length - 1:\n",
    "                s = ' '.join(str(x) for x in line)+' 0'\n",
    "                f.write(s)\n",
    "            else: \n",
    "                s = ' '.join(str(x) for x in line)+' 0 \\n'\n",
    "                f.write(s)\n",
    "                \n",
    "class Verifier():\n",
    "    #verifier from Qiskit page, takes a bit string and checks if cnf is satisfied\n",
    "    def __init__(self, dimacs_file):\n",
    "        with open(dimacs_file, 'r') as f:\n",
    "            self.dimacs = f.read()\n",
    "\n",
    "    def is_correct(self, guess):\n",
    "        # Convert characters to bools & reverse\n",
    "        guess = [bool(int(x)) for x in guess][::-1]\n",
    "        for line in self.dimacs.split('\\n'):\n",
    "            line = line.strip(' 0')\n",
    "            clause_eval = False\n",
    "            for literal in line.split(' '):\n",
    "                if literal in ['p', 'c']:\n",
    "                    # line is not a clause\n",
    "                    clause_eval = True\n",
    "                    break\n",
    "                if '-' in literal:\n",
    "                    literal = literal.strip('-')\n",
    "                    lit_eval = not guess[int(literal)-1]\n",
    "                else:\n",
    "                    lit_eval = guess[int(literal)-1]\n",
    "                clause_eval |= lit_eval\n",
    "            if clause_eval is False:\n",
    "                return False\n",
    "        return True"
   ]
  },
  {
   "cell_type": "code",
   "execution_count": 21,
   "id": "6460646e-98d5-4c6a-8ffd-97e7e717b0ad",
   "metadata": {
    "tags": []
   },
   "outputs": [],
   "source": [
    "def my_gate(c, index):\n",
    "    g = c * cirq.Z.on(qubits[index]) + cirq.I.on(qubits[index])\n",
    "    return g\n",
    "\n",
    "def ham_layer(diagonal, circuit, qubits, par):\n",
    "    \n",
    "    l = cirq.DiagonalGate(diagonal)._decompose_(qubits)\n",
    "    l.pop(0)\n",
    "    for j, gate in enumerate(l):\n",
    "\n",
    "        if j % 2 == 0:\n",
    "            dictn = gate._json_dict_()\n",
    "            my_string = str(dictn['gate'])\n",
    "            my_other_string = str(dictn['qubits'])\n",
    "            number_p = re.findall(\"\\d+\\.\\d+\", my_string)\n",
    "            res_p = [eval(i) for i in number_p]\n",
    "            if '-' in my_string:\n",
    "                sign = -1\n",
    "            else:\n",
    "                sign = 1\n",
    "            \n",
    "            number_q = re.findall(r'\\d+', my_other_string)\n",
    "            res_q = [eval(i) for i in number_q]\n",
    "            kernel = sign*par*res_p[0]*np.pi\n",
    "            rzgate = cirq.rz(kernel).on(qubits[res_q[1]])\n",
    "            circuit.append(rzgate)\n",
    "        else:\n",
    "            circuit.append(gate)\n",
    "\n",
    "def mixing_circuit(circuit, qubits, par):\n",
    "    for i in range(len(qubits)):\n",
    "        circuit.append(cirq.rx(par).on(qubits[i]))\n",
    "    return circuit"
   ]
  },
  {
   "cell_type": "code",
   "execution_count": 22,
   "id": "2fa0f7c4-0f57-4608-ad45-646074ece8f0",
   "metadata": {
    "tags": []
   },
   "outputs": [],
   "source": [
    "def circuit_from_dimacs(dimacs_file, binary_strings, nqubits, qubits, layers, parameters):\n",
    "    \n",
    "    with open(dimacs_file, 'r') as f:\n",
    "            dimacs = f.read()\n",
    "    \n",
    "    unsat_list = []\n",
    "\n",
    "    for key in binary_strings:\n",
    "        guess = [bool(int(x)) for x in key][::-1]\n",
    "\n",
    "        clause_eval_list = []\n",
    "        counter = 0\n",
    "        for j, line in enumerate(dimacs.split('\\n')):\n",
    "\n",
    "            line = line.strip(' 0')\n",
    "            clause_eval = False\n",
    "\n",
    "            for literal in line.split(' '):\n",
    "                if literal in ['p', 'c']:\n",
    "                    #line is not a clause\n",
    "                    clause_eval = True\n",
    "                    break\n",
    "                if '-' in literal:\n",
    "                    literal = literal.strip('-')\n",
    "                    lit_eval = not guess[int(literal)-1]\n",
    "                else:\n",
    "                    lit_eval = guess[int(literal)-1]\n",
    "                clause_eval |= lit_eval\n",
    "            if j > 1:\n",
    "                counter += 1\n",
    "                clause_eval_list.append(clause_eval)\n",
    "        unsat_clauses = counter - sum(clause_eval_list)\n",
    "        unsat_list.append(unsat_clauses)\n",
    "\n",
    "    diagonal = unsat_list\n",
    "    combinations = [p for p in itertools.product([1, -1], repeat=nqubits)]\n",
    "\n",
    "    ops_list = []\n",
    "    for j, combination in enumerate(combinations):\n",
    "        ops_list.append((diagonal[j]/2**nqubits)*math.prod([my_gate(combination[i], i) for i in range(nqubits)]))\n",
    "\n",
    "    cost = np.sum(ops_list)\n",
    "    cost_m = cost.matrix()\n",
    "    gs_energy = np.real(min(LA.eig(cost_m)[0]))\n",
    "    \n",
    "    qaoa_circuit = cirq.Circuit()\n",
    "    num_param = 2 * layers\n",
    "\n",
    "    for i in range(layers):\n",
    "        ham_layer(diagonal, qaoa_circuit, qubits, parameters[2 * i])\n",
    "        mixing_circuit(qaoa_circuit, qubits, parameters[2 * i + 1])\n",
    "\n",
    "    return qaoa_circuit, cost"
   ]
  },
  {
   "cell_type": "markdown",
   "id": "6e64ff83-f1cd-4e3e-8e23-70677f2bbbce",
   "metadata": {},
   "source": [
    "## Training"
   ]
  },
  {
   "cell_type": "code",
   "execution_count": 23,
   "id": "396b64bd-a13e-47e3-9a72-c6319a961e0b",
   "metadata": {
    "tags": []
   },
   "outputs": [
    {
     "data": {
      "text/plain": [
       "['01010']"
      ]
     },
     "execution_count": 23,
     "metadata": {},
     "output_type": "execute_result"
    }
   ],
   "source": [
    "qubits = [cirq.GridQubit(0,i) for i in range(nqubits)]\n",
    "valid_keys = []\n",
    "dimacs_file = \"data/random_cnf_BM_temp.dimacs\" \n",
    "binary_strings = generate_binary_strings(nqubits)\n",
    "\n",
    "while not valid_keys:\n",
    "    #only accepts satisfiable CNFs\n",
    "    inst = generate_instance(k, n_var)\n",
    "    dimacs_writer(dimacs_file, inst)\n",
    "    v = Verifier(dimacs_file)\n",
    "\n",
    "    for key in binary_strings:\n",
    "        if v.is_correct(key) == True:\n",
    "            valid_keys.append(key)\n",
    "\n",
    "valid_keys"
   ]
  },
  {
   "cell_type": "code",
   "execution_count": 24,
   "id": "0b065080-d277-498e-8eb7-4bd223b0d8d8",
   "metadata": {
    "tags": []
   },
   "outputs": [
    {
     "name": "stdout",
     "output_type": "stream",
     "text": [
      "Valid keys are ['01010'] epoch is 1999 and absolute value of (ground state energy - error) is 1.5558444261550903\r"
     ]
    }
   ],
   "source": [
    "p = 4\n",
    "parameters = symbols(\"q0:%d\" % (2*p))\n",
    "qaoa_circuit, cost = circuit_from_dimacs(dimacs_file, binary_strings, nqubits, qubits, p, parameters)\n",
    "cost_m = cost.matrix()\n",
    "gs_energy = np.real(min(LA.eig(cost_m)[0]))\n",
    "\n",
    "initial = cirq.Circuit()\n",
    "\n",
    "for qubit in qubits:\n",
    "    initial.append(cirq.H(qubit)) #applying Hadamard to all qubits before running circuit\n",
    "\n",
    "inputs = tfq.convert_to_tensor([initial])\n",
    "ins = tf.keras.layers.Input(shape = (), dtype = tf.dtypes.string)\n",
    "outs = tfq.layers.PQC(qaoa_circuit, cost)(ins)\n",
    "ksat = tf.keras.models.Model(inputs = ins, outputs = outs)\n",
    "opt = tf.keras.optimizers.Adam(learning_rate = 1e-3)\n",
    "\n",
    "all_pars = [0.01*(-1)**(-i%2) for i in range(1,2*p+1)]\n",
    "ksat.trainable_variables[0].assign(all_pars)\n",
    "\n",
    "losses = []\n",
    "\n",
    "start = time.time()\n",
    "\n",
    "j=0\n",
    "epochs = 2e3\n",
    "\n",
    "while j < epochs:\n",
    "    with tf.GradientTape() as tape:\n",
    "        error = ksat(inputs)\n",
    "\n",
    "    grads = tape.gradient(error, ksat.trainable_variables)\n",
    "    opt.apply_gradients(zip(grads, ksat.trainable_variables))\n",
    "    error = error.numpy()[0,0]\n",
    "    losses.append(error)\n",
    "\n",
    "    print('Valid keys are '+str(valid_keys)+' epoch is '+str(j)+' and absolute value of (ground state energy - error) is ' + str(abs(gs_energy - error)), end = '\\r')\n",
    "\n",
    "    j += 1\n",
    "\n",
    "end = time.time()\n",
    "\n",
    "params = ksat.trainable_variables\n",
    "p_list = ksat.get_weights()[0]"
   ]
  },
  {
   "cell_type": "code",
   "execution_count": 25,
   "id": "a43cfac1-36fb-41cf-b804-758fb92abfd2",
   "metadata": {
    "tags": []
   },
   "outputs": [
    {
     "data": {
      "image/png": "[encoded data removed]",
      "text/plain": [
       "<Figure size 600x200 with 1 Axes>"
      ]
     },
     "metadata": {},
     "output_type": "display_data"
    }
   ],
   "source": [
    "plt.figure(figsize=(6,2))\n",
    "plt.plot(losses, color = \"green\")\n",
    "plt.axhline(y = gs_energy, color = 'black', linestyle = 'dashed')\n",
    "plt.title(str(k)+'-SAT QAOA with '+str(n_var)+' variables')\n",
    "plt.xlabel(\"Epoch\")\n",
    "plt.ylabel(\"Loss\")\n",
    "plt.show()"
   ]
  },
  {
   "cell_type": "code",
   "execution_count": 26,
   "id": "2cdb4318-a055-4838-b0a1-e2f6c9348d57",
   "metadata": {
    "tags": []
   },
   "outputs": [],
   "source": [
    "n_pars = np.arange(1,2*p+1)"
   ]
  },
  {
   "cell_type": "code",
   "execution_count": 27,
   "id": "444199db-a50c-466f-83eb-90ff0219f546",
   "metadata": {
    "tags": []
   },
   "outputs": [
    {
     "data": {
      "text/plain": [
       "[<matplotlib.lines.Line2D at 0x7f348e7bf700>]"
      ]
     },
     "execution_count": 27,
     "metadata": {},
     "output_type": "execute_result"
    },
    {
     "data": {
      "image/png": "[encoded data removed]",
      "text/plain": [
       "<Figure size 600x200 with 1 Axes>"
      ]
     },
     "metadata": {},
     "output_type": "display_data"
    }
   ],
   "source": [
    "plt.figure(figsize=(6,2))\n",
    "plt.plot(n_pars, p_list, color = \"green\", marker = 'o')"
   ]
  },
  {
   "cell_type": "code",
   "execution_count": 28,
   "id": "28d805a2-8823-4988-b901-db3cdcd958f1",
   "metadata": {},
   "outputs": [],
   "source": [
    "def to_dec(x):\n",
    "    return int(\"\".join(str(i) for i in x), 2) "
   ]
  },
  {
   "cell_type": "code",
   "execution_count": 29,
   "id": "2ce5a0e0-bfcf-4bae-9d9e-32d1e471c759",
   "metadata": {},
   "outputs": [],
   "source": [
    "sample_circuit = tfq.layers.AddCircuit()(inputs, append=qaoa_circuit)\n",
    "output = tfq.layers.Sample()(sample_circuit, symbol_names=parameters, symbol_values=params, repetitions = 2048)\n",
    "\n",
    "quantum_preds = []\n",
    "data = []\n",
    "for bits in output.values:\n",
    "    temp = []\n",
    "    data.append(to_dec(bits.numpy()))\n",
    "    for pos, bit in enumerate(bits):\n",
    "        if bit == 1:\n",
    "            temp.append(pos)\n",
    "    quantum_preds.append(temp)"
   ]
  },
  {
   "cell_type": "code",
   "execution_count": 30,
   "id": "e52f6fc9-fd6d-42a1-a6f3-46dd89e8ff1d",
   "metadata": {},
   "outputs": [
    {
     "data": {
      "text/plain": [
       "['01010']"
      ]
     },
     "execution_count": 30,
     "metadata": {},
     "output_type": "execute_result"
    }
   ],
   "source": [
    "valid_keys"
   ]
  },
  {
   "cell_type": "code",
   "execution_count": 31,
   "id": "ec6ec869-90c3-44c9-85f7-5dc8eff54fa4",
   "metadata": {
    "lines_to_next_cell": 0,
    "tags": []
   },
   "outputs": [
    {
     "data": {
      "image/png": "[encoded data removed]",
      "text/plain": [
       "<Figure size 1000x200 with 1 Axes>"
      ]
     },
     "metadata": {},
     "output_type": "display_data"
    }
   ],
   "source": [
    "xticks = range(0, 2**nqubits)\n",
    "xtick_labels = list(map(lambda x: format(x, \"0\"+str(nqubits)+\"b\"), xticks))\n",
    "bins = np.arange(0, 2**nqubits + 1) - 0.5\n",
    "\n",
    "plt.figure(figsize=(10,2))\n",
    "plt.xticks(xticks, xtick_labels, rotation=\"vertical\")\n",
    "plt.hist(data, bins=bins, color = \"chartreuse\", lw=0)\n",
    "#plt.savefig('hist_custom_sat.pdf')\n",
    "plt.show()"
   ]
  },
  {
   "cell_type": "code",
   "execution_count": null,
   "id": "2db1b04f-4f45-45e1-b77c-c18d938d1d97",
   "metadata": {},
   "outputs": [],
   "source": []
  }
 ],
 "metadata": {
  "kernelspec": {
   "display_name": "Python 3 (ipykernel)",
   "language": "python",
   "name": "python3"
  },
  "language_info": {
   "codemirror_mode": {
    "name": "ipython",
    "version": 3
   },
   "file_extension": ".py",
   "mimetype": "text/x-python",
   "name": "python",
   "nbconvert_exporter": "python",
   "pygments_lexer": "ipython3",
   "version": "3.9.0"
  }
 },
 "nbformat": 4,
 "nbformat_minor": 5
}
